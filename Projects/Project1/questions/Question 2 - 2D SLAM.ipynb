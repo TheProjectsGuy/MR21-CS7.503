{
 "cells": [
  {
   "cell_type": "markdown",
   "id": "separated-checkout",
   "metadata": {},
   "source": [
    "# Question 2:  Pose Graph Optimization for 2D SLAM"
   ]
  },
  {
   "cell_type": "markdown",
   "id": "bearing-connecticut",
   "metadata": {},
   "source": [
    "## Objective\n",
    "A robot is travelling in a oval trajectory. It is equipped with wheel odometry for odometry information and RGBD sensors for loop closure information. Due to noise in wheel odometry it generates a noisy estimate of the trajectory. Our task is to use loop closure pairs to correct the drift.\n",
    "\n",
    "We pose this problem as a graph optimization problem. In our graph, poses are the vertices and constraints are the edges. "
   ]
  },
  {
   "cell_type": "markdown",
   "id": "helpful-tactics",
   "metadata": {},
   "source": [
    "## Given: \n",
    "In practical scenarios, we'd obtain the following from our sensors after some post-processing:\n",
    "\n",
    "1. Initial position\n",
    "2. Odometry Contraints/Edges: This \"edge\" information tells us relative transformation between two nodes. These two nodes are consecutive in the case of Odometry but not in the case of Loop Closure (next point).\n",
    "3. Loop Closure Contraints/Edges: Remember that while optimizing, you have another kind of \"anchor\" edge as you've seen in 1. solved example.\n",
    "\n",
    "You have been given a text file named `edges.txt` (in `data/`) which has all the above 3 and it follows G2O's format (as explained in class, [link here](https://saishubodh.notion.site/G2O-Edge-Types-d9f9ff63c77c4ceeb84b1e49085004e3) ). The ground truth is `gt.txt`."
   ]
  },
  {
   "cell_type": "markdown",
   "id": "clear-poster",
   "metadata": {},
   "source": [
    "# Steps\n"
   ]
  },
  {
   "cell_type": "code",
   "execution_count": 147,
   "metadata": {},
   "outputs": [],
   "source": [
    "# Import everything\n",
    "import math\n",
    "import numpy as np\n",
    "from matplotlib import pyplot as plt\n",
    "from g2o_fhdlr.read_se2 import read_vertex, read_edges_olc\n",
    "from g2o_fhdlr.write_se2 import write_vertex"
   ]
  },
  {
   "cell_type": "markdown",
   "metadata": {},
   "source": [
    "## Part 1: Generate and Visualize Vertices\n",
    "\n",
    "Using the following motion model, you have to first generate the \"initialization\" for all the poses/vertices using the \"Given\" information. Just like in the 1D case.\n",
    "$$x_{k+1} = x_{k} + \\Delta x_{(k,k+1)} \\cos(\\theta_k) - \\Delta y_{(k,k+1)} \\sin(\\theta_k) \\\\\n",
    "y_{k+1} = y_{k} + \\Delta y_{(k,k+1)} \\cos(\\theta_k) + \\Delta x_{(k,k+1)} \\sin(\\theta_k) \\\\\n",
    "\\theta_{k+1} = \\theta_{k}+  \\Delta \\theta_{(k,k+1)} \\tag{3}$$\n",
    "\n",
    "Even the loop closure nodes are related by the above model, except that it need not necessarily be consecutive notes k and k+1.\n",
    "\n",
    "Save this initial trajectory as `edges-poses.g2o`.\n"
   ]
  },
  {
   "cell_type": "markdown",
   "metadata": {},
   "source": [
    "\n",
    "If you plot the initialized poses using odometry information, you need to get as the right plot below (this is the \"noisy trajectory\"): (Left one is the ground truth)\n",
    "![robot-poses-MR-P1.png](../misc/robot-poses-MR-P1.png)\n",
    "\n",
    "(Use `draw()` helper function or `g2o_viewer` or `EVO`)"
   ]
  },
  {
   "cell_type": "markdown",
   "metadata": {},
   "source": [
    "### Intuition for odometry\n",
    "\n",
    "The transformation was obtained using the following frame transformations. Assume that the current vertex/pose is $(x, y, \\theta) = \\{A\\}$ and the transform of $(\\Delta x,\\Delta y,\\Delta \\theta)$ (local to $\\{A\\}$) yield $\\{B\\}$. We're interested in knowing the frame $\\{B\\}$ in the global frame $\\{O\\}$ (in which all vertices, like $\\{A\\}$ are described). This is done using (trigonometric angles are abbreviated)\n",
    "\n",
    "$$\n",
    "^{O}_{B}\\textup{T} = ^{O}_{A}\\textup{T} \\; ^{A}_{B}\\textup{T} = \\begin{bmatrix}\n",
    "c\\theta & -s\\theta & x \\\\\n",
    "s\\theta & c\\theta & y \\\\\n",
    "0 & 0 & 1\n",
    "\\end{bmatrix} \\; \\begin{bmatrix}\n",
    "c\\Delta\\theta & -s\\Delta\\theta & \\Delta x \\\\\n",
    "s\\Delta\\theta & c\\Delta\\theta & \\Delta y \\\\\n",
    "0 & 0 & 1\n",
    "\\end{bmatrix} = \\begin{bmatrix}\n",
    "c(\\theta+\\Delta\\theta) & -s(\\theta+\\Delta\\theta) & x + \\Delta x \\, c\\theta - \\Delta y \\, s\\theta \\\\\n",
    "s(\\theta+\\Delta\\theta) & c(\\theta+\\Delta\\theta) & y + \\Delta x \\, s\\theta + \\Delta y \\, c\\theta \\\\\n",
    "0 & 0 & 1\n",
    "\\end{bmatrix}\n",
    "$$\n",
    "\n",
    "This gives $\\{B\\} = (x + \\Delta x \\, c\\theta - \\Delta y \\, s\\theta \\;,\\; y + \\Delta x \\, s\\theta + \\Delta y \\, c\\theta \\;,\\; \\theta+\\Delta\\theta)$\n",
    "\n",
    "We will read the starting vertex and odometry edges, then construct the resulting vertices, then save everything in a file.\n"
   ]
  },
  {
   "cell_type": "markdown",
   "metadata": {},
   "source": [
    "### Reading the files\n",
    "\n",
    "Set the `file_mea` and `file_gt` variables as path to measurement (odometry) and ground truth vertices file."
   ]
  },
  {
   "cell_type": "code",
   "execution_count": 148,
   "id": "elegant-laptop",
   "metadata": {},
   "outputs": [],
   "source": [
    "# Set variables\n",
    "file_mea = \"./../data/edges.txt\"   # File containing measurement data\n",
    "file_gt = \"./../data/gt.txt\"    # File containing ground truth\n",
    "st_vertex = 0   # Starting vertex (also assumed fixed)"
   ]
  },
  {
   "cell_type": "code",
   "execution_count": 149,
   "metadata": {},
   "outputs": [],
   "source": [
    "# Read starting vertex\n",
    "stv = read_vertex(file_mea, True)[st_vertex]\n",
    "# Read odometry and loop closure constraints\n",
    "odom_c, lc_c = read_edges_olc(file_mea)\n",
    "# Read the ground truth\n",
    "vgt = read_vertex(file_gt, True)\n",
    "x_gt = vgt[:,1:4]   # Ground truth poses"
   ]
  },
  {
   "cell_type": "code",
   "execution_count": 150,
   "metadata": {},
   "outputs": [],
   "source": [
    "def motion_model(u_vals, x_vals):\n",
    "    \"\"\"\n",
    "    Motion model of the robot. Returns new 'x' (states) given the\n",
    "    previous state 'x_vals' and the control action 'u_vals'    \n",
    "\n",
    "    Parameters:\n",
    "    - u_vals: [dx, dy, dth]:    Control action\n",
    "    - x_vals: [x, y, th]:       Current (to-be-previous) state\n",
    "\n",
    "    Returns:\n",
    "    - nx_vals: [nx, ny, nth]:   New (to-be-current) state\n",
    "    \"\"\"\n",
    "    dx, dy, dth = u_vals\n",
    "    x, y, th = x_vals\n",
    "    nx = x + dx * np.cos(th) - dy * np.sin(th)\n",
    "    ny = y + dx * np.sin(th) + dy * np.cos(th)\n",
    "    nth = th + dth\n",
    "    nx_vals = np.array([nx, ny, nth])\n",
    "    return nx_vals\n"
   ]
  },
  {
   "cell_type": "code",
   "execution_count": 151,
   "metadata": {},
   "outputs": [],
   "source": [
    "# All processing (for get x_mea from odom measurements)\n",
    "X0 = stv[1:4]  # First pose\n",
    "x_mea = []  # Collection of pose\n",
    "u_mea = []  # Store the measured odometry\n",
    "x_mea.append(X0)\n",
    "# Generate odometry\n",
    "for p, tf, ci in odom_c:\n",
    "    u_mea.append(tf)    # Record odometry\n",
    "    # New X value using motion model\n",
    "    nx_vals = motion_model(tf, x_mea[-1])\n",
    "    x_mea.append(nx_vals)\n",
    "# Convert to numpy arrays\n",
    "u_mea = np.array(u_mea) # Odometry (measurements)\n",
    "x_mea = np.array(x_mea) # State (measurements)"
   ]
  },
  {
   "cell_type": "markdown",
   "metadata": {},
   "source": [
    "### Visualizing data\n",
    "\n",
    "The `draw` function is modified to use [quiver](https://matplotlib.org/stable/api/_as_gen/matplotlib.pyplot.quiver.html) and plot. It also allows us to handle subplots externally."
   ]
  },
  {
   "cell_type": "code",
   "execution_count": 152,
   "metadata": {},
   "outputs": [],
   "source": [
    "# A function to visualize the data\n",
    "def draw(x_vals):\n",
    "    \"\"\"\n",
    "    Draw the 'x' state values. x_vals = [x, y, th] array\n",
    "    \"\"\"\n",
    "    x, y, th = x_vals[:, 0], x_vals[:, 1], x_vals[:, 2]\n",
    "    u, v = np.cos(th), np.sin(th)\n",
    "    plt.plot(x, y, '.')\n",
    "    plt.quiver(x, y, u, v)\n",
    "    plt.plot(x[0], y[0], 'rx', label=\"start\")\n",
    "    plt.plot(x[-1], y[-1], 'gx', label=\"end\")"
   ]
  },
  {
   "cell_type": "code",
   "execution_count": 153,
   "metadata": {},
   "outputs": [
    {
     "data": {
      "image/png": "[encoded data removed]",
      "text/plain": [
       "<Figure size 1080x504 with 2 Axes>"
      ]
     },
     "metadata": {
      "needs_background": "light"
     },
     "output_type": "display_data"
    }
   ],
   "source": [
    "# Show data\n",
    "plt.figure(1, (15, 7))\n",
    "plt.subplot(121)\n",
    "plt.title(\"Ground Truth\")\n",
    "draw(x_gt)\n",
    "plt.subplot(122)\n",
    "plt.title(\"Odometry Measurement\")\n",
    "draw(x_mea)"
   ]
  },
  {
   "cell_type": "markdown",
   "metadata": {},
   "source": [
    "**Interpretation**\n",
    "\n",
    "The starting point is shown by red cross, ending point by green cross. The headings are shown as arrows at every point.\n",
    "\n",
    "It appears that there are some angle jumps in the data. This could be because of the noise in IMU (which was probably used for heading). This can be noticed as sudden angle changes in the following vertex transitions (check the ground truth file)\n",
    "\n",
    "1. `29` to `30` where the angle goes from 90 to 270 (approx): This is seen in the inner right\n",
    "2. `59` to `60` where the angle goes from 0 to 270 (approx): This is seen in the top left corner (as an outlier down arrow). The points are (nearly) coincident as well\n",
    "3. `69` to `70` where the angle goes from 80 to -90 (approx): This is seen in the left\n",
    "4. `109` to `110` where the angle goes from 80 to 270 (approx): This is seen in the outer right\n",
    "5. `118` to `119` where the angle goes from 345 to 175 (approx): This is seen in the top right corner (as the end point has arrows facing the opposite side)\n",
    "\n",
    "These angular errors are mostly $180^\\circ$ or $90^\\circ$ offsets"
   ]
  },
  {
   "cell_type": "markdown",
   "metadata": {},
   "source": [
    "### Writing to file\n",
    "\n",
    "Set the `file_name` variable appropriately"
   ]
  },
  {
   "cell_type": "code",
   "execution_count": 154,
   "metadata": {},
   "outputs": [],
   "source": [
    "# Set variables\n",
    "file_name = \"edges-poses.g2o\"\n"
   ]
  },
  {
   "cell_type": "code",
   "execution_count": 155,
   "metadata": {},
   "outputs": [],
   "source": [
    "# Write to file\n",
    "write_vertex(file_name, x_mea)"
   ]
  },
  {
   "cell_type": "markdown",
   "id": "compatible-hearts",
   "metadata": {},
   "source": [
    "## Part 2\n",
    "\n",
    "Now calculate the residual and the Jacobian and update your parameters using LM.\n",
    "\n",
    "Use LM algorithm. Regarding Jacobian calculation, you can use `jax`'s `jacobian` as part of your main code. However, you still have to separately calculate it analytically and verify if it matches with `jax`'s `jacobian` using frobenius norm `frobNorm()`). Calculation and verification is compulsory, but it is your choice to use whichever as part of your optimization. Use whichever is faster. You can also visualise your Jacobian and see the structure of the matrix (just use `plt.imshow`).\n"
   ]
  },
  {
   "cell_type": "markdown",
   "metadata": {},
   "source": [
    "\n",
    "**Regarding LM iterations, stopping criterion, information matrix values.**\n",
    "\n",
    "1. As your iterations proceed, you have to print relevant information (iteration number and error value: [$F = \\frac{1}{2}  \\mathbf{f}^{\\top} \\mathbf{\\Omega} \\mathbf{f} $; notes on non-linear LS](https://saishubodh.notion.site/From-linear-algebra-to-non-linear-weighted-least-squares-optimization-13cf17d318be4d45bb8577c4d3ea4a02#32832dee7d6c4ab49581463d9b784f21)) at every step.\n",
    "\n",
    "2. You have to show the plots (ground truth, noisy & optimized: all 3 in a single plot) at every 10 steps or so.\n",
    "\n",
    "3. You could start with information values of 500 for odom edges, 700 for loop closure edges, 1000 for anchor edge (same for all dimensions). However, you have to _heavily_ experiment with these values. (Given that you somehow know loop closure information is way more reliable than odometry.). At the end of your experimentation, your error $F = \\frac{1}{2}  \\mathbf{f}^{\\top} \\mathbf{\\Omega} \\mathbf{f} $ should be < 40. Explain your experimentation in detail using tables/plots etc if necessary.\n",
    "    \n",
    "Do not worry if you're not getting a perfect trajectory. Our parametrization was oversimplified for the sake of this project. With that being said, it is possible to get the error down to < 40 and make it at least look like an oval shaped trajectory, even if it doesn't perfectly resemble the ground truth. However, using `g2o` (seen later on), you will be getting a close to ground truth trajectory."
   ]
  },
  {
   "cell_type": "markdown",
   "id": "acute-swift",
   "metadata": {},
   "source": [
    "**Tip**\n",
    "\n",
    "Be sure to make your code modular and implement this in various stages. It will help you debug errors. Feel free to create helper functions in other files, just be sure to submit those as well. \n",
    "\n",
    "You are free to optimise your code using numba/Jax/torch if you wish, just ensure that you are not using any built in functions for any of the steps. It is only compulsory to verify your Jacobian using Jax."
   ]
  },
  {
   "cell_type": "markdown",
   "metadata": {},
   "source": [
    "### Initial understanding or Intuition\n",
    "\n",
    "This section contains the explanation for everything to be done in this part. The following is known\n",
    "- There are `119` odometry constraints (from `odom_c` variable)\n",
    "- There are `20` loop closure constraints (from `lc_c` variable)\n",
    "- There is `1` constraint for the starting position to be $0$ (fixed point)\n",
    "- There are `120` vertices (each vertex has `3` points) as observed through the shape of `x_mea`\n",
    "\n",
    "The remainder of this section contains a brief of what is to be done (no code). Code will be in the next section.\n"
   ]
  },
  {
   "cell_type": "markdown",
   "metadata": {},
   "source": [
    "#### Residual Vector\n",
    "\n",
    "This is a vector of constraints based on motion model. Note that each constraint is actually three equations (one each for $x, y, \\theta$). The constraint equations are obtained using odometry and loop closure constraints. Say a constraint relates the state / vertex $\\mathbf{x}_i$ to vertex $\\mathbf{x}_j$ through the odometry / control action $\\mathbf{u}_{(i,j)}$ (note that if $j = i+1$ then it's an odometry constraint, else it's a loop closure constraint) and the motion model $\\textup{mm}(\\mathbf{u}, \\mathbf{x})$. The constraint equation for the vertex $i$ related to vertex $j$ is given by\n",
    "\n",
    "$$\n",
    "\\textup{CE}(\\mathbf{x}_i, \\mathbf{x}_j; \\mathbf{u}_{(i, j)}) = \\begin{bmatrix}\n",
    "\\textup{mm}(\\mathbf{u}_{(i, j)}, \\mathbf{x}_i) - \\mathbf{x}_j\n",
    "\\end{bmatrix}_{3, 1} = \\begin{bmatrix}\n",
    "x_i + u_{x:i,j} \\, c\\theta_i - u_{y:i,j} \\, s\\theta_i  -  x_j \\\\\n",
    "y_i + u_{x:i,j} \\, s\\theta_i + u_{y:i,j} \\, c\\theta_i  -  y_j \\\\\n",
    "\\theta_i + u_{\\theta:i,j}  -  \\theta_j\n",
    "\\end{bmatrix}\n",
    "$$\n",
    "\n",
    "The residual vector (which is a vector of all constraint equations) will consist of three parts: **odometry** (which are `119` constraints), **loop closure** (which are `20` constraints) and **zero start** (which is `1` constraint). Note that each constraint is actually `3` equations. So we have $3 \\times (119 + 20 + 1) = 420$ equations (rows in this residual vector). We have `120` vertices to finally obtain, which means $3 \\times 120 = 360$ variables. The residual vector is given below\n",
    "\n",
    "$$\n",
    "\\mathbf{v} = \\begin{bmatrix}\n",
    "\\left.\\begin{matrix}\n",
    "\\textup{CE}(\\mathbf{x}_0, \\mathbf{x}_1; \\mathbf{u}_0) \\\\\n",
    "\\textup{CE}(\\mathbf{x}_1, \\mathbf{x}_2; \\mathbf{u}_1) \\\\\n",
    "\\vdots \\\\\n",
    "\\textup{CE}(\\mathbf{x}_i, \\mathbf{x}_{i+1}; \\mathbf{u}_i) \\\\\n",
    "\\vdots \\\\\n",
    "\\textup{CE}(\\mathbf{x}_{118}, \\mathbf{x}_{119}; \\mathbf{u}_{118})\n",
    "\\end{matrix}\\right\\} &\\textup{Odom} \\rightarrow n_{o} \\\\\n",
    "\n",
    "\\left.\\begin{matrix}\n",
    "\\textup{CE}(\\mathbf{x}_0, \\mathbf{x}_{80}; \\mathbf{u}_{(0, 80)}) \\\\\n",
    "\\textup{CE}(\\mathbf{x}_2, \\mathbf{x}_{82}; \\mathbf{u}_{(2, 82)}) \\\\\n",
    "\\vdots \\\\\n",
    "\\textup{CE}(\\mathbf{x}_{2i}, \\mathbf{x}_{80 + 2i}; \\mathbf{u}_{(2i, 80+2i)}) \\\\\n",
    "\\vdots \\\\\n",
    "\\textup{CE}(\\mathbf{x}_{38}, \\mathbf{x}_{118}; \\mathbf{u}_{(38, 118)})\n",
    "\\end{matrix}\\right\\} &\\textup{LC} \\rightarrow n_{l} \\\\\n",
    "\n",
    "\\left.\\begin{matrix}\n",
    "\\mathbf{x}_0 - \\mathbf{0}\n",
    "\\end{matrix}\\right\\} &\\textup{Zero} \\rightarrow 1\n",
    "\\end{bmatrix}_{3(n_o+n_l+1), 1 = (420, 1)} =\n",
    "\\mathbf{v}_{(420, 1)}\n",
    "$$\n",
    "\n",
    "Remember that as described before, each constraint equation is actually $3$ rows, so $\\mathbf{v}$ becomes a $(420, 1)$ vector parameterized by states and constraints.\n"
   ]
  },
  {
   "cell_type": "markdown",
   "metadata": {},
   "source": [
    "#### Error Value or Cost\n",
    "\n",
    "The cost is computed through the residual vector above. It is a **scalar value**. It's the norm computed as follows\n",
    "\n",
    "$$ \\textup{L} = \\frac{1}{2} \\; \\mathbf{v}^\\top \\mathbf{\\Sigma}^{-1} \\mathbf{v} = \\frac{1}{2} \\; \\mathbf{v}^\\top \\mathbf{\\Omega} \\mathbf{v} $$\n",
    "\n",
    "The vector $\\mathbf{v}$ is a $(420, 1)$ element _residual vector_ described above. The matrix $\\mathbf{\\Omega}$, which is of shape $(420, 420)$, can be thought of as a certainty matrix (showing the certainty of each of the rows in $\\mathbf{v}$). This is computed as follows\n",
    "\n",
    "1. We first assume that every element in $\\mathbf{v}$ (which is a row of constraint) is independent from another. This means that the off-diagonal terms of a covariance matrix, denoted by $\\mathbf{\\Sigma}$, of $\\mathbf{v}$ are $0$. The inverse of this covariance matrix is $\\mathbf{\\Omega}$. The inverse is same as inverting the diagonal elements in this case.\n",
    "2. Since $\\mathbf{\\Omega}$ is a diagonal matrix, it can be constructed by a vector. Let the vector be $\\mathbf{\\lambda}$.\n",
    "\n",
    "    The vector $\\mathbf{\\lambda}$ is given by\n",
    "\n",
    "    $$\n",
    "    \\mathbf{\\lambda} = \\begin{bmatrix}\n",
    "    \\left.\\begin{matrix}\n",
    "    \\mathbf{s}_{0} \\\\\n",
    "    \\mathbf{s}_{1} \\\\\n",
    "    \\vdots \\\\\n",
    "    \\mathbf{s}_{i} \\\\\n",
    "    \\vdots \\\\\n",
    "    \\mathbf{s}_{118} \\\\\n",
    "    \\end{matrix}\\right\\} &\\textup{Odom} \\rightarrow n_o \\\\\n",
    "    \\left.\\begin{matrix}\n",
    "    \\mathbf{s}_{0, 80} \\\\\n",
    "    \\mathbf{s}_{2, 82} \\\\\n",
    "    \\vdots \\\\\n",
    "    \\mathbf{s}_{2i, 80+2i} \\\\\n",
    "    \\vdots \\\\\n",
    "    \\mathbf{s}_{38, 118} \\\\\n",
    "    \\end{matrix}\\right\\} &\\textup{LC} \\rightarrow n_l \\\\\n",
    "    \\left.\\begin{matrix}\n",
    "    \\mathbf{s}_{zero}\n",
    "    \\end{matrix}\\right\\} &\\textup{Zero} \\rightarrow 1\n",
    "    \\end{bmatrix}_{3(n_o + n_l + 1), 1 = (420, 1)} = \\mathbf{\\lambda}_{(420, 1)}\n",
    "    $$\n",
    "\n",
    "    Note that each row shown here is actually `3` rows. The matrix $\\mathbf{\\Omega}$ can be calculated using\n",
    "\n",
    "    $$ \\mathbf{\\Omega} = \\textup{diag}(\\mathbf{\\lambda})_{(420, 420)} $$\n",
    "\n",
    "Another thing to note is that since the off-diagonal terms are $0$: $\\mathbf{\\Omega}^\\top = \\mathbf{\\Omega}$.\n",
    "\n",
    "Therefore, the cost is given by\n",
    "\n",
    "$$ \\textup{L}_{(1, 1)} = \\frac{1}{2} \\; \\left ( \\mathbf{v}^\\top \\right )_{(1, 420)} \\left ( \\mathbf{\\Omega} \\right )_{(420, 420)} \\left ( \\mathbf{v} \\right )_{(420, 1)} $$\n",
    "\n",
    "Also, for the sake of this tutorial, further simplification is assumed\n",
    "- Values in odometry given by $\\mathbf{s}_{i}$ are equal for all $i$. They're $500$ in the file `edges.txt`. This has to be extended `3` times (one for each of $x, y, \\theta$ constraint equation)\n",
    "- Values in loop closure given by $\\mathbf{s}_{2i, 80+2i}$ are equal for all $i$. They're $700$ in the file `edges.txt`. This has to be extended `3` times (one for each of $x, y, \\theta$ constraint equation)\n",
    "- The value $\\mathbf{s}_{zero}$ indicates the confidence of zero condition (which should be very high). It's assumed to be $1000$ here. This has to be extended `3` times (one for each of $x, y, \\theta$ constraint equation)\n",
    "\n",
    "The above numbers are experimented upon."
   ]
  },
  {
   "cell_type": "markdown",
   "metadata": {},
   "source": [
    "#### Jacobian Matrix\n",
    "\n",
    "The Jacobian matrix is calculated on the _residual vector_ for every state $\\mathbf{x}$. The jacobian matrix is given by\n",
    "\n",
    "$$\n",
    "\\mathbf{J} = \\frac{\\partial \\mathbf{v}}{\\partial \\mathbf{x}} = \\begin{bmatrix}\n",
    "\\mathit{J}_{0, 0} & \\mathit{J}_{0, 1} & \\cdots & \\mathit{J}_{0, 120} \\\\\n",
    "\\mathit{J}_{1, 0} & \\mathit{J}_{1, 1} & \\cdots & \\mathit{J}_{1, 120} \\\\\n",
    "\\vdots & \\vdots & \\ddots & \\vdots \\\\\n",
    "\\mathit{J}_{140, 0} & \\mathit{J}_{140, 1} & \\cdots & \\mathit{J}_{140, 120} \\\\\n",
    "\\end{bmatrix}_{(3 \\times 140, 3 \\times 120) = (420, 360)}\n",
    "$$\n",
    "\n",
    "Note that the derivative uses [numerator layout convention](https://en.wikipedia.org/wiki/Matrix_calculus#Numerator-layout_notation). Also note that each $\\mathit{J}$ is actually a $3, 3$ matrix which is given by\n",
    "\n",
    "$$ \\mathit{J}_{l, m} = \\frac{\\partial \\mathbf{v}_l}{\\partial \\mathbf{x}_m} $$\n",
    "\n",
    "This will depend based on $l$ being in odometry, loop closure or the zero constraint. Not that the vector $\\mathbf{x}$ is actually given by\n",
    "\n",
    "$$\n",
    "\\mathbf{x} = \\left [ \\mathbf{x}_0, \\mathbf{x}_1, \\mathbf{x}_2,  \\cdots \\mathbf{x}_{119} \\right ]^\\top = \\begin{bmatrix}\n",
    "\\left.\\begin{matrix}\n",
    "x_0 \\\\\n",
    "y_0 \\\\\n",
    "\\theta_0\n",
    "\\end{matrix}\\right\\} \\mathbf{x}_0 \\\\\n",
    "\\left.\\begin{matrix}\n",
    "x_1 \\\\\n",
    "y_1 \\\\\n",
    "\\theta_1\n",
    "\\end{matrix}\\right\\} \\mathbf{x}_1 \\\\\n",
    "\\vdots \\\\\n",
    "\\left.\\begin{matrix}\n",
    "x_i \\\\\n",
    "y_i \\\\\n",
    "\\theta_i\n",
    "\\end{matrix}\\right\\} \\mathbf{x}_i \\\\\n",
    "\\vdots \\\\\n",
    "\\left.\\begin{matrix}\n",
    "x_{119} \\\\\n",
    "y_{119} \\\\\n",
    "\\theta_{119}\n",
    "\\end{matrix}\\right\\} \\mathbf{x}_{119} \\\\\n",
    "\\end{bmatrix}_{(3 \\times 120, 1) = (360, 1)}\n",
    "$$\n",
    "\n",
    "This is basically the vector that we want to estimate. It is also clear from the definition of $\\mathit{J}_{l,m}$ that many elements in $\\mathbf{J}$ are $0$ (that is, $\\mathbf{J}$ is sparse).\n"
   ]
  },
  {
   "cell_type": "markdown",
   "metadata": {},
   "source": [
    "#### Levenberg Optimization\n",
    "\n",
    "This is the method of updating the state vector $\\mathbf{x}$ (described above) using the following iterative update strategy\n",
    "\n",
    "$$ \\delta x = - \\left ( \\mathbf{J^\\top \\cdot \\Omega \\cdot J} + \\alpha \\mathbf{I} \\right )^{-1} \\cdot \\mathbf{J^\\top \\cdot \\Omega^\\top \\cdot v} $$\n",
    "\n",
    "Where $\\alpha$ is a damping parameter and $\\mathbf{I}$ is the identity matrix (its shape is $360, 360$ in our case).\n"
   ]
  },
  {
   "cell_type": "markdown",
   "metadata": {},
   "source": [
    "### Implementing functions\n",
    "\n",
    "The functions that'll be needed in Levenberg optimization method. Ensure that the above cells have the data loaded.\n"
   ]
  },
  {
   "cell_type": "code",
   "execution_count": 156,
   "metadata": {},
   "outputs": [],
   "source": [
    "# Calculate the residual vector\n",
    "def residual_vector(x_vect, c_odom, c_lc):\n",
    "    \"\"\"\n",
    "    Calculates and returns the residual vector 'v'\n",
    "\n",
    "    Parameters:\n",
    "    - x_vect: np.ndarray    shape: ns, 3\n",
    "        The state vector (as a matrix). Each row should be [x, y, th]\n",
    "    - c_odom: list[(i, j), u_ij, s]     len: n_o\n",
    "        Odometry constraints relating state 'i' to state 'j',\n",
    "        represented as edges where j = i + 1.\n",
    "    - c_lc: list[(i, j), u_ij, s]       len: n_l\n",
    "        Loop closure constraints relating the state 'i' to state 'j',\n",
    "        represented as edges ('j' and 'i' have a continuous offset)\n",
    "    \n",
    "    Returns:\n",
    "    - v: np.ndarray     shape: (3*(n_o+n_l+1), 1)\n",
    "        The residual vector giving the difference between motion model\n",
    "        and the expected state.\n",
    "    \"\"\"\n",
    "    # Get constraints (3, 1) for each point\n",
    "    def constraint_eq(Xi, Xj, U_ij):\n",
    "        \"\"\"\n",
    "        Implements the constraint equation using motion model. The \n",
    "        control 'u_ij' is applied on 'x_i' and difference with 'x_j'\n",
    "        is returned as 3x1 vector (for x, y, th) \n",
    "        \"\"\"\n",
    "        # Extract everything\n",
    "        xi, yi, thi = Xi\n",
    "        dx, dy, dth = U_ij\n",
    "        xj, yj, thj = Xj\n",
    "        # Difference vector\n",
    "        return np.array([\n",
    "            [xi + dx*np.cos(thi) - dy*np.sin(thi) - xj],\n",
    "            [yi + dx*np.sin(thi) + dy*np.cos(thi) - yj],\n",
    "            [thi + dth - thj]\n",
    "        ])\n",
    "    # -- Main function code --\n",
    "    # Get variables\n",
    "    n_o = len(c_odom)   # Number of odometry constraints\n",
    "    n_l = len(c_lc)     # Number of loop closure constraints\n",
    "    constraints = c_odom + c_lc # All constraints\n",
    "    v = np.vstack((\n",
    "        # Odometry and Loop closure constraints\n",
    "        np.array([\n",
    "            constraint_eq(x_vect[i], x_vect[j], u_ij)\n",
    "            for (i, j), u_ij, _ in constraints\n",
    "        ]).reshape(-1, 1),\n",
    "        # Zero constraint\n",
    "        np.array([\n",
    "            [x_vect[0][0] - 0],\n",
    "            [x_vect[0][1] - 0],\n",
    "            [x_vect[0][2] - 0]\n",
    "        ])\n",
    "    ))\n",
    "    # Sanity check\n",
    "    assert v.shape[0] == 3*(n_o+n_l+1) and v.shape[1] == 1, \\\n",
    "        \"Shape error\"\n",
    "    return v"
   ]
  },
  {
   "cell_type": "code",
   "execution_count": 157,
   "metadata": {},
   "outputs": [],
   "source": [
    "# Calculate the error vector\n",
    "def error_value(x_vect, c_odom, c_lc, cert_o = None, cert_lc = None, \n",
    "    cert_zero = 1000):\n",
    "    \"\"\"\n",
    "    Calculates and returns the error value 'L' (cost) for the given\n",
    "    state vector, odometry constraints and certainty values.\n",
    "\n",
    "    Parameters:\n",
    "    - x_vect: np.ndarray    shape: ns, 3\n",
    "        The state vector (as a matrix). Each row should be [x, y, th]\n",
    "    - c_odom: list[(i, j), u_ij, s]     len: n_o\n",
    "        Odometry constraints relating state 'i' to state 'j',\n",
    "        represented as edges where j = i + 1.\n",
    "    - c_lc: list[(i, j), u_ij, s]       len: n_l\n",
    "        Loop closure constraints relating the state 'i' to state 'j',\n",
    "        represented as edges ('j' and 'i' have a continuous offset)\n",
    "    - cert_o: float             default: None\n",
    "        The certainty for odometry equations (inverse of covariance).\n",
    "        If None, then the values are used from the 's' values in the\n",
    "        constraints 'c_odom'.\n",
    "    - cert_lc: float            default: None\n",
    "        The certainty for loop closure equations (inverse of \n",
    "        covariance). If None, then the values are used from the 's'\n",
    "        values in the constraints 'c_lc'.\n",
    "    - cert_zero: float          default: 1000\n",
    "        The certainty for the zero condition. This must be high. \n",
    "    \"\"\"\n",
    "    # Get the residual vector\n",
    "    v = residual_vector(x_vect, c_odom, c_lc)\n",
    "    # Odometry certainty\n",
    "    n_o = len(c_odom)\n",
    "    if cert_o is not None:\n",
    "        dc_o = np.array([cert_o] * 3 * n_o)\n",
    "    else:\n",
    "        dc_o = np.array([ocv[0] for _, _, ocv in c_odom] * 3)\n",
    "    # Loop closure certainty\n",
    "    n_lc = len(c_lc)\n",
    "    if cert_lc is not None:\n",
    "        dc_lc = np.array([cert_lc] * 3 * n_lc)\n",
    "    else:\n",
    "        dc_lc = np.array([lccv[0] for _, _, lccv in c_lc] * 3)\n",
    "    # Zero condition certainty\n",
    "    dc = np.hstack((dc_o, dc_lc, [cert_zero] * 3))\n",
    "    omega_mat = np.diag(dc)\n",
    "    L = (1/2) * (v.T @ omega_mat @ v)\n",
    "    return L\n"
   ]
  },
  {
   "cell_type": "code",
   "execution_count": null,
   "metadata": {},
   "outputs": [],
   "source": [
    "# Calculate the Jacobian matrix\n",
    "def jacobian_mat(x_vect, c_odom, c_lc):\n",
    "    \"\"\"\n",
    "    \n",
    "    \"\"\"\n",
    "    pass\n"
   ]
  },
  {
   "cell_type": "code",
   "execution_count": 158,
   "metadata": {},
   "outputs": [],
   "source": [
    "v = residual_vector(x_mea, odom_c, lc_c)"
   ]
  },
  {
   "cell_type": "code",
   "execution_count": 163,
   "metadata": {},
   "outputs": [],
   "source": [
    "e = error_value(x_mea, odom_c, lc_c, 0, 0)"
   ]
  },
  {
   "cell_type": "code",
   "execution_count": 164,
   "metadata": {},
   "outputs": [
    {
     "data": {
      "text/plain": [
       "array([[44500.]])"
      ]
     },
     "execution_count": 164,
     "metadata": {},
     "output_type": "execute_result"
    }
   ],
   "source": [
    "e"
   ]
  },
  {
   "cell_type": "code",
   "execution_count": 165,
   "metadata": {},
   "outputs": [
    {
     "data": {
      "text/plain": [
       "array([-5., -8.,  0.])"
      ]
     },
     "execution_count": 165,
     "metadata": {},
     "output_type": "execute_result"
    }
   ],
   "source": [
    "x_mea[0]"
   ]
  },
  {
   "cell_type": "code",
   "execution_count": null,
   "metadata": {},
   "outputs": [],
   "source": []
  },
  {
   "cell_type": "markdown",
   "id": "secondary-marshall",
   "metadata": {},
   "source": [
    "## Part 3\n",
    "\n",
    "- Write about the residuals you computed, its structure and shape. Also explain the structure of the Jacobian and its shape (Express the shape in terms of the number of vertices, loop constraints, and such, not exact numbers). \n",
    "- Write about the optimization process and any observations using intermediate plots and such. "
   ]
  },
  {
   "cell_type": "code",
   "execution_count": null,
   "id": "major-dealer",
   "metadata": {},
   "outputs": [],
   "source": []
  },
  {
   "cell_type": "markdown",
   "id": "hired-slide",
   "metadata": {},
   "source": [
    "## Part 4\n",
    "\n",
    "Write the final optimised trajectory as a g2o file. You can do this alongside any of the earlier parts."
   ]
  },
  {
   "cell_type": "code",
   "execution_count": null,
   "id": "polished-reform",
   "metadata": {},
   "outputs": [],
   "source": []
  }
 ],
 "metadata": {
  "interpreter": {
   "hash": "770248bf9a1b909bbf9023ec9b43954fabe81302bd1967e7be366e95c4251e76"
  },
  "kernelspec": {
   "display_name": "Python 3.8.0 64-bit ('mr-cs7-503': conda)",
   "name": "python3"
  },
  "language_info": {
   "codemirror_mode": {
    "name": "ipython",
    "version": 3
   },
   "file_extension": ".py",
   "mimetype": "text/x-python",
   "name": "python",
   "nbconvert_exporter": "python",
   "pygments_lexer": "ipython3",
   "version": "3.8.0"
  }
 },
 "nbformat": 4,
 "nbformat_minor": 5
}
