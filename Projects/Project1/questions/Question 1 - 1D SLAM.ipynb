{
 "cells": [
  {
   "cell_type": "markdown",
   "id": "posted-twist",
   "metadata": {},
   "source": [
    "# Question 1:  Pose Graph Optimization for 1D SLAM"
   ]
  },
  {
   "cell_type": "markdown",
   "id": "chemical-andorra",
   "metadata": {},
   "source": [
    "A solved example for 1D SLAM which optimizes for pose variables using weighted least squares method (Gauss Newton) has been explained in the class. You can view it at `examples/1D-SLAM.ipynb`. Your first task is to code this from scratch.\n",
    "\n",
    "For this section, you have to calculate Jacobian analytically yourself and use it. However, you can check how correct it is using `jax`'s `jacobian`. Its usage is explained in the supplementary notebook (`examples/`)."
   ]
  },
  {
   "cell_type": "markdown",
   "id": "fleet-digest",
   "metadata": {},
   "source": [
    "## How to get started?\n",
    "\n",
    "1. Go through the example and understand the optimization procedure.\n",
    "2. Generate the data as in the example.\n",
    "3. Write the derivatives of the function with respect to the constraints\n",
    "4. Create the final jacobian and write the update steps using Gauss Newton\n",
    "\n",
    "This tiny example will help make sense of the next question, as it's largely just an extension of this."
   ]
  },
  {
   "cell_type": "markdown",
   "id": "tough-brighton",
   "metadata": {},
   "source": [
    "Finally, plot the loop closure constraint, poses, and error at every iteration as well. Since this is a one dimensional example, you can just assume x = y."
   ]
  },
  {
   "cell_type": "code",
   "execution_count": 1,
   "id": "multiple-stomach",
   "metadata": {},
   "outputs": [],
   "source": [
    "import os\n",
    "import math\n",
    "import numpy as np\n",
    "import matplotlib.pyplot as plt"
   ]
  },
  {
   "cell_type": "markdown",
   "metadata": {},
   "source": [
    "## Answer 1: Overview of the Procedure (from example)\n",
    "\n",
    "It is largely an optimization problem where the controls are given (by the odometry $\\mathbf{u}$), the model of state transition is given (as a function $f$) and the states $\\mathbf{x}$ have to be found.\n",
    "\n",
    "**Minimization Function**: Mahalanobis Distance (or _maximizing likelihood_)\n",
    "\n",
    "$$\\mathbf{L} = \\underset{\\textit{Odometry Constraints}}{\\underbrace{\\sum_{i }\\lVert{f(x_{i},u_{i})-x_{i+1}}\\rVert_{\\sum_{i}}^2}}  + \\underset{\\textit{Loop Closure Constraints}}{\\underbrace{\\sum_{ij}\\lVert{f(x_{i},u_{ij})-x_{j}}\\rVert_{\\Lambda_{ij}}^2}} $$\n",
    "\n",
    "$$ \\mathbf{x'} = \\underset{X}{argmin}\\medspace \\mathbf{L} $$\n",
    "\n",
    "Where $\\left\\|\\cdot\\right\\|_{\\mathbf{\\Sigma}_{i}}^{2}$ is the squared [Mahalanobis distance](https://en.wikipedia.org/wiki/Mahalanobis_distance) (which takes variance into account).\n",
    "\n",
    "$$\\left\\|\\mathbf{x}_{i}-\\mathbf{y}_{i}\\right\\|_{\\mathbf{\\Sigma}_{i}}^{2}=\\left(\\mathbf{x}_{i}-\\mathbf{y}_{i}\\right)^{\\top} \\mathbf{\\Sigma}_{i}^{-1}\\left(\\mathbf{x}_{i}-\\mathbf{y}_{i}\\right)$$\n",
    "\n",
    "Coincidentally, minimizing the above function $\\mathbf{L}$ is the same as maximizing the likelihood of getting the particular $\\mathbf{x}$ (state) assuming an underlying multivariate gaussian distribution (note that the exponential term has $\\mathbf{\\Sigma}_{i}^{-1}$ in the numerator too, which is the Mahalanobis distance). In practice, we can concatenate the `odometry constraints` and `loop closure constraints` (and merge the covariance matrices) as one.\n",
    "\n",
    "**Minimizing Method**: Gauss Newton method\n",
    "\n",
    "The derivation (considering the Euclidean distance instead of Mahalanobis distance) is present in `Assignment 3` submission. We simply replace $\\mathbf{J}^\\top$ with $\\mathbf{J}^\\top \\cdot \\mathbf{\\Sigma}^{-1}$ (note that the $\\mathbf{J}$ associated with $\\delta \\mathbf{x}$ will remain as it is due to the Taylor expansion). The step is given by\n",
    "\n",
    "$$ \\delta \\mathbf{x} = - \\left ( \\mathbf{J^\\top \\cdot \\Sigma^{-1} \\cdot J} \\right )^{-1} \\; \\cdot \\;  \\mathbf{J^\\top \\cdot \\Sigma^{-1} \\cdot v} $$\n",
    "\n",
    "Where $\\mathbf{v}$ is the vector $(\\mathbf{x}_{i}-\\mathbf{y}_{i})$ (formed by constraints), whose Mahalanobis distance is being considered above. After calculating the above step, we simply do $\\mathbf{x} \\leftarrow \\mathbf{x} + \\delta \\mathbf{x}$ to update $\\mathbf{x}$ (state). Then, the vector $\\mathbf{v}$ is updated and the cycle continues."
   ]
  },
  {
   "cell_type": "markdown",
   "metadata": {},
   "source": [
    "## Answer 2: Generate data\n",
    "\n",
    "The same provided example is programmatically solved\n"
   ]
  },
  {
   "cell_type": "markdown",
   "metadata": {},
   "source": [
    "**Controls** or Odometry\n",
    "\n",
    "Note that the last element indicates `loop closure` (the return to a previously known spot).\n",
    "\n",
    "This is basically\n",
    "\n",
    "$$ \\mathbf{u} = [\\mathbf{u}_0, \\mathbf{u}_1, \\mathbf{u}_2, \\mathbf{u}_3, \\mathbf{u}_{(0,4)}] $$"
   ]
  },
  {
   "cell_type": "code",
   "execution_count": 2,
   "metadata": {},
   "outputs": [],
   "source": [
    "# Ground truth controls (odometry)\n",
    "u_gt = [1.0, 1.0, 1.0, -3.0, 0.0]   # Don't have this in real!\n",
    "u_gt = np.array(u_gt)\n",
    "u_mea = [1.1, 1.0, 1.1, -2.7, 0.0]  # Measurements through sensors\n",
    "u_mea = np.array(u_mea)"
   ]
  },
  {
   "cell_type": "code",
   "execution_count": 3,
   "metadata": {},
   "outputs": [],
   "source": [
    "# State control model: Motion model\n",
    "def motion_model(u, x_p):\n",
    "    \"\"\"\n",
    "    Returns the next state 'x' given the control input 'u' and present\n",
    "    (to become previous) state 'x_p'\n",
    "    \n",
    "    Parameters:\n",
    "    - u: float      The control input\n",
    "    - x_p: float    The present (to-become-previous) state\n",
    "\n",
    "    Returns:\n",
    "    - x: float      The next state\n",
    "    \"\"\"\n",
    "    return u + x_p\n"
   ]
  },
  {
   "cell_type": "code",
   "execution_count": 4,
   "metadata": {},
   "outputs": [
    {
     "name": "stdout",
     "output_type": "stream",
     "text": [
      "Ground truth states, x_gt = [0. 1. 2. 3. 0.]\n",
      "Odometry states, x_odom = [0.  1.1 2.1 3.2 0.5]\n"
     ]
    }
   ],
   "source": [
    "# Get the states\n",
    "x_0_gt, x_0_odom = [0.0, 0.0]   # Starting state\n",
    "x_gt = [x_0_gt]\n",
    "x_odom = [x_0_odom]\n",
    "for ugt, umea in zip(u_gt, u_mea):  # Find next states\n",
    "    x_gt.append(motion_model(ugt, x_gt[-1]))\n",
    "    x_odom.append(motion_model(umea, x_odom[-1]))\n",
    "# We know the loop closure (in the end), so remove it from 'x'\n",
    "x_gt = x_gt[:-1]\n",
    "x_odom = x_odom[:-1]\n",
    "x_gt = np.array(x_gt)\n",
    "x_odom = np.array(x_odom)\n",
    "print(f\"Ground truth states, x_gt = {x_gt}\")\n",
    "print(f\"Odometry states, x_odom = {x_odom}\")"
   ]
  },
  {
   "cell_type": "markdown",
   "metadata": {},
   "source": [
    "As with odometry, we won't have any ground truth values in reality."
   ]
  },
  {
   "cell_type": "code",
   "execution_count": 5,
   "metadata": {},
   "outputs": [
    {
     "name": "stdout",
     "output_type": "stream",
     "text": [
      "Variance matrix: \n",
      "[[0.01  0.    0.    0.    0.    0.   ]\n",
      " [0.    0.01  0.    0.    0.    0.   ]\n",
      " [0.    0.    0.01  0.    0.    0.   ]\n",
      " [0.    0.    0.    0.01  0.    0.   ]\n",
      " [0.    0.    0.    0.    0.01  0.   ]\n",
      " [0.    0.    0.    0.    0.    0.001]]\n",
      "Confidence Matrix: \n",
      "[[ 100.    0.    0.    0.    0.    0.]\n",
      " [   0.  100.    0.    0.    0.    0.]\n",
      " [   0.    0.  100.    0.    0.    0.]\n",
      " [   0.    0.    0.  100.    0.    0.]\n",
      " [   0.    0.    0.    0.  100.    0.]\n",
      " [   0.    0.    0.    0.    0. 1000.]]\n"
     ]
    }
   ],
   "source": [
    "# Noise parameters (as variance values), more value = uncertain\n",
    "var_odom = 0.01         # Variance for motion model\n",
    "var_lc = 0.01           # Variance for loop closure condition\n",
    "var_start_0 = 0.001     # We're sure of start at 0\n",
    "num_odom, num_lc = 4, 1\n",
    "var_vect = [var_odom] * num_odom + [var_lc] * num_lc + [var_start_0]\n",
    "var_vect = np.array(var_vect)\n",
    "var_mat = np.diag(var_vect) # Variance matrix\n",
    "print(f\"Variance matrix: \\n{var_mat}\")\n",
    "# Confidence matrix (invert diagonal elements as it's a diagonal mat.)\n",
    "conf_mat = np.diag(1/var_vect)\n",
    "print(f\"Confidence Matrix: \\n{conf_mat}\")"
   ]
  },
  {
   "cell_type": "markdown",
   "metadata": {},
   "source": [
    "## Answer 3: Optimization Function and Derivatives\n",
    "\n",
    "The function and its Jacobian are presented in this section\n"
   ]
  },
  {
   "cell_type": "markdown",
   "metadata": {},
   "source": [
    "Let $f$ be the `motion_model` function of the system. The constraints that have to be minimized are vectorized as follows\n",
    "\n",
    "$$\n",
    "\\mathbf{v} = \\mathbf{h}(\\mathbf{x}) = \\begin{pmatrix}\n",
    "f(\\mathbf{u}_0, \\mathbf{x}_0) - \\mathbf{x}_1 \\\\\n",
    "f(\\mathbf{u}_1, \\mathbf{x}_1) - \\mathbf{x}_2 \\\\\n",
    "f(\\mathbf{u}_2, \\mathbf{x}_2) - \\mathbf{x}_3 \\\\\n",
    "f(\\mathbf{u}_3, \\mathbf{x}_3) - \\mathbf{x}_4 \\\\\n",
    "f(\\mathbf{u}_{(0, 4)}, \\mathbf{x}_0) - \\mathbf{x}_4 \\\\\n",
    "\\mathbf{x}_0 - 0\n",
    "\\end{pmatrix} = \\begin{pmatrix}\n",
    "\\mathbf{u}_0 + \\mathbf{x}_0 - \\mathbf{x}_1 \\\\\n",
    "\\mathbf{u}_1 + \\mathbf{x}_1 - \\mathbf{x}_2 \\\\\n",
    "\\mathbf{u}_2 + \\mathbf{x}_2 - \\mathbf{x}_3 \\\\\n",
    "\\mathbf{u}_3 + \\mathbf{x}_3 - \\mathbf{x}_4 \\\\\n",
    "\\mathbf{u}_{(0, 4)} + \\mathbf{x}_0 - \\mathbf{x}_4 \\\\\n",
    "\\mathbf{x}_0 - 0\n",
    "\\end{pmatrix}\n",
    "$$\n",
    "\n",
    "Note that the first four rows of $\\mathbf{v}$ are odometry constraints, the fifth row is the loop closure constraint and the last row is the constraint to anchor the starting point / state to zero. The `var_matrix` is the variance matrix $\\mathbf{\\Sigma}$. Its inverse, the \"confidence matrix\" is given by `conf_mat` or $\\mathbf{\\Sigma}^{-1} = \\mathbf{\\Omega}$.\n",
    "\n",
    "We need to find the best $\\mathbf{x}$ values that minimizes the Mahalanobis distance of $\\mathbf{v}$ (which we'll call deviation vector)"
   ]
  },
  {
   "cell_type": "code",
   "execution_count": 6,
   "metadata": {},
   "outputs": [],
   "source": [
    "def h_x(xvals, uvals):\n",
    "    \"\"\"\n",
    "    Returns the vector of all constraints. Described as h(x) = v above\n",
    "    Needs function `motion_model`\n",
    "\n",
    "    Parameters:\n",
    "    - xvals = [x0, x1, x2, x3, x4]: State values\n",
    "    - uvals = [u0, u1, u2, u3, u04]: Odometry and loop closure\n",
    "\n",
    "    Returns:\n",
    "    - v: Vector of constraints\n",
    "    \"\"\"\n",
    "    x0, x1, x2, x3, x4 = map(float, xvals)\n",
    "    u0, u1, u2, u3, u04 = map(float, uvals)\n",
    "    v = np.array([\n",
    "        motion_model(u0, x0) - x1,\n",
    "        motion_model(u1, x1) - x2,\n",
    "        motion_model(u2, x2) - x3,\n",
    "        motion_model(u3, x3) - x4,\n",
    "        motion_model(u04, x0) - x4,\n",
    "        x0 - 0\n",
    "    ])\n",
    "    return v\n"
   ]
  },
  {
   "cell_type": "code",
   "execution_count": 7,
   "metadata": {},
   "outputs": [
    {
     "name": "stdout",
     "output_type": "stream",
     "text": [
      "Initial deviation vector: [ 0.   0.   0.   0.  -0.5  0. ]\n"
     ]
    }
   ],
   "source": [
    "v_init = h_x(x_odom, u_mea)\n",
    "print(f\"Initial deviation vector: {v_init}\")"
   ]
  },
  {
   "cell_type": "markdown",
   "metadata": {},
   "source": [
    "## Answer 4: Update using iterations\n",
    "\n",
    "The Jacobian and Gauss-Newton updates are described here\n"
   ]
  },
  {
   "cell_type": "markdown",
   "metadata": {},
   "source": [
    "The Jacobian of the above function $\\mathbf{h}$ is given by\n",
    "\n",
    "$$\n",
    "\\mathbf{J} = \\frac{\\partial \\mathbf{h}}{\\partial \\mathbf{x}} = \\left [ \n",
    "\\frac{\\partial \\mathbf{h}}{\\partial \\mathbf{x}_0} \\;\n",
    "\\frac{\\partial \\mathbf{h}}{\\partial \\mathbf{x}_1} \\cdots\n",
    "\\frac{\\partial \\mathbf{h}}{\\partial \\mathbf{x}_4}\n",
    "\\right ] = \\begin{pmatrix}\n",
    "1 & -1 &  0 &  0 &  0 \\\\\n",
    "0 &  1 & -1 &  0 &  0 \\\\\n",
    "0 &  0 &  1 & -1 &  0 \\\\\n",
    "0 &  0 &  0 &  1 & -1 \\\\\n",
    "1 &  0 &  0 &  0 & -1 \\\\\n",
    "1 &  0 &  0 &  0 &  0\n",
    "\\end{pmatrix}\n",
    "$$\n",
    "\n",
    "This is the jacobian used for all updates in \n",
    "\n",
    "$$ \\delta \\mathbf{x} = - \\left ( \\mathbf{J^\\top \\cdot \\Omega \\cdot J} \\right )^{-1} \\; \\cdot \\;  \\mathbf{J^\\top \\cdot \\Omega^\\top \\cdot v} $$\n",
    "\n",
    "Fortunately for us, the part $\\mathbf{K} = - \\left ( \\mathbf{J^\\top \\cdot \\Omega \\cdot J} \\right )^{-1} \\; \\cdot \\;  \\mathbf{J^\\top \\cdot \\Omega^\\top}$ is a constant (it doesn't depend on $\\mathbf{x}$ or $\\mathbf{u}$). So we compute it early-hand and use it repeatedly. Let $\\mathbf{G} = \\mathbf{J^\\top \\cdot \\Omega \\cdot J}$.\n",
    "\n",
    "Almost everywhere $\\mathbf{\\Omega}^\\top = \\mathbf{\\Omega}$ holds good."
   ]
  },
  {
   "cell_type": "code",
   "execution_count": 8,
   "metadata": {},
   "outputs": [
    {
     "name": "stdout",
     "output_type": "stream",
     "text": [
      "Jacobian is: \n",
      "[[ 1 -1  0  0  0]\n",
      " [ 0  1 -1  0  0]\n",
      " [ 0  0  1 -1  0]\n",
      " [ 0  0  0  1 -1]\n",
      " [ 1  0  0  0 -1]\n",
      " [ 1  0  0  0  0]]\n",
      "G = \n",
      "[[1200. -100.    0.    0. -100.]\n",
      " [-100.  200. -100.    0.    0.]\n",
      " [   0. -100.  200. -100.    0.]\n",
      " [   0.    0. -100.  200. -100.]\n",
      " [-100.    0.    0. -100.  200.]]\n"
     ]
    }
   ],
   "source": [
    "# Declare jacobian in code\n",
    "jac = np.array([\n",
    "    [1, -1, 0, 0, 0],\n",
    "    [0, 1, -1, 0, 0],\n",
    "    [0, 0, 1, -1, 0],\n",
    "    [0, 0, 0, 1, -1],\n",
    "    [1, 0, 0, 0, -1],\n",
    "    [1, 0, 0, 0, 0]\n",
    "])\n",
    "print(f\"Jacobian is: \\n{jac}\")\n",
    "jac_t_conf_jac = jac.T @ conf_mat @ jac\n",
    "K = -np.linalg.inv(jac_t_conf_jac) @ jac.T @ conf_mat\n",
    "print(f\"G = \\n{jac_t_conf_jac}\")"
   ]
  },
  {
   "cell_type": "code",
   "execution_count": 9,
   "metadata": {},
   "outputs": [],
   "source": [
    "# Initialize everything\n",
    "num_iter = 10   # Number of iterations\n",
    "x_vect = np.array(x_odom).reshape(-1, 1)\n",
    "u_vect = np.array(u_mea).reshape(-1, 1)\n",
    "# Logs\n",
    "cost_hist = []  # History of Mahalanobis Costs\n",
    "v_hist = []     # History of 'v' vector"
   ]
  },
  {
   "cell_type": "code",
   "execution_count": 10,
   "metadata": {},
   "outputs": [],
   "source": [
    "# Gauss Newton updates\n",
    "for _ in range(num_iter):\n",
    "    # Calculate cost\n",
    "    v = h_x(x_vect, u_vect).reshape(-1, 1)\n",
    "    v_hist.append(v.flatten())\n",
    "    mls_cost = float(v.T @ conf_mat @ v)\n",
    "    cost_hist.append(mls_cost)  # Log cost\n",
    "    # Updates\n",
    "    del_x = K @ v\n",
    "    x_vect = x_vect + del_x\n"
   ]
  },
  {
   "cell_type": "code",
   "execution_count": 16,
   "metadata": {},
   "outputs": [
    {
     "name": "stdout",
     "output_type": "stream",
     "text": [
      "Final states: [0.  1.  1.9 2.9 0.1]\n"
     ]
    },
    {
     "data": {
      "text/plain": [
       "[<matplotlib.lines.Line2D at 0x22bfb114af0>]"
      ]
     },
     "execution_count": 16,
     "metadata": {},
     "output_type": "execute_result"
    },
    {
     "data": {
      "image/png": "[encoded data removed]",
      "text/plain": [
       "<Figure size 432x288 with 1 Axes>"
      ]
     },
     "metadata": {
      "needs_background": "light"
     },
     "output_type": "display_data"
    }
   ],
   "source": [
    "x_final = x_vect.flatten()\n",
    "print(f\"Final states: {x_final}\")\n",
    "plt.title(\"Error (with iterations)\")\n",
    "plt.plot(cost_hist)"
   ]
  },
  {
   "cell_type": "markdown",
   "metadata": {},
   "source": [
    "## Plot the result\n",
    "\n",
    "Plot everything\n"
   ]
  },
  {
   "cell_type": "code",
   "execution_count": 21,
   "metadata": {},
   "outputs": [
    {
     "data": {
      "text/plain": [
       "<matplotlib.legend.Legend at 0x22bfb36a4f0>"
      ]
     },
     "execution_count": 21,
     "metadata": {},
     "output_type": "execute_result"
    },
    {
     "data": {
      "image/png": "[encoded data removed]",
      "text/plain": [
       "<Figure size 432x288 with 1 Axes>"
      ]
     },
     "metadata": {
      "needs_background": "light"
     },
     "output_type": "display_data"
    }
   ],
   "source": [
    "# Plot everything\n",
    "plt.title(\"Poses\")\n",
    "plt.plot(x_final[0], x_final[0], 'o', fillstyle='none', label=\"0\")\n",
    "plt.plot(x_final[1], x_final[1], 'o', fillstyle='none', label=\"1\")\n",
    "plt.plot(x_final[2], x_final[2], 'o', fillstyle='none', label=\"2\")\n",
    "plt.plot(x_final[3], x_final[3], 'o', fillstyle='none', label=\"3\")\n",
    "plt.plot(x_final[4], x_final[4], 'o', fillstyle='none', label=\"4\")\n",
    "plt.plot([x_final[0], x_final[4]], [x_final[0], x_final[4]], \n",
    "    label=\"Loop Closure\")\n",
    "plt.legend()"
   ]
  },
  {
   "cell_type": "code",
   "execution_count": null,
   "metadata": {},
   "outputs": [],
   "source": []
  }
 ],
 "metadata": {
  "interpreter": {
   "hash": "770248bf9a1b909bbf9023ec9b43954fabe81302bd1967e7be366e95c4251e76"
  },
  "kernelspec": {
   "display_name": "Python 3.8.0 64-bit ('mr-cs7-503': conda)",
   "name": "python3"
  },
  "language_info": {
   "codemirror_mode": {
    "name": "ipython",
    "version": 3
   },
   "file_extension": ".py",
   "mimetype": "text/x-python",
   "name": "python",
   "nbconvert_exporter": "python",
   "pygments_lexer": "ipython3",
   "version": "3.8.0"
  }
 },
 "nbformat": 4,
 "nbformat_minor": 5
}
