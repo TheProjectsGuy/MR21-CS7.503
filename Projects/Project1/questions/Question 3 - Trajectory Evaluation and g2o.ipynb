{
 "cells": [
  {
   "cell_type": "markdown",
   "id": "exposed-little",
   "metadata": {},
   "source": [
    "# Question 3: Trajectory Evaluation and g2o"
   ]
  },
  {
   "cell_type": "markdown",
   "id": "hearing-bachelor",
   "metadata": {},
   "source": [
    "_Refer to the example notebooks for installation instructions_"
   ]
  },
  {
   "cell_type": "markdown",
   "id": "radio-atlantic",
   "metadata": {},
   "source": [
    "# Evo"
   ]
  },
  {
   "cell_type": "markdown",
   "id": "recognized-booking",
   "metadata": {},
   "source": [
    "So you've implemented 2D SLAM, great! Now, what? We need a measure of how good the trajectory is. The error/loss used earlier doesn't tell us much about how the trajectory differs from the ground truth. Here, we try to do just this - compute error metrics. Rather than computing these from scratch, we will just Evo - https://github.com/MichaelGrupp/evo/."
   ]
  },
  {
   "cell_type": "markdown",
   "id": "amino-command",
   "metadata": {},
   "source": [
    "Look at the absolute pose error (APE) and relative pose error (RPE). What do they capture and how are they calculated (descriptive answer)? How do these metrics differ in methodology? Can we determine if the error is more along the x/y axis?\n",
    "\n",
    "Answer the above questions and report errors for the obtained trajectory."
   ]
  },
  {
   "cell_type": "code",
   "execution_count": null,
   "id": "typical-brief",
   "metadata": {},
   "outputs": [],
   "source": [
    "# Write up with plots/images"
   ]
  },
  {
   "cell_type": "markdown",
   "id": "surrounded-anderson",
   "metadata": {},
   "source": [
    "If you're interested, play around with this tool and add any other plots that you think might be relevant/interesting."
   ]
  },
  {
   "cell_type": "markdown",
   "metadata": {},
   "source": [
    "## Analysis using Evo\n",
    "\n",
    "Analysis of the trajectory generated in question 2 is explored in this section. The method, commands, inference, etc. are also explored\n"
   ]
  },
  {
   "cell_type": "markdown",
   "metadata": {},
   "source": [
    "### Setup and Generation\n",
    "\n",
    "To install [Evo](https://github.com/MichaelGrupp/evo/) the following command was run\n",
    "\n",
    "```bash\n",
    "pip install evo\n",
    "```\n",
    "\n",
    "After this, binary files get generated in the `bin` folder of the Python environment. Post this, the following commands were run"
   ]
  },
  {
   "cell_type": "markdown",
   "metadata": {},
   "source": [
    "#### Generating Kitti file for Ground Truth\n",
    "\n",
    "The following commands were run to generate the ground truth [.kitti](https://github.com/MichaelGrupp/evo/wiki/Formats#kitti---kitti-dataset-pose-format) file. The starting path is the project root (folder for `Project1`)\n",
    "\n",
    "```bash\n",
    "cd misc\n",
    "cp ../data/gt.txt ./ground-truth.g2o\n",
    "python ./g2o_to_kitti.py ground-truth.g2o gt.kitti\n",
    "```\n",
    "\n",
    "This generates a `gt.kitti` that contains the ground truth poses as transforms of the form `[R|t]` (12 numbers per row as described in format).\n"
   ]
  },
  {
   "cell_type": "markdown",
   "metadata": {},
   "source": [
    "#### Generating Kitti file for calibrated data\n",
    "\n",
    "The calibrated data generated as a result of Question 2 is converted to a `.kitti` file using the following commands (in the same `misc` folder as before)\n",
    "\n",
    "```bash\n",
    "cp ../questions/results/q2/edges-calibrated.g2o ./\n",
    "python ./g2o_to_kitti.py edges-calibrated.g2o opt.kitti\n",
    "```\n",
    "\n",
    "This generates a `opt.kitti` file that contains calibrated poses as shown in the image below. This is compared in the next section.\n",
    "\n",
    "![Calibrated Trajectory](./results/q2/p2/lm-out-1.png)"
   ]
  },
  {
   "cell_type": "markdown",
   "metadata": {},
   "source": [
    "### Trajectory analysis\n",
    "\n",
    "This is done using the following command\n",
    "\n",
    "```bash\n",
    "evo_traj kitti gt.kitti opt.kitti -v --plot --plot_mode xy\n",
    "```\n"
   ]
  },
  {
   "cell_type": "markdown",
   "metadata": {},
   "source": [
    "\n",
    "The resultant output is\n",
    "\n",
    "```txt\n",
    "--------------------------------------------------------------------------------\n",
    "Loaded 120 poses from: gt.kitti\n",
    "Loaded 120 poses from: opt.kitti\n",
    "--------------------------------------------------------------------------------\n",
    "name:\tgt\n",
    "infos:\n",
    "\tnr. of poses\t120\n",
    "\tpath length (m)\t52.976517997999295\n",
    "\tpos_end (m)\t[-2.8 -4.5  0. ]\n",
    "\tpos_start (m)\t[-8.  5.  0.]\n",
    "--------------------------------------------------------------------------------\n",
    "name:\topt\n",
    "infos:\n",
    "\tnr. of poses\t120\n",
    "\tpath length (m)\t54.66919770066222\n",
    "\tpos_end (m)\t[-0.63074972  1.07208598  0.        ]\n",
    "\tpos_start (m)\t[-8.00001143  4.99998875  0.        ]\n",
    "```\n",
    "\n",
    "The errors seem big (in meters), at least the path length is more or less the same. The figures generated are shown here and explained\n"
   ]
  },
  {
   "cell_type": "markdown",
   "metadata": {},
   "source": [
    "#### Trajectory Plot\n",
    "\n",
    "![Trajectory plot](./results/q3/evo/traj_1.png)\n",
    "\n",
    "This shows the ground truth and the optimal trajectory (obtained through `question 2`) in comparison,\n"
   ]
  },
  {
   "cell_type": "markdown",
   "metadata": {},
   "source": [
    "#### XYZ Plot\n",
    "\n",
    "The plot is shown below\n",
    "\n",
    "![XYZ plot](./results/q3/evo/traj_2.png)\n",
    "\n",
    "It shows the X, Y and Z values of the points in the ground truth and optimal trajectory. As expected, the optimal values aren't exactly matching, but they're closely following the ground truth (sometimes not very closely). This is the result of optimization.\n"
   ]
  },
  {
   "cell_type": "markdown",
   "metadata": {},
   "source": [
    "#### RPY View\n",
    "\n",
    "The plot is shown below\n",
    "\n",
    "![RPY plot](./results/q3/evo/traj_3.png)\n",
    "\n",
    "As expected, there is only yaw used here. Even here, the optimized trajectory is more or less following (roughly) the ground truth. However, as described in question 2, there appears to be errors in this (the ground truth), which cannot be fit easily.\n"
   ]
  },
  {
   "cell_type": "markdown",
   "metadata": {},
   "source": [
    "### Relative Pose Error\n",
    "\n",
    "This is done using the following command\n",
    "\n",
    "```bash\n",
    "evo_rpe kitti gt.kitti opt.kitti -v --plot --plot_mode xy\n",
    "```\n"
   ]
  },
  {
   "cell_type": "markdown",
   "metadata": {},
   "source": [
    "The resultant output is\n",
    "\n",
    "```txt\n",
    "--------------------------------------------------------------------------------\n",
    "Loaded 120 poses from: gt.kitti\n",
    "Loaded 120 poses from: opt.kitti\n",
    "--------------------------------------------------------------------------------\n",
    "Found 119 pairs with delta 1 (frames) among 120 poses using consecutive pairs.\n",
    "Compared 119 relative pose pairs, delta = 1 (frames) with consecutive pairs.\n",
    "Calculating RPE for translation part pose relation...\n",
    "--------------------------------------------------------------------------------\n",
    "RPE w.r.t. translation part (m)\n",
    "for delta = 1 (frames) using consecutive pairs\n",
    "(not aligned)\n",
    "\n",
    "       max\t0.292755\n",
    "      mean\t0.118914\n",
    "    median\t0.112302\n",
    "       min\t0.001513\n",
    "      rmse\t0.134819\n",
    "       sse\t2.162955\n",
    "       std\t0.063526\n",
    "\n",
    "--------------------------------------------------------------------------------\n",
    "```\n",
    "\n",
    "The relative pose error is over a fixed time interval. It being less than a meter is slightly acceptable."
   ]
  },
  {
   "cell_type": "markdown",
   "metadata": {},
   "source": []
  },
  {
   "cell_type": "code",
   "execution_count": null,
   "metadata": {},
   "outputs": [],
   "source": []
  },
  {
   "cell_type": "markdown",
   "id": "exceptional-charity",
   "metadata": {},
   "source": [
    "# g2o"
   ]
  },
  {
   "cell_type": "markdown",
   "id": "presidential-hayes",
   "metadata": {},
   "source": [
    "Install g2o as mentioned in `examples/g2o.ipynb` and optimise `edges.txt`, the file you used earlier. Also use `g2o_viewer` and optimize `intel` (a trajectory in the Intel research lab) and `sphere`. They should look something like:\n",
    "\n",
    "\n",
    "<table><tr>\n",
    "<td> <img src=\"../misc/intel.jpg\" alt=\"Drawing\" style=\"width: 250px;\"/> </td>\n",
    "<td> <img src=\"../misc/sphere.jpg\" alt=\"Drawing\" style=\"width: 250px;\"/> </td>\n",
    "</tr></table>"
   ]
  },
  {
   "cell_type": "markdown",
   "id": "amino-football",
   "metadata": {},
   "source": [
    "Write briefly about your observations and try out few options in the GUI. What do they do, how do they perform?"
   ]
  },
  {
   "cell_type": "code",
   "execution_count": null,
   "id": "interstate-arizona",
   "metadata": {},
   "outputs": [],
   "source": [
    "# Your answer"
   ]
  }
 ],
 "metadata": {
  "interpreter": {
   "hash": "8425e5333de65a039bbcffbbf070e00567276e57b2a8c30426dd1ecf8bc06755"
  },
  "kernelspec": {
   "display_name": "Python 3.8.0 64-bit ('mr-cs7-503': conda)",
   "name": "python3"
  },
  "language_info": {
   "codemirror_mode": {
    "name": "ipython",
    "version": 3
   },
   "file_extension": ".py",
   "mimetype": "text/x-python",
   "name": "python",
   "nbconvert_exporter": "python",
   "pygments_lexer": "ipython3",
   "version": "3.8.0"
  }
 },
 "nbformat": 4,
 "nbformat_minor": 5
}
