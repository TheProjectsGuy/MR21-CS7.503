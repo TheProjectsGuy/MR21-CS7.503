{
 "cells": [
  {
   "cell_type": "markdown",
   "id": "20de5cff",
   "metadata": {},
   "source": [
    "# Take Home End-Semester Exam: Mobile Robotics - M21\n",
    "\n",
    "**Name**: Avneesh Mishra <br>\n",
    "**Roll No**: `2021701032`\n"
   ]
  },
  {
   "cell_type": "code",
   "execution_count": 1,
   "id": "bc6fb49d",
   "metadata": {},
   "outputs": [
    {
     "name": "stdout",
     "output_type": "stream",
     "text": [
      "Jupyter environment detected. Enabling Open3D WebVisualizer.\n",
      "[Open3D INFO] WebRTC GUI backend enabled.\n",
      "[Open3D INFO] WebRTCWindowSystem: HTTP handshake server disabled.\n"
     ]
    }
   ],
   "source": [
    "# Import everything\n",
    "import open3d as o3d\n",
    "import numpy as np\n",
    "import util\n",
    "from matplotlib import pyplot as plt\n",
    "# Other imports\n",
    "import sympy as sp\n",
    "from IPython.display import display"
   ]
  },
  {
   "cell_type": "markdown",
   "id": "cc5da1a0",
   "metadata": {},
   "source": [
    "---"
   ]
  },
  {
   "cell_type": "markdown",
   "id": "e4422c5e",
   "metadata": {},
   "source": [
    "## Optimization through LM\n",
    "\n",
    "**1. Optimization**: You are given the function:  exp(-a * x) * sin(x) + b. Implement Levenberg Marquadt using numpy and solve for the parameters of the above function. Optimize for the following parameters: a=2, b = 1. Do this for 50 observations that lie between 1 and 20. Plot the loss values over time and data fit curves. Ensure that your initial estimates are not very close to the final parameters. Write down the jacobian formula in the notebook. **\\[3 points\\]**"
   ]
  },
  {
   "cell_type": "markdown",
   "id": "9925c68d",
   "metadata": {},
   "source": [
    "### Theory\n",
    "\n",
    "The function given is\n",
    "\n",
    "$$ y(x; a, b) = \\textup{e}^{-ax} \\sin(x) + b $$\n"
   ]
  },
  {
   "cell_type": "markdown",
   "id": "da2de87e",
   "metadata": {},
   "source": [
    "**Jacobian Formulation**: Partial derivatives of $y$ with respect to $a$ and $b$. These are given by\n",
    "\n",
    "$$\n",
    "\\frac{\\partial y}{\\partial a} = -x \\; \\textup{e}^{-ax} \\sin(x)\n",
    "\\qquad \\qquad \\qquad \\qquad\n",
    "\\frac{\\partial y}{\\partial b} = 1\n",
    "$$\n",
    "\n",
    "The jacobian is given by\n",
    "\n",
    "$$ \\mathbf{J}_y = \\left [ \\frac{\\partial y}{\\partial a} \\quad \\frac{\\partial y}{\\partial b} \\right ] $$\n"
   ]
  },
  {
   "cell_type": "code",
   "execution_count": 2,
   "id": "aa19979a",
   "metadata": {},
   "outputs": [
    {
     "name": "stdout",
     "output_type": "stream",
     "text": [
      "Partial derivative of y w.r.t. a is \n"
     ]
    },
    {
     "data": {
      "text/latex": [
       "$\\displaystyle - x e^{- a x} \\sin{\\left(x \\right)}$"
      ],
      "text/plain": [
       "-x*exp(-a*x)*sin(x)"
      ]
     },
     "metadata": {},
     "output_type": "display_data"
    },
    {
     "name": "stdout",
     "output_type": "stream",
     "text": [
      "Partial derivative of y w.r.t. b is \n"
     ]
    },
    {
     "data": {
      "text/latex": [
       "$\\displaystyle 1$"
      ],
      "text/plain": [
       "1"
      ]
     },
     "metadata": {},
     "output_type": "display_data"
    }
   ],
   "source": [
    "# Theoretically verify the Jacobian using Sympy\n",
    "x, a, b = sp.symbols(\"x, a, b\")\n",
    "eq_y = sp.exp(-a*x)*sp.sin(x) + b\n",
    "dy_da = eq_y.diff(a)\n",
    "dy_db = eq_y.diff(b)\n",
    "print(\"Partial derivative of y w.r.t. a is \")\n",
    "display(dy_da)\n",
    "print(\"Partial derivative of y w.r.t. b is \")\n",
    "display(dy_db)"
   ]
  },
  {
   "cell_type": "markdown",
   "id": "ed0f3712",
   "metadata": {},
   "source": [
    "**Loss Formulation**: We need something to say how good our estimates of $a$ and $b$ are\n",
    "\n",
    "From a given set of observations $\\left \\{ (x_i, y_i) \\right \\}$ (sampled from the original / underlying curve), and a known (current) estimate of parameters $(\\hat{a}_k, \\hat{b}_k)$, we can calculate the new error (deviation of the estimated model from the original observations as)\n",
    "\n",
    "$$ L_k = \\frac{1}{2} \\sum_i \\left ( y(x_i; \\hat{a}_k, \\hat{b}_k ) - y_i \\right )^2 = \\frac{1}{2} \\mathbf{r}_k^\\top \\mathbf{r}_k $$\n",
    "\n",
    "Where $\\mathbf{r}_k$, the residual vector, is given by\n",
    "\n",
    "$$ \\mathbf{r}_k = y(x_{\\textup{obs}}; \\hat{a}_k, \\hat{b}_k ) - y_{\\textup{obs}} $$"
   ]
  },
  {
   "cell_type": "markdown",
   "id": "a8e01f6c",
   "metadata": {},
   "source": [
    "**Minimizing Loss**: Finding the best parameters $a$ and $b$ that'll reduce the $L$ value significantly.\n",
    "\n",
    "For a gradient descent step, we'd get the new parameter estimates $\\mathbf{\\hat{h}}_{k+1} = [\\hat{a}_{k+1} \\;\\; \\hat{b}_{k+1}]^\\top$ as\n",
    "\n",
    "$$\n",
    "\\mathbf{\\hat{h}}_{k+1} = \\mathbf{\\hat{h}}_{k} + \\delta \\mathbf{\\hat{h}} = \\mathbf{\\hat{h}}_{k} - \\alpha \\; \\mathbf{J}_y^\\top \\; \\mathbf{r}_k\n",
    "$$\n",
    "\n",
    "For a Levenberg Marquadt step, we take a middle ground between gauss-newton and gradient descent. We get the new parameter estimates as\n",
    "\n",
    "$$\n",
    "\\delta \\mathbf{\\hat{h}} = - \\left ( \\mathbf{J}_y^\\top \\mathbf{J}_y + \\lambda \\mathbf{I} \\right )^{-1} \\mathbf{J}_y^\\top \\mathbf{r}_k\n",
    "\\Rightarrow \\mathbf{\\hat{h}}_{k+1} = \\mathbf{\\hat{h}}_{k} - \\left ( \\mathbf{J}_y^\\top \\mathbf{J}_y + \\lambda \\mathbf{I} \\right )^{-1} \\mathbf{J}_y^\\top \\mathbf{r}_k\n",
    "$$\n",
    "\n",
    "We set $\\lambda$ to a constant here.\n"
   ]
  },
  {
   "cell_type": "markdown",
   "id": "68450521",
   "metadata": {},
   "source": [
    "### Implementation\n",
    "\n",
    "Implementing the LM algorithm (actually Levenberg Method) in this section."
   ]
  },
  {
   "cell_type": "code",
   "execution_count": 3,
   "id": "468eaf2b",
   "metadata": {},
   "outputs": [],
   "source": [
    "# Default values\n",
    "a_original, b_original = 2, 1\n",
    "# Function\n",
    "def y_x_ab(x, a = a_original, b = b_original):\n",
    "    return np.exp(-a * x) * np.sin(x) + b\n",
    "# The jacobians\n",
    "def jac_y(x, a, b):\n",
    "    N = len(x)\n",
    "    dy_da = -x * np.exp(-a*x) * np.sin(x)\n",
    "    dy_da = dy_da.reshape(N, 1).astype(float)\n",
    "    dy_db = np.ones((N, 1), float)\n",
    "    jac = np.hstack((dy_da, dy_db))\n",
    "    return jac\n",
    "# The loss values\n",
    "def calc_loss(y_pred, y_true):\n",
    "    return 0.5*np.sum((y_pred - y_true)**2)"
   ]
  },
  {
   "cell_type": "code",
   "execution_count": 4,
   "id": "3ac4fa27",
   "metadata": {},
   "outputs": [],
   "source": [
    "# Generate data\n",
    "x_vals = np.linspace(1, 20, 50)\n",
    "y_vals = y_x_ab(x_vals)\n",
    "# Initial estimates\n",
    "a_k, b_k = 3.5, 5\n",
    "lm_lambda = 0.07 # Lambda value for LM method (fixed)\n",
    "lm_steps = 32   # Number of steps for LM method\n",
    "# Log everything\n",
    "est_hist = [[a_k, b_k]] # Estimates\n",
    "loss_hist = [calc_loss(y_x_ab(x_vals, a_k, b_k), y_vals)]   # Loss"
   ]
  },
  {
   "cell_type": "code",
   "execution_count": 5,
   "id": "ad1b8a78",
   "metadata": {},
   "outputs": [],
   "source": [
    "a_i, b_i = a_k, b_k\n",
    "# Main optimization\n",
    "for i in range(lm_steps):\n",
    "    # Calculate Jacobian\n",
    "    J_y = jac_y(x_vals, a_k, b_k)\n",
    "    # Residuals\n",
    "    res = y_x_ab(x_vals, a_k, b_k) - y_vals\n",
    "    # Change in vals\n",
    "    d_h = -np.linalg.inv(J_y.T @ J_y + \\\n",
    "        lm_lambda * np.eye(2)) @ J_y.T @ res\n",
    "    # New values\n",
    "    a_k = a_k + d_h[0]\n",
    "    b_k = b_k + d_h[1]\n",
    "    # Log everything\n",
    "    est_hist.append([a_k, b_k])\n",
    "    loss_hist.append(calc_loss(y_x_ab(x_vals, a_k, b_k), y_vals))"
   ]
  },
  {
   "cell_type": "code",
   "execution_count": 6,
   "id": "2b5e5f0a",
   "metadata": {},
   "outputs": [
    {
     "name": "stdout",
     "output_type": "stream",
     "text": [
      "Original values of a, b = 2, 1\n",
      "Initial values of a, b = 3.5000, 5.0000\n",
      "Final values of a, b = 2.0428, 1.0002\n",
      "Final loss is: 0.000019\n"
     ]
    }
   ],
   "source": [
    "print(f\"Original values of a, b = {a_original}, {b_original}\")\n",
    "print(f\"Initial values of a, b = {a_i:.4f}, {b_i:.4f}\")\n",
    "print(f\"Final values of a, b = {a_k:.4f}, {b_k:.4f}\")\n",
    "print(f\"Final loss is: {loss_hist[-1]:.6f}\")"
   ]
  },
  {
   "cell_type": "markdown",
   "id": "54f10dbc",
   "metadata": {},
   "source": [
    "### Visualize the result"
   ]
  },
  {
   "cell_type": "code",
   "execution_count": 7,
   "id": "071722ab",
   "metadata": {},
   "outputs": [
    {
     "data": {
      "image/png": "[encoded data removed]",
      "text/plain": [
       "<Figure size 432x288 with 1 Axes>"
      ]
     },
     "metadata": {
      "needs_background": "light"
     },
     "output_type": "display_data"
    }
   ],
   "source": [
    "# Loss Value (absolute)\n",
    "plt.figure()\n",
    "plt.title(\"Loss vs. Iterations\")\n",
    "plt.plot(loss_hist)\n",
    "plt.xlabel(\"Iterations\")\n",
    "plt.ylabel(\"Loss value\")\n",
    "plt.grid()\n",
    "plt.show()"
   ]
  },
  {
   "cell_type": "code",
   "execution_count": 8,
   "id": "19f00b64",
   "metadata": {},
   "outputs": [
    {
     "data": {
      "image/png": "[encoded data removed]",
      "text/plain": [
       "<Figure size 432x288 with 1 Axes>"
      ]
     },
     "metadata": {
      "needs_background": "light"
     },
     "output_type": "display_data"
    }
   ],
   "source": [
    "# Curves\n",
    "viz_cs = [-20, -5, -2, -1]  # Sequences to visualize\n",
    "# Plot everything\n",
    "plt.figure()\n",
    "plt.title(\"Data Fit curves\")\n",
    "plt.plot(x_vals, y_vals, '-', label=\"GT\")\n",
    "for i, (a, b) in enumerate(np.array(est_hist)[viz_cs]):\n",
    "    y_v = y_x_ab(x_vals, a, b)\n",
    "    plt.plot(x_vals, y_v, '--', label=f\"{viz_cs[i]}\")\n",
    "plt.xlabel(\"X value\")\n",
    "plt.ylabel(\"Y value\")\n",
    "plt.legend()\n",
    "plt.show()"
   ]
  },
  {
   "cell_type": "markdown",
   "id": "00dd9cd6",
   "metadata": {},
   "source": [
    "The plots in 'true' scale domain may be useless (nothing can be made out of it). Let's plot and show the results in the `log` scale. We'll plot only the absolute value of the function $y$. Fortunately, no value of $x$ is a multiple of $\\pi$ (because `linspace` won't give us irrational numbers) we can therefore successfully plot them."
   ]
  },
  {
   "cell_type": "code",
   "execution_count": 9,
   "id": "f6d721ad",
   "metadata": {},
   "outputs": [
    {
     "data": {
      "image/png": "[encoded data removed]",
      "text/plain": [
       "<Figure size 432x288 with 1 Axes>"
      ]
     },
     "metadata": {
      "needs_background": "light"
     },
     "output_type": "display_data"
    }
   ],
   "source": [
    "# Log-loss values\n",
    "plt.figure()\n",
    "plt.title(\"Log of loss vs. Iterations\")\n",
    "plt.plot(np.log(loss_hist)) # Can go to -ve for loss << 1\n",
    "plt.xlabel(\"Iterations\")\n",
    "plt.ylabel(\"Log-Loss value\")\n",
    "plt.grid()\n",
    "plt.show()"
   ]
  },
  {
   "cell_type": "code",
   "execution_count": 10,
   "id": "626c73ab",
   "metadata": {},
   "outputs": [
    {
     "data": {
      "image/png": "[encoded data removed]",
      "text/plain": [
       "<Figure size 432x288 with 1 Axes>"
      ]
     },
     "metadata": {
      "needs_background": "light"
     },
     "output_type": "display_data"
    }
   ],
   "source": [
    "# Log-value plots\n",
    "viz_cs = [-25, -15, -1]  # Sequences to visualize\n",
    "# Plot everything\n",
    "plt.figure()\n",
    "plt.title(\"Log of Abs(y) - Data Fit curves\")\n",
    "plt.plot(x_vals, np.log(np.abs(y_vals)), '-', label=\"GT\")\n",
    "for i, (a, b) in enumerate(np.array(est_hist)[viz_cs]):\n",
    "    y_v = y_x_ab(x_vals, a, b)\n",
    "    plt.plot(x_vals, np.log(np.abs(y_v)), ':', label=f\"{viz_cs[i]}\")\n",
    "plt.xlabel(\"X value\")\n",
    "plt.ylabel(\"Log abs(Y) value\")\n",
    "plt.legend()\n",
    "plt.show()"
   ]
  },
  {
   "cell_type": "markdown",
   "id": "d95caae9",
   "metadata": {},
   "source": [
    "This seems better (more well separated, as well as better descending in loss). We can observe the exponential term (value for $a$) also updating accordingly. The final results are as follows."
   ]
  },
  {
   "cell_type": "code",
   "execution_count": 11,
   "id": "494fdfb9",
   "metadata": {},
   "outputs": [
    {
     "name": "stdout",
     "output_type": "stream",
     "text": [
      "Original values of a, b = 2, 1\n",
      "Final values of a, b = 2.0428, 1.0002\n"
     ]
    }
   ],
   "source": [
    "print(f\"Original values of a, b = {a_original}, {b_original}\")\n",
    "print(f\"Final values of a, b = {a_k:.4f}, {b_k:.4f}\")"
   ]
  },
  {
   "cell_type": "code",
   "execution_count": 12,
   "id": "e1401db3",
   "metadata": {},
   "outputs": [
    {
     "name": "stdout",
     "output_type": "stream",
     "text": [
      "Final loss is: 0.000019\n"
     ]
    }
   ],
   "source": [
    "print(f\"Final loss is: {loss_hist[-1]:.6f}\")"
   ]
  },
  {
   "cell_type": "markdown",
   "id": "54380cbc",
   "metadata": {},
   "source": [
    "---"
   ]
  },
  {
   "cell_type": "markdown",
   "id": "015d1801",
   "metadata": {},
   "source": [
    "## Linear Least Square\n",
    "\n",
    "**2. Linear least square**: You are given a bin file from the Kitti raw sequence. Estimate the ground plane from the given bin file. After estimating the ground plane, visualize this in open3d by drawing 200-300 points on the ground with a different color on top of the plot obtained from the LiDAR scan. Use RANSAC to estimate the ground plane. Will this work without RANSAC? Why or Why not? Write down the equation of the ground plane obtained and also mention the parameters used for doing RANSAC  **\\[6 points\\]**\n"
   ]
  },
  {
   "cell_type": "markdown",
   "id": "98317d6e",
   "metadata": {},
   "source": [
    "\n",
    "Expected result is displayed here:\n",
    "\n",
    "![output](./data/groundplane.png)"
   ]
  },
  {
   "cell_type": "code",
   "execution_count": 13,
   "id": "13125782",
   "metadata": {},
   "outputs": [],
   "source": [
    "def read_bin_file(file_name):\n",
    "    '''\n",
    "    Read the bin file\n",
    "    '''\n",
    "    points = np.fromfile(file_name, dtype=np.float32).reshape(-1, 4)\n",
    "    points = points[:,:3]                # exclude reflectance values, becomes [X Y Z]\n",
    "    points = points[1::5,:]              # remove every 5th point for display speed (optional)\n",
    "    return points"
   ]
  },
  {
   "cell_type": "code",
   "execution_count": 14,
   "id": "ec98e64a",
   "metadata": {},
   "outputs": [],
   "source": [
    "filename = \"./data/000013.bin\"\n",
    "points = read_bin_file(filename)\n",
    "# A coordinate frame (just for reference)\n",
    "cf = o3d.geometry.TriangleMesh.create_coordinate_frame(size=2, \n",
    "    origin=[0, 0, 0])\n",
    "# Function used to visualize point clouds, takes a list of 3 x N numpy array as input and plots\n",
    "util.visualize_pointclouds([points.T], cf)"
   ]
  },
  {
   "cell_type": "markdown",
   "id": "d197e311",
   "metadata": {},
   "source": [
    "### Ignore: Lazy Solution\n",
    "\n",
    "A very simple, but extremely lazy solution can be found using mode of the Z values. This is because the axis are (nearly) aligned with the plane, so the most frequent Z value will be the plane. Check out [statistics.mode](https://docs.python.org/3/library/statistics.html#statistics.mode) for this.\n",
    "\n",
    "This does **not** involve RANSAC or _any_ optimization, but will fail _terribly_ if the XY plane isn't truly aligned with the ground plane. We'll use this as a validation, and this can be ignored for most of the work after the following result."
   ]
  },
  {
   "cell_type": "code",
   "execution_count": 15,
   "id": "ee3170b6",
   "metadata": {},
   "outputs": [
    {
     "name": "stdout",
     "output_type": "stream",
     "text": [
      "The ground plane is probably at: Z = -1.3147779703140259\n"
     ]
    }
   ],
   "source": [
    "import statistics\n",
    "# Get the Z values\n",
    "z_v = points[:, 2]\n",
    "# Get the mode (plane: Z depth)\n",
    "pz_depth = statistics.mode(z_v)\n",
    "print(f\"The ground plane is probably at: Z = {pz_depth}\")"
   ]
  },
  {
   "cell_type": "markdown",
   "id": "9457b44d",
   "metadata": {},
   "source": [
    "However, if there are significant outliers (say the point cloud of a wall in front), then this method can fail. We shall move to least squares solution (using RANSAC)"
   ]
  },
  {
   "cell_type": "markdown",
   "id": "15f24096",
   "metadata": {},
   "source": [
    "### Fitting a plane using Least Squares\n",
    "\n",
    "**Model of plane**: We assume that the ground plane can be represented as $z = ax + by + c$ (that is, the Z axis is not in the ground plane as a part of it). We're given a set of $\\{(x_i, y_i), z_i\\}$ points, we need to find $a, b, c$ parameters.\n",
    "\n",
    "Theoretically, 3 points are enough to fit a plane. However, having a little more points can give a better estimate. We'll use 5 points here. So we fit a plane through five points."
   ]
  },
  {
   "cell_type": "markdown",
   "id": "8056ab49",
   "metadata": {},
   "source": [
    "**Direct Solution**\n",
    "\n",
    "A direct solution can be found using the form $\\mathbf{z} = \\mathbf{X} \\mathbf{w}$ where $\\mathbf{X} = \\left [ \\mathbf{x} \\;\\; \\mathbf{y} \\;\\; \\mathbf{1} \\right ]_{5, 3}$ is formed by the data points $\\{(x_i, y_i)\\}$, $\\mathbf{w} = [a \\;\\; b \\;\\; c]_{3, 1}$ is the parameter vector, and $\\mathbf{z}_{5, 3}$ is formed by the data points $z_i$. We get this solution using the pseudo-inverse as described below\n",
    "\n",
    "$$\n",
    "\\mathbf{Xw} = \\mathbf{z} \\Rightarrow \\mathbf{X^\\top Xw} = \\mathbf{X^\\top z} \\Rightarrow \\mathbf{w} = \\left ( \\mathbf{X^\\top X} \\right )^{-1} \\mathbf{X^\\top z}\n",
    "$$\n",
    "\n",
    "This is implemented in the function `fit_plane_one_shot`"
   ]
  },
  {
   "cell_type": "code",
   "execution_count": 16,
   "id": "bb13244d",
   "metadata": {},
   "outputs": [],
   "source": [
    "def fit_plane_one_shot(x, y, z):\n",
    "    X = np.vstack((x, y, np.ones_like(x))).T\n",
    "    W = np.linalg.inv(X.T @ X) @ X.T @ z\n",
    "    a, b, c = W\n",
    "    return a, b, c"
   ]
  },
  {
   "cell_type": "markdown",
   "id": "92315c03",
   "metadata": {},
   "source": [
    "**Least Squares solution**\n",
    "\n",
    "We define the objective to be\n",
    "\n",
    "$$\n",
    "L = \\frac{1}{2} \\sum_{i=1}^{N} \\left( \\hat{z}_i - z_i \\right )^2 \\qquad\n",
    "\\textup{where} \\;\\; \\hat{z}_i = ax_i + by_i + c\n",
    "$$\n",
    "\n",
    "It is clear that for $\\mathbf{w} = [a \\;\\; b \\;\\; c]_{3, 1}$, the jacobian will be\n",
    "\n",
    "$$\n",
    "\\frac{\\partial L}{\\partial \\mathbf{w}} = \\mathbf{X^\\top r} \\qquad\n",
    "\\textup{where} \\;\\; \\mathbf{r}_{N, 1} = \\mathbf{\\hat{z}}_{N, 1} - \\mathbf{z}_{N, 1}\n",
    "$$\n",
    "\n",
    "We can either use gradient descent, or LM (as we did earlier)\n",
    "\n",
    "- _Gradient Descent_ will give the update rule. This is implemented in `fit_plane_gd`\n",
    "\n",
    "    $$ \\delta \\mathbf{w} = -\\alpha \\mathbf{X^\\top r} $$\n",
    "\n",
    "- _LM_ will give the update rule. This is implemented in `fit_plane_lm`\n",
    "\n",
    "    $$ \\delta \\mathbf{w} = - \\left ( \\mathbf{X^\\top X} + \\lambda \\mathbf{I} \\right )^{-1} \\mathbf{X^\\top r} $$\n",
    "\n"
   ]
  },
  {
   "cell_type": "code",
   "execution_count": 17,
   "id": "67e37116",
   "metadata": {},
   "outputs": [],
   "source": [
    "# Fit plane using Gradient Descent\n",
    "def fit_plane_gd(x, y, z, N = 25, lr = 4e-3):\n",
    "    def z_xy(x, y, a, b, c):\n",
    "        return a*x+b*y+c\n",
    "    X = np.vstack((x, y, np.ones_like(x))).T\n",
    "    w_init = np.random.rand(3)\n",
    "    w = w_init\n",
    "    for _ in range(N):\n",
    "        res = z_xy(x, y, *w) - z    # Residuals\n",
    "        dW = (-lr) * X.T @ res\n",
    "        w += dW\n",
    "    a, b, c = w\n",
    "    return a, b, c\n",
    "\n",
    "# Fit plane using Levenberg Marquadt\n",
    "def fit_plane_lm(x, y, z, N = 10, lm_lb = 0.5):\n",
    "    def z_xy(x, y, a, b, c):\n",
    "        return a*x+b*y+c\n",
    "    X = np.vstack((x, y, np.ones_like(x))).T\n",
    "    w_init = np.random.rand(3)\n",
    "    w = w_init\n",
    "    for _ in range(N):\n",
    "        res = z_xy(x, y, *w) - z    # Residuals\n",
    "        dW = -np.linalg.inv(X.T @ X + lm_lb * np.eye(3)) @ X.T @ res\n",
    "        w += dW\n",
    "    a, b, c = w\n",
    "    return a, b, c"
   ]
  },
  {
   "cell_type": "markdown",
   "id": "e8ceb0b5",
   "metadata": {},
   "source": [
    "Because of speed, convergence and stability, we'll use `fit_plane_one_shot` or `fit_plane_lm`\n"
   ]
  },
  {
   "cell_type": "code",
   "execution_count": 18,
   "id": "c30b8820",
   "metadata": {},
   "outputs": [
    {
     "name": "stdout",
     "output_type": "stream",
     "text": [
      "One Shot: (-1.320000000000002, 3.400000000000004, -5.270000000000002)\n",
      "LM: (-1.3242965509369844, 3.398622669053574, -5.2412578619101735)\n"
     ]
    }
   ],
   "source": [
    "# Testing the above methods\n",
    "x = np.random.rand(5) * 10\n",
    "y = np.random.rand(5) * 10\n",
    "# z = ax + by + c, estimate a, b, c; given {(x, y), z}\n",
    "_a, _b, _c = -1.32, 3.4, -5.27\n",
    "def z_xy(x, y, a = _a, b = _b, c = _c):\n",
    "    return a*x+b*y+c\n",
    "z_true = z_xy(x, y)\n",
    "print(f\"One Shot: {fit_plane_one_shot(x, y, z_true)}\")\n",
    "print(f\"LM: {fit_plane_lm(x, y, z_true)}\")"
   ]
  },
  {
   "cell_type": "markdown",
   "id": "8f4cea89",
   "metadata": {},
   "source": [
    "### RANSAC: Random Sample Consensus\n",
    "\n",
    "We have many points in the point cloud. For a decided number of times, we'll randomly pick 5 points, fit a plane through it, check how many points conform to the plane (Z disparity is within a threshold), and add it to a list of candidates we're tracking (along with its score of the number of conforming points).\n",
    "\n",
    "In the end (after a decided number of iterations), the plane with the most number of conforming points is chosen as the result.\n",
    "\n",
    "More details on the solution after visualizing the result.\n"
   ]
  },
  {
   "cell_type": "markdown",
   "id": "b9155c15",
   "metadata": {},
   "source": [
    "The parameters used for RANSAC are described below\n",
    "\n",
    "- Number of runs `N_r`: Number of times to run the RANSAC process. We'll have a 300 runs.\n",
    "- Number of samples `N_s`: The number of samples used in each run to find the plane. This is 5 in our case, as we're using 5 points in each run to find the equation of the place.\n",
    "- Inlier threshold `dz_thresh`: The threshold for absolute difference in Z values of points (to be considered as inliers). Let the points be in a 10 cm threshold (or `0.1` m).\n",
    "- Task function `find_plane`: This function takes a set of points $\\mathbf{x}$, $\\mathbf{y}$ and $\\mathbf{z}$ and returns $a, b, c$ (the parameters of the plane passing through the points). The plane is expressed in the form $z = ax + by + c$. This is a wrapper for `fit_plane_one_shot` or `fit_plane_lm`"
   ]
  },
  {
   "cell_type": "code",
   "execution_count": 19,
   "id": "51dfc5ff",
   "metadata": {},
   "outputs": [],
   "source": [
    "# Parameters\n",
    "N_r = 300\n",
    "N_s = 5\n",
    "dz_thresh = 0.1\n",
    "# Use the one shot solution for plane\n",
    "find_plane = lambda x, y, z: fit_plane_lm(x, y, z)"
   ]
  },
  {
   "cell_type": "code",
   "execution_count": 20,
   "id": "9b07674d",
   "metadata": {},
   "outputs": [
    {
     "name": "stdout",
     "output_type": "stream",
     "text": [
      "Estimated plane parameters (a, b, c): 0.014, 0.0273, -1.71\n"
     ]
    }
   ],
   "source": [
    "# --- RANSAC Implementation ---\n",
    "\n",
    "# Function: Get z for x and y\n",
    "def z_xy(x, y, a, b, c):\n",
    "    return a*x+b*y+c\n",
    "\n",
    "# Store results\n",
    "pl_vals = []    # Plane values\n",
    "ncps = []   # No. of points conforning\n",
    "for i in range(N_r):\n",
    "    # Sample N_s points randomly\n",
    "    si = np.random.randint(0, points.shape[0], N_s)\n",
    "    x = points[si, 0]\n",
    "    y = points[si, 1]\n",
    "    z = points[si, 2]\n",
    "    # Main task: Fit the plane\n",
    "    a, b, c = find_plane(x, y, z)\n",
    "    # Log it\n",
    "    pl_vals.append([a, b, c])\n",
    "    # Number of points conforming\n",
    "    zhat = z_xy(points[:, 0], points[:, 1], a, b, c)\n",
    "    dza = np.abs(zhat - points[:, 2])   # Abs. diff. in Z vals\n",
    "    ncps.append(np.sum(dza < dz_thresh))    # Number of inliers\n",
    "# Some adjustments for the end\n",
    "pl_vals = np.array(pl_vals)\n",
    "ncps = np.array(ncps)\n",
    "# Best values of the a, b, c - points that have maximum inliers\n",
    "a, b, c = pl_vals[np.argmax(ncps)]\n",
    "print(f\"Estimated plane parameters (a, b, c): \"\n",
    "    f\"{a:.3f}, {b:.3}, {c:.3}\")"
   ]
  },
  {
   "cell_type": "markdown",
   "id": "54876e26",
   "metadata": {},
   "source": [
    "This isn't too far from the expected solution (maybe the lazy solution was wrong). Let's see how it looks with the point cloud"
   ]
  },
  {
   "cell_type": "markdown",
   "id": "036ca61e",
   "metadata": {},
   "source": [
    "### Visualizing the resulting plane\n",
    "\n",
    "The parameters $a, b, c$ are obtained through RANSAC earlier. In this section, the result is shown"
   ]
  },
  {
   "cell_type": "code",
   "execution_count": 21,
   "id": "c00ded70",
   "metadata": {},
   "outputs": [],
   "source": [
    "nx, ny = 100, 100\n",
    "# X axis ticks\n",
    "xt = np.linspace(np.min(points[:, 0]), np.max(points[:, 0]), nx)\n",
    "# Y axis ticks\n",
    "yt = np.linspace(np.min(points[:, 1]), np.max(points[:, 1]), ny)\n",
    "# Grid - XY plane\n",
    "xyg = np.array(np.meshgrid(xt, yt)).T.reshape(-1, 2)\n",
    "# Get Z values\n",
    "zvs = z_xy(xyg[:, 0], xyg[:, 1], a, b, c)\n",
    "# Plane points\n",
    "plane_pts = np.hstack((xyg, zvs.reshape(-1, 1)))"
   ]
  },
  {
   "cell_type": "code",
   "execution_count": 22,
   "id": "8af0c653",
   "metadata": {},
   "outputs": [],
   "source": [
    "# Show them in o3d with the point cloud\n",
    "util.visualize_pointclouds([points.T, plane_pts.T], cf)"
   ]
  },
  {
   "cell_type": "markdown",
   "id": "80e0c812",
   "metadata": {},
   "source": [
    "The resulting plane obtained looks fairly obvious and good. It's shown below\n",
    "\n",
    "<img src=\"./figures/res_plane.png\" width=450 alt=\"Ground plane\" />\n",
    "\n",
    "<img src=\"./figures/res_plane2.png\" width=450 alt=\"Ground plane from another view\" />\n",
    "\n",
    "Note how the orange dots appear well aligned on the blue dots."
   ]
  },
  {
   "cell_type": "markdown",
   "id": "f03fcb87",
   "metadata": {},
   "source": [
    "### Will this work without RANSAC\n",
    "\n",
    "It is highly unlikely that we will get such a good result without RANSAC. We can see that through RANSAC, we get a plane that almost fits the true ground plane (estimated by the region around the center aligning with the orange dots). There are greater chances that (through RANSAC) when we sample a small number of points, they lie on the plane, _than_ the changes of the entire scene uniformly lying on a plane and giving us that. However, it really depends on the scene.\n",
    "\n",
    "Note that for RANSAC, it's not the majority that has to concur, it's only that the most number of samples that concur decide the result. There could be few points on the ground, but if the maximum that concur come from the estimates that are the true ground, then the ground will be selected.\n",
    "\n",
    "If we do not use RANSAC, we could find the best fit by pushing the entire point cloud through the `fit_plane_*` functions (but this could be very clunky, there are too many points). The result is shown in the cells below."
   ]
  },
  {
   "cell_type": "code",
   "execution_count": 23,
   "id": "81141123",
   "metadata": {},
   "outputs": [
    {
     "name": "stdout",
     "output_type": "stream",
     "text": [
      "RANSC: 0.014496642039066268, 0.027300785373603878, -1.7111932801977787\n",
      "One Shot: 0.012147373519837856, 0.005404871888458729, -1.4274954795837402\n",
      "LM: 0.012147378957080672, 0.005404870614909125, -1.4274955354924441\n"
     ]
    }
   ],
   "source": [
    "print(f\"RANSC: {a}, {b}, {c}\")\n",
    "aos, bos, cos = fit_plane_one_shot(points[:, 0], points[:, 1],\n",
    "    points[:, 2])\n",
    "print(f\"One Shot: {aos}, {bos}, {cos}\")\n",
    "alm, blm, clm = fit_plane_lm(points[:, 0], points[:, 1], \n",
    "    points[:, 2])\n",
    "print(f\"LM: {alm}, {blm}, {clm}\")"
   ]
  },
  {
   "cell_type": "code",
   "execution_count": 24,
   "id": "79318d03",
   "metadata": {},
   "outputs": [],
   "source": [
    "# Get Z values\n",
    "zvsos = z_xy(xyg[:, 0], xyg[:, 1], aos, bos, cos)\n",
    "zvslm = z_xy(xyg[:, 0], xyg[:, 1], alm, blm, clm)\n",
    "# Plane points\n",
    "planeos_pts = np.hstack((xyg, zvsos.reshape(-1, 1)))\n",
    "planelm_pts = np.hstack((xyg, zvslm.reshape(-1, 1)))\n",
    "# Visualize it\n",
    "util.visualize_pointclouds([points.T, plane_pts.T, planeos_pts.T, \n",
    "    planelm_pts.T], cf)"
   ]
  },
  {
   "cell_type": "markdown",
   "id": "ab94d9e4",
   "metadata": {},
   "source": [
    "We got an estimate, but the other points in the scene raised the level of ground.\n",
    "\n",
    "<img src=\"./figures/res_plane_others.png\" width=450 alt=\"Ground plane through others too\" />\n",
    "\n",
    "Note how the orange points still align with the region around the ground better than the red (and green) points, which are more in air (these are the direct one-shot and LM solutions). The _lazy_ solution also gave us the same error (note that we took the _mode_ there).\n",
    "\n",
    "Hence, for this problem, **RANSAC gave better estimates**.\n"
   ]
  },
  {
   "cell_type": "markdown",
   "id": "8ef32ce7",
   "metadata": {},
   "source": [
    "The equation of the plane is\n",
    "\n",
    "$$ z = a x + b y + c $$\n",
    "\n",
    "Where $a = 0.02570133019191215$, $b = 0.029228050710190592$ and $c = -1.7198900700311772$ (the RANSAC solution).\n",
    "\n",
    "The model parameters for RANSAC was described in the section that introduced RANSAC."
   ]
  },
  {
   "cell_type": "code",
   "execution_count": null,
   "id": "3e042d51",
   "metadata": {},
   "outputs": [],
   "source": [
    "# Cell for rough work!"
   ]
  }
 ],
 "metadata": {
  "kernelspec": {
   "display_name": "Python 3 (ipykernel)",
   "language": "python",
   "name": "python3"
  },
  "language_info": {
   "codemirror_mode": {
    "name": "ipython",
    "version": 3
   },
   "file_extension": ".py",
   "mimetype": "text/x-python",
   "name": "python",
   "nbconvert_exporter": "python",
   "pygments_lexer": "ipython3",
   "version": "3.8.0"
  }
 },
 "nbformat": 4,
 "nbformat_minor": 5
}
