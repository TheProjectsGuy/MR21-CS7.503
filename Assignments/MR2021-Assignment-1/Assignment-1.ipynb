{
 "cells": [
  {
   "cell_type": "markdown",
   "metadata": {},
   "source": [
    "# Assignment-1: Transformations and representations\n",
    "\n",
    "Team: `MR21_3241`\n",
    "\n",
    "Roll Number: `2019111041` (Prateek Sancheti), `2021701032` (Avneesh Mishra)\n"
   ]
  },
  {
   "cell_type": "markdown",
   "metadata": {},
   "source": [
    "# Instructions\n",
    "\n",
    "- Code must be written in Python in Jupyter Notebooks. We highly recommend using anaconda distribution or at the minimum, virtual environments for this assignment. See `Set Up` for detailed step-by-step instructions about the installation setup.\n",
    "- Save all your results in ```results/<question_number>/<sub_topic_number>/```\n",
    "- The **References** section provides you with important resources to solve the assignment.\n",
    "- For this assignment, you will be using Open3D extensively. Refer to [Open3D Documentation](http://www.open3d.org/docs/release/): you can use the in-built methods and **unless explicitly mentioned**, don't need to code from scratch for this assignment. \n",
    "- Make sure your code is modular since you may need to reuse parts for future assignments.\n",
    "- Answer the descriptive questions in your own words with context & clarity. Do not copy answers from online resources or lecture notes.\n",
    "- The **deadline** for this assignment is on 11/09/2021 at 11:55pm. Please note that there will be no extensions.\n",
    "- Plagiarism is **strictly prohibited**.\n"
   ]
  },
  {
   "cell_type": "markdown",
   "metadata": {},
   "source": [
    "# Submission Instructions\n",
    "\n",
    "1. Make sure your code runs without any errors after reinitializing the kernel and removing all saved variables.\n",
    "2. After completing your code and saving your results, zip the folder with name as ``Team_<team_name>_MR2021_Assignment_<assignment_number>.zip``"
   ]
  },
  {
   "cell_type": "markdown",
   "metadata": {},
   "source": [
    "# Set Up\n",
    "\n",
    "We highly recommend using anaconda distribution or at the minimum, virtual environments for this assignment. All assignments will be python based, hence familiarising yourself with Python is essential.\n"
   ]
  },
  {
   "cell_type": "markdown",
   "metadata": {},
   "source": [
    "## Setting up Anaconda environment (Recommended)\n",
    "\n",
    "1. Install Anaconda or Miniconda from [here](https://docs.conda.io/projects/conda/en/latest/user-guide/install/linux.html) depending on your requirements.\n",
    "2. Now simply run `conda env create -f environment.yml` in the current folder to create an environment `mr_assignment1` (`environment.yml` can be found in `misc/`).\n",
    "3. Activate it using `conda activate mr_assignment1`.\n",
    "\n",
    "## Setting up Virtual environment using venv\n",
    "\n",
    "You can also set up a virtual environment using venv\n",
    "\n",
    "1. Run `sudo apt-get install python3-venv` from command line.\n",
    "2. `python3 -m venv ~/virtual_env/mr_assignment1`. (you can set the environment path to anything)\n",
    "3. `source ~/virtual_env/mr_assignment1/bin/activate`\n",
    "4. `pip3 install -r requirements.txt` from the current folder (`requirements.txt` can be found in `misc/`)."
   ]
  },
  {
   "cell_type": "code",
   "execution_count": 1,
   "metadata": {},
   "outputs": [
    {
     "name": "stdout",
     "output_type": "stream",
     "text": [
      "Jupyter environment detected. Enabling Open3D WebVisualizer.\n",
      "[Open3D INFO] WebRTC GUI backend enabled.\n",
      "[Open3D INFO] WebRTCWindowSystem: HTTP handshake server disabled.\n"
     ]
    }
   ],
   "source": [
    "import open3d as o3d\n",
    "import numpy as np\n",
    "import copy"
   ]
  },
  {
   "cell_type": "markdown",
   "metadata": {},
   "source": [
    "# 1. Getting started with Open3D\n",
    "\n",
    "Open3D is an open-source library that deals with 3D data, such as point clouds, mesh. We'll be using Open3D frequently as we work with point clouds. Let's start with something simple:\n",
    "\n",
    "<img src=\"misc/bunny.jpg\" alt=\"drawing\" width=\"200\"/>\n",
    "\n",
    "1. Read the Stanford Bunny file (in `data/`) given to you and visualise it using Open3D.\n",
    "2. Convert the mesh to a point cloud and change the colour of points.\n",
    "3. Set a predefined viewing angle (using Open3D) for visualization and display the axes while plotting.\n",
    "4. Scale, Transform, and Rotate the rabbit (visualise after each step).\n",
    "5. Save the point cloud as bunny.pcd."
   ]
  },
  {
   "cell_type": "markdown",
   "metadata": {},
   "source": [
    "## Answer 1: **Read and Visualize** Stanford bunny file\n",
    "\n",
    "Let's start with declaring the file name"
   ]
  },
  {
   "cell_type": "code",
   "execution_count": 2,
   "metadata": {},
   "outputs": [],
   "source": [
    "# Read the mesh file\n",
    "file_name = \"./data/bunny.ply\""
   ]
  },
  {
   "cell_type": "markdown",
   "metadata": {},
   "source": [
    "\n",
    "\n",
    "- Read using [read_triangle_mesh](http://www.open3d.org/docs/release/tutorial/geometry/file_io.html#Mesh)\n",
    "- Visualize using [draw_geometries](http://www.open3d.org/docs/release/tutorial/visualization/visualization.html#Function-draw_geometries)"
   ]
  },
  {
   "cell_type": "code",
   "execution_count": 3,
   "metadata": {},
   "outputs": [],
   "source": [
    "\n",
    "bunny_mesh = o3d.io.read_triangle_mesh(file_name)\n",
    "# Visualize the mesh\n",
    "o3d.visualization.draw_geometries([bunny_mesh], \"Bunny Mesh\", width=1080, height=720)"
   ]
  },
  {
   "cell_type": "markdown",
   "metadata": {},
   "source": [
    "This gives the following result\n",
    "\n",
    "![Bunny mesh file](./results/1/1.jpg)"
   ]
  },
  {
   "cell_type": "markdown",
   "metadata": {},
   "source": [
    "## Answer 2: **Convert Mesh to Point Cloud** and **change color**\n",
    "\n",
    "Let's set sampling first"
   ]
  },
  {
   "cell_type": "code",
   "execution_count": 4,
   "metadata": {},
   "outputs": [],
   "source": [
    "N = 2500"
   ]
  },
  {
   "cell_type": "markdown",
   "metadata": {},
   "source": [
    "\n",
    "- Sample points from mesh to point cloud using [sample_points_uniformly](http://www.open3d.org/docs/release/tutorial/geometry/mesh.html#Sampling)\n",
    "- Paint point cloud using [paint_uniform_color](http://www.open3d.org/docs/release/tutorial/geometry/pointcloud.html#Paint-point-cloud)"
   ]
  },
  {
   "cell_type": "code",
   "execution_count": 5,
   "metadata": {},
   "outputs": [],
   "source": [
    "# Convert to point cloud with N points\n",
    "bunny_pc = bunny_mesh.sample_points_uniformly(N)\n",
    "# Show both the mesh and the point cloud version\n",
    "o3d.visualization.draw_geometries([bunny_mesh, bunny_pc], \"Bunny PC and Mesh\", width=1080, height=720)\n",
    "# Paint point cloud\n",
    "c = [252, 123, 3] # RGB 255 color\n",
    "bunny_pc.paint_uniform_color([c[0]/255, c[1]/255, c[2]/255])\n",
    "o3d.visualization.draw_geometries([bunny_pc], width=1080, height=720)"
   ]
  },
  {
   "cell_type": "markdown",
   "metadata": {},
   "source": [
    "The output for drawing point cloud and mesh is as shown below\n",
    "\n",
    "![Point cloud and mesh](./results/1/2.1.jpg)\n",
    "\n",
    "The output after giving a custom color to the pointcloud is shown below\n",
    "\n",
    "![Colored point cloud](./results/1/2.2.jpg)"
   ]
  },
  {
   "cell_type": "markdown",
   "metadata": {},
   "source": [
    "## Answer 3: Set predefined **viewing angle** for visualization and display **axes** when plotting\n",
    "\n",
    "Let's define an axis first"
   ]
  },
  {
   "cell_type": "markdown",
   "metadata": {},
   "source": [
    "- Create a coordinate frame handle using [create_coordinate_frame](http://www.open3d.org/docs/latest/python_api/open3d.geometry.TriangleMesh.html#open3d.geometry.TriangleMesh.create_coordinate_frame)"
   ]
  },
  {
   "cell_type": "code",
   "execution_count": 6,
   "metadata": {},
   "outputs": [],
   "source": [
    "cf = o3d.geometry.TriangleMesh.create_coordinate_frame(size=0.2, origin=[0, 0, 0])"
   ]
  },
  {
   "cell_type": "markdown",
   "metadata": {},
   "source": [
    "Let's create the function that'll do the visualization for us\n",
    "\n",
    "- Using Customized visualization as shown [here](http://www.open3d.org/docs/release/tutorial/visualization/customized_visualization.html)\n",
    "    - Get the [ViewControl](http://www.open3d.org/docs/0.12.0/python_api/open3d.visualization.ViewControl.html) object using [get_view_control](http://www.open3d.org/docs/0.12.0/python_api/open3d.visualization.Visualizer.html#open3d.visualization.Visualizer.get_view_control) function"
   ]
  },
  {
   "cell_type": "code",
   "execution_count": 7,
   "metadata": {},
   "outputs": [],
   "source": [
    "def custom_draw_geometry(pcds, look_at=[0, 0.1, 0], cam_front=[-1, 0, 0.2], cam_up=[0, 1, 0], \\\n",
    "                         title=\"Custom View\", width=1080, height=720):\n",
    "    \"\"\"\n",
    "    Draws geometry with the specified camera parameters\n",
    "    \n",
    "    Parameters:\n",
    "    - pcds: [geometry]\n",
    "        A list of geometry objects\n",
    "    - look_at: (3,1)\n",
    "        A vector that will be at center of window\n",
    "    - cam_front: (3,1)\n",
    "        A vector where the camera front is located\n",
    "    - cam_up: (3, 1)\n",
    "        A vector that points upwards to the camera\n",
    "        for orientation information\n",
    "    - title: str    default: \"Custom View\"\n",
    "        The title of window\n",
    "    - width: int    default: 1080\n",
    "        Width of display window\n",
    "    - height: int    default: 720\n",
    "        Height of the display window\n",
    "    \"\"\"\n",
    "    vis = o3d.visualization.Visualizer()\n",
    "    vis.create_window(window_name=title, width=width, height=height)\n",
    "    for pcd in pcds:\n",
    "        vis.add_geometry(pcd)\n",
    "    ctr = vis.get_view_control()\n",
    "    ctr.set_lookat(look_at)\n",
    "    ctr.set_front(cam_front)\n",
    "    ctr.set_up(cam_up)\n",
    "    vis.run()\n",
    "    vis.destroy_window()"
   ]
  },
  {
   "cell_type": "code",
   "execution_count": 8,
   "metadata": {},
   "outputs": [],
   "source": [
    "# Display coordinate frame and bunny using this visualization\n",
    "custom_draw_geometry([bunny_pc, cf])"
   ]
  },
  {
   "cell_type": "markdown",
   "metadata": {},
   "source": [
    "This gives a result like\n",
    "\n",
    "![Different view and frame](./results/1/3.jpg)"
   ]
  },
  {
   "cell_type": "markdown",
   "metadata": {},
   "source": [
    "## Answer 4: **Scale**, **Transform** and **Rotate** the point cloud\n",
    "\n",
    "Let's create a copy first"
   ]
  },
  {
   "cell_type": "code",
   "execution_count": 9,
   "metadata": {},
   "outputs": [
    {
     "data": {
      "text/plain": [
       "PointCloud with 2500 points."
      ]
     },
     "execution_count": 9,
     "metadata": {},
     "output_type": "execute_result"
    }
   ],
   "source": [
    "bunny_tfpc = copy.deepcopy(bunny_pc)\n",
    "c = [39, 242, 235]\n",
    "bunny_tfpc.paint_uniform_color([c[0]/255, c[1]/255, c[2]/255])"
   ]
  },
  {
   "cell_type": "markdown",
   "metadata": {},
   "source": [
    "\n",
    "\n",
    "[Transformation](http://www.open3d.org/docs/release/tutorial/geometry/transformation.html) module can be used, it has the following functions\n",
    "- [scale](http://www.open3d.org/docs/release/python_api/open3d.geometry.TriangleMesh.html#open3d.geometry.TriangleMesh.scale) to scale the point cloud about a point\n",
    "- [translate](http://www.open3d.org/docs/release/python_api/open3d.geometry.TriangleMesh.html#open3d.geometry.TriangleMesh.translate) to translate (move) the point cloud to another point (the given translation vector is added to every point)\n",
    "- [rotate](http://www.open3d.org/docs/release/python_api/open3d.geometry.TriangleMesh.html#open3d.geometry.TriangleMesh.rotate) to apply a rotation using a 3x3 rotation matrix\n",
    "    - It uses quaternion convention $\\left[ sin(\\frac{\\theta}{2}), \\hat{w_x} cos(\\frac{\\theta}{2}), \\hat{w_y} cos(\\frac{\\theta}{2}), \\hat{w_z} cos(\\frac{\\theta}{2}) \\right ]$ where $\\theta$ is the rotation angle (in radians) and $\\left[ \\hat{w_x} , \\hat{w_y}, \\hat{w_z}\\right]$ is the unit vector which is the axis of rotation. You can use [get_rotation_matrix_from_quaternion](http://www.open3d.org/docs/release/python_api/open3d.geometry.get_rotation_matrix_from_quaternion.html) to get a 3x3 rotation matrix from it\n",
    "- [transform](http://www.open3d.org/docs/latest/python_api/open3d.geometry.TriangleMesh.html#open3d.geometry.TriangleMesh.transform) to transform (apply a 4x4 homogeneous transformation matrix)"
   ]
  },
  {
   "cell_type": "code",
   "execution_count": 10,
   "metadata": {},
   "outputs": [],
   "source": [
    "bunny_tfpc = copy.deepcopy(bunny_pc)\n",
    "c = [39, 242, 235]\n",
    "bunny_tfpc.paint_uniform_color([c[0]/255, c[1]/255, c[2]/255])\n",
    "# Scale it\n",
    "bunny_tfpc.scale(0.5, center=bunny_tfpc.get_center())\n",
    "custom_draw_geometry([bunny_tfpc, bunny_pc, cf], title=\"Scaling\")\n",
    "# Translate it\n",
    "bunny_tfpc.translate([0, 0, 0.1])\n",
    "custom_draw_geometry([bunny_tfpc, bunny_pc, cf], title=\"Translation\")\n",
    "# Rotate it\n",
    "quat_axang = lambda axis, ang: [np.cos(ang/2), axis[0]*np.sin(ang/2), axis[1]*np.sin(ang/2), axis[2]*np.sin(ang/2)]\n",
    "rot_mat = o3d.geometry.get_rotation_matrix_from_quaternion(quat_axang([1, 0, 0], np.deg2rad(90)))\n",
    "bunny_tfpc.rotate(rot_mat, center=bunny_tfpc.get_center())\n",
    "custom_draw_geometry([bunny_tfpc, bunny_pc, cf], title=\"Rotation\")\n",
    "# Transform it\n",
    "tf_mat = np.eye(4)\n",
    "tf_mat[:3, :3] = o3d.geometry.get_rotation_matrix_from_quaternion(quat_axang([0, 0, 1], np.deg2rad(180)))\n",
    "tf_mat[:3, 3] = [0, 0.1, 0]\n",
    "bunny_tfpc.transform(tf_mat)\n",
    "custom_draw_geometry([bunny_tfpc, bunny_pc, cf], title=\"Transformation\", look_at=[0, 0, 0.1], cam_up=[0, 0, 1], \\\n",
    "                     cam_front=[1, 0.1, 0])"
   ]
  },
  {
   "cell_type": "markdown",
   "metadata": {},
   "source": [
    "The following are the results\n",
    "\n",
    "![Scaling](./results/1/4.1.jpg)\n",
    "![Translation](./results/1/4.2.jpg)\n",
    "![Rotation](./results/1/4.3.jpg)\n",
    "![Transformation](./results/1/4.4.jpg)"
   ]
  },
  {
   "cell_type": "markdown",
   "metadata": {},
   "source": [
    "## Answer 5: **Save** the point cloud to a file\n",
    "\n",
    "Let's declare the file name to use"
   ]
  },
  {
   "cell_type": "code",
   "execution_count": 11,
   "metadata": {},
   "outputs": [],
   "source": [
    "bunny_tfpc_fname = \"./results/1/bunny.pcd\""
   ]
  },
  {
   "cell_type": "markdown",
   "metadata": {},
   "source": [
    "\n",
    "\n",
    "- Use [write_point_cloud](http://www.open3d.org/docs/release/python_api/open3d.io.write_point_cloud.html#open3d.io.write_point_cloud) function to write a point cloud to a file"
   ]
  },
  {
   "cell_type": "code",
   "execution_count": 12,
   "metadata": {},
   "outputs": [],
   "source": [
    "\n",
    "o3d.io.write_point_cloud(bunny_tfpc_fname, bunny_tfpc)\n",
    "# Read it and see if it got saveed properly\n",
    "bunny_tfpcr = o3d.io.read_point_cloud(bunny_tfpc_fname)\n",
    "custom_draw_geometry([bunny_tfpcr, cf], title=\"Saved Bunny\", look_at=[0, 0, 0.1], cam_up=[0, 0, 1], \\\n",
    "                     cam_front=[1, 0.1, 0])"
   ]
  },
  {
   "cell_type": "markdown",
   "metadata": {},
   "source": [
    "This gives the following output\n",
    "\n",
    "- A file [bunny.pcd](./results/1/bunny.pcd) having the following point cloud\n",
    "\n",
    "    ![Saved bunny](./results/1/5.jpg)"
   ]
  },
  {
   "cell_type": "markdown",
   "metadata": {},
   "source": [
    "# 2. Transformations and representations"
   ]
  },
  {
   "cell_type": "markdown",
   "metadata": {},
   "source": [
    "## a) Euler angles\n",
    "1. Write a function that returns a rotation matrix given the angles $\\alpha$, $\\beta$, and $\\gamma$ in radians (X-Y-Z)\n",
    "\n",
    "2. Solve for angles using ```fsolve from scipy``` for three initializations of your choice and compare.\n",
    "$$M(\\alpha , \\beta ,\\gamma)=\\left[\\begin{array}{rrr}0.26200263 & -0.19674724 & 0.944799 \\\\0.21984631 & 0.96542533 & 0.14007684 \\\\\n",
    "    -0.93969262 & 0.17101007 & 0.29619813\\end{array}\\right] \n",
    "$$\n",
    "\n",
    "$$N(\\alpha , \\beta ,\\gamma)=\\left[\\begin{array}{rrr}0 & -0.173648178 &  0.984807753 \\\\0 & 0.984807753 & 0.173648178 \\\\\n",
    "    -1 & 0 & 0\\end{array}\\right] \n",
    "$$\n",
    "\n",
    "3. What is a Gimbal lock? \n",
    "\n",
    "4. Show an example where a Gimbal lock occurs and visualize the Gimbal lock on the given bunny point cloud. You have to show the above by **animation** (cube rotating along each axis one by one).\n",
    "    - *Hint: Use Open3D's non-blocking visualization and discretize the rotation to simulate the animation. For example, if you want to rotate by $30^{\\circ}$ around a particular axis, do in increments of $5^{\\circ}$ 6 times to make it look like an animation.*\n"
   ]
  },
  {
   "cell_type": "markdown",
   "metadata": {},
   "source": [
    "### Answer 1: Get Rotation Matrix (XYZ Rotation)\n",
    "Assuming rotation is in local frame\n",
    "\n",
    "Start by importing everything"
   ]
  },
  {
   "cell_type": "code",
   "execution_count": 13,
   "metadata": {},
   "outputs": [],
   "source": [
    "# Import sympy for all symbolic computation\n",
    "import sympy as sp"
   ]
  },
  {
   "cell_type": "markdown",
   "metadata": {},
   "source": [
    "Functions for rotation about **X**, **Y** and **Z** axis (for symbolic angles)"
   ]
  },
  {
   "cell_type": "code",
   "execution_count": 14,
   "metadata": {},
   "outputs": [],
   "source": [
    "# Rotate about X axis\n",
    "def RotX(angle, degrees = False):\n",
    "    \"\"\"\n",
    "    Generates a Rotation matrice when the rotation is about X axis\n",
    "    A general rotation about X (Roll) is given by\n",
    "\n",
    "                | 1    0    0 |\n",
    "    RotX(T) =   | 0   cT  -sT |\n",
    "                | 0   sT   cT |\n",
    "\n",
    "    Where T is rotation angle in radians\n",
    "\n",
    "    Parameters:\n",
    "    - angle: Symbol or float\n",
    "        The angle of rotation\n",
    "    - degrees: bool     default: False\n",
    "        If 'True', then angle parameter is assumed to be in degrees\n",
    "        else it is by default assumed to be in radians\n",
    "    \n",
    "    Returns:\n",
    "    - rot_mat: sp.Matrix        shape: (3, 3)\n",
    "        The 3x3 rotation matrix for Roll by angle_rad\n",
    "    \"\"\"\n",
    "    angle_rad = angle if not degrees else sp.rad(angle)\n",
    "    rot_mat = sp.Matrix([\n",
    "        [1, 0, 0],\n",
    "        [0, sp.cos(angle_rad), -sp.sin(angle_rad)],\n",
    "        [0, sp.sin(angle_rad), sp.cos(angle_rad)],\n",
    "    ])\n",
    "    return rot_mat\n",
    "\n",
    "# Rotate about Y Axis\n",
    "def RotY(angle, degrees = False):\n",
    "    \"\"\"\n",
    "    Generates a Rotation matrice when the rotation is about Y axis\n",
    "    A general rotation about Y (Pitch) is given by\n",
    "\n",
    "                |  cT   0   sT |\n",
    "    RotY(T) =   |   0   1    0 |\n",
    "                | -sT   0   cT |\n",
    "\n",
    "    Where T is rotation angle in radians\n",
    "\n",
    "    Parameters:\n",
    "    - angle: Symbol or float\n",
    "        The angle of rotation\n",
    "    - degrees: bool     default: False\n",
    "        If 'True', then angle parameter is assumed to be in degrees\n",
    "        else it is by default assumed to be in radians\n",
    "    \n",
    "    Returns:\n",
    "    - rot_mat: sp.Matrix        shape: (3, 3)\n",
    "        The 3x3 rotation matrix for Pitch by angle_rad\n",
    "    \"\"\"\n",
    "    angle_rad = angle if not degrees else sp.rad(angle)\n",
    "    rot_mat = sp.Matrix([\n",
    "        [sp.cos(angle_rad), 0, sp.sin(angle_rad)],\n",
    "        [0, 1, 0],\n",
    "        [-sp.sin(angle_rad), 0, sp.cos(angle_rad)],\n",
    "    ])\n",
    "    return rot_mat\n",
    "\n",
    "# Rotate about Z Axis\n",
    "def RotZ(angle, degrees = False):\n",
    "    \"\"\"\n",
    "    Generates a Rotation matrice when the rotation is about Z axis\n",
    "    A general rotation about Z (Yaw) is given by\n",
    "\n",
    "                | cT   -sT   0 |\n",
    "    RotZ(T) =   | sT    cT   0 |\n",
    "                |  0     0   1 |\n",
    "\n",
    "    Where T is rotation angle in radians\n",
    "\n",
    "    Parameters:\n",
    "    - angle: Symbol or float\n",
    "        The angle of rotation\n",
    "    - degrees: bool     default: False\n",
    "        If 'True', then angle parameter is assumed to be in degrees\n",
    "        else it is by default assumed to be in radians\n",
    "    \n",
    "    Returns:\n",
    "    - rot_mat: sp.Matrix        shape: (3, 3)\n",
    "        The 3x3 rotation matrix for Yaw by angle_rad\n",
    "    \"\"\"\n",
    "    angle_rad = angle if not degrees else sp.rad(angle)\n",
    "    rot_mat = sp.Matrix([\n",
    "        [sp.cos(angle_rad), -sp.sin(angle_rad), 0],\n",
    "        [sp.sin(angle_rad), sp.cos(angle_rad), 0],\n",
    "        [0, 0, 1],\n",
    "    ])\n",
    "    return rot_mat"
   ]
  },
  {
   "cell_type": "markdown",
   "metadata": {},
   "source": [
    "Use the above functions to create a symbolic equation. The output for variable `eu_xyz` should be\n",
    "\n",
    "$$ \\left[\\begin{matrix}\\cos{\\left(\\beta \\right)} \\cos{\\left(\\gamma \\right)} & - \\sin{\\left(\\gamma \\right)} \\cos{\\left(\\beta \\right)} & \\sin{\\left(\\beta \\right)}\\\\\\sin{\\left(\\alpha \\right)} \\sin{\\left(\\beta \\right)} \\cos{\\left(\\gamma \\right)} + \\sin{\\left(\\gamma \\right)} \\cos{\\left(\\alpha \\right)} & - \\sin{\\left(\\alpha \\right)} \\sin{\\left(\\beta \\right)} \\sin{\\left(\\gamma \\right)} + \\cos{\\left(\\alpha \\right)} \\cos{\\left(\\gamma \\right)} & - \\sin{\\left(\\alpha \\right)} \\cos{\\left(\\beta \\right)}\\\\\\sin{\\left(\\alpha \\right)} \\sin{\\left(\\gamma \\right)} - \\sin{\\left(\\beta \\right)} \\cos{\\left(\\alpha \\right)} \\cos{\\left(\\gamma \\right)} & \\sin{\\left(\\alpha \\right)} \\cos{\\left(\\gamma \\right)} + \\sin{\\left(\\beta \\right)} \\sin{\\left(\\gamma \\right)} \\cos{\\left(\\alpha \\right)} & \\cos{\\left(\\alpha \\right)} \\cos{\\left(\\beta \\right)}\\end{matrix}\\right] $$"
   ]
  },
  {
   "cell_type": "code",
   "execution_count": 15,
   "metadata": {},
   "outputs": [
    {
     "data": {
      "text/latex": [
       "$\\displaystyle \\left[\\begin{matrix}\\cos{\\left(\\beta \\right)} \\cos{\\left(\\gamma \\right)} & - \\sin{\\left(\\gamma \\right)} \\cos{\\left(\\beta \\right)} & \\sin{\\left(\\beta \\right)}\\\\\\sin{\\left(\\alpha \\right)} \\sin{\\left(\\beta \\right)} \\cos{\\left(\\gamma \\right)} + \\sin{\\left(\\gamma \\right)} \\cos{\\left(\\alpha \\right)} & - \\sin{\\left(\\alpha \\right)} \\sin{\\left(\\beta \\right)} \\sin{\\left(\\gamma \\right)} + \\cos{\\left(\\alpha \\right)} \\cos{\\left(\\gamma \\right)} & - \\sin{\\left(\\alpha \\right)} \\cos{\\left(\\beta \\right)}\\\\\\sin{\\left(\\alpha \\right)} \\sin{\\left(\\gamma \\right)} - \\sin{\\left(\\beta \\right)} \\cos{\\left(\\alpha \\right)} \\cos{\\left(\\gamma \\right)} & \\sin{\\left(\\alpha \\right)} \\cos{\\left(\\gamma \\right)} + \\sin{\\left(\\beta \\right)} \\sin{\\left(\\gamma \\right)} \\cos{\\left(\\alpha \\right)} & \\cos{\\left(\\alpha \\right)} \\cos{\\left(\\beta \\right)}\\end{matrix}\\right]$"
      ],
      "text/plain": [
       "Matrix([\n",
       "[                                      cos(\\beta)*cos(\\gamma),                                       -sin(\\gamma)*cos(\\beta),              sin(\\beta)],\n",
       "[sin(\\alpha)*sin(\\beta)*cos(\\gamma) + sin(\\gamma)*cos(\\alpha), -sin(\\alpha)*sin(\\beta)*sin(\\gamma) + cos(\\alpha)*cos(\\gamma), -sin(\\alpha)*cos(\\beta)],\n",
       "[sin(\\alpha)*sin(\\gamma) - sin(\\beta)*cos(\\alpha)*cos(\\gamma),  sin(\\alpha)*cos(\\gamma) + sin(\\beta)*sin(\\gamma)*cos(\\alpha),  cos(\\alpha)*cos(\\beta)]])"
      ]
     },
     "execution_count": 15,
     "metadata": {},
     "output_type": "execute_result"
    }
   ],
   "source": [
    "# Angle symbols\n",
    "al, be, ga = sp.symbols(r\"\\alpha, \\beta, \\gamma\")\n",
    "eu_xyz = RotX(al) * RotY(be) * RotZ(ga)\n",
    "eu_xyz"
   ]
  },
  {
   "cell_type": "markdown",
   "metadata": {},
   "source": [
    "### Answer 2: Solve for angles using **fsolve** from scipy\n",
    "\n",
    "Let's start by importing scipy"
   ]
  },
  {
   "cell_type": "code",
   "execution_count": 16,
   "metadata": {},
   "outputs": [],
   "source": [
    "from scipy.optimize import fsolve"
   ]
  },
  {
   "cell_type": "markdown",
   "metadata": {},
   "source": [
    "Solving the rotation matrix\n",
    "\n",
    "- Use [scipy.optimize.fsolve](https://docs.scipy.org/doc/scipy/reference/generated/scipy.optimize.fsolve.html)\n",
    "- You could also use [sympy.solvers.solve](https://docs.sympy.org/latest/modules/solvers/solvers.html), set `check=False` (argument) and manually check each solution using [np.allclose](https://numpy.org/doc/stable/reference/generated/numpy.allclose.html#numpy.allclose) (substitute the solution and compare with the real matrix, **M** or **N**)\n",
    "\n",
    "Using some analysis from the above equation, we can have the following formulas\n",
    "\n",
    "$$ \\alpha = \\textup{arctan2} \\left( -R_{23},R_{33} \\right ) $$\n",
    "$$ \\beta = \\textup{arctan2} \\left( R_{13}, \\sqrt{1-R_{13}^{2}} \\right ) $$\n",
    "$$ \\gamma = \\textup{arctan2} \\left( -R_{12}, R_{11} \\right ) $$\n",
    "\n",
    "Hopefully, we won't run into a case when $\\beta = 90 \\: \\textup{deg}$, because then $\\alpha$ and $\\beta$ cannot be resolved (the arguments to $\\textup{arctan2}$ will become $0$). We can use the above three equations to solve for angles."
   ]
  },
  {
   "cell_type": "code",
   "execution_count": 17,
   "metadata": {},
   "outputs": [],
   "source": [
    "# Original Matrices\n",
    "M_abg = [\n",
    "    [ 0.26200263, -0.19674724,  0.944799],\n",
    "    [ 0.21984631,  0.96542533,  0.14007684],\n",
    "    [-0.93969262,  0.17101007,  0.29619813]\n",
    "]\n",
    "M_np = np.array(M_abg, dtype=float)\n",
    "M_sp = sp.Matrix(M_np)\n",
    "N_abg = [\n",
    "    [ 0.        , -0.17364818,  0.98480775],\n",
    "    [ 0.        ,  0.98480775,  0.17364818],\n",
    "    [-1.        ,  0.        ,  0.        ]\n",
    "]\n",
    "N_np = np.array(N_abg, dtype=float)\n",
    "N_sp = sp.Matrix(N_np)"
   ]
  },
  {
   "cell_type": "code",
   "execution_count": 18,
   "metadata": {},
   "outputs": [
    {
     "name": "stdout",
     "output_type": "stream",
     "text": [
      "Roots for M\n",
      "\tRoot with init value [3, 2, 4]\n",
      "\t\tRadians: [-0.442  1.237  0.644]\n",
      "\t\tDegrees: [-25.31   70.874  36.904]\n",
      "\tRoot with init value [0.5, 0.5, 0.5]\n",
      "\t\tRadians: [-0.442  1.237  0.644]\n",
      "\t\tDegrees: [-25.31   70.874  36.904]\n",
      "\tRoot with init value [-1, -1, 2]\n",
      "\t\tRadians: [-0.442  1.237  0.644]\n",
      "\t\tDegrees: [-25.31   70.874  36.904]\n",
      "Roots for N\n",
      "\tRoot with init value [1.5, 2, 5]\n",
      "\t\tRadians: [-1.571  1.396  1.571]\n",
      "\t\tDegrees: [-90.  80.  90.]\n",
      "\tRoot with init value [5, 1.5, 1.5]\n",
      "\t\tRadians: [-1.571  1.396  1.571]\n",
      "\t\tDegrees: [-90.  80.  90.]\n",
      "\tRoot with init value [2, 4, 5]\n",
      "\t\tRadians: [-1.571  1.396  1.571]\n",
      "\t\tDegrees: [-90.  80.  90.]\n"
     ]
    }
   ],
   "source": [
    "# Function of equations\n",
    "def func_solve_eu_m(eu_angs, mat):\n",
    "    ax = eu_angs[0]\n",
    "    ay = eu_angs[1]\n",
    "    az = eu_angs[2]\n",
    "    eqs = [\n",
    "        ax - np.arctan2(-mat[1,2], mat[2,2]),\n",
    "        ay - np.arctan2(mat[0,2], (1-mat[0,2]**2)**0.5),\n",
    "        az - np.arctan2(-mat[0,1], mat[0,0])\n",
    "    ]\n",
    "    return eqs\n",
    "# Solve for M\n",
    "init_vals_m = [ # Put all the initial guess values here (in radians)\n",
    "    [3, 2, 4],\n",
    "    [0.5, 0.5, 0.5],\n",
    "    [-1, -1, 2]\n",
    "]\n",
    "print(\"Roots for M\")\n",
    "for init_val in init_vals_m:\n",
    "    root = fsolve(func_solve_eu_m, init_val, M_np)\n",
    "    print(f\"\\tRoot with init value {init_val}\")\n",
    "    print(f\"\\t\\tRadians: {np.round(root, 3)}\")\n",
    "    print(f\"\\t\\tDegrees: {np.round(np.rad2deg(root), 3)}\")\n",
    "# Solve for N\n",
    "init_vals_n = [\n",
    "    [1.5, 2, 5],\n",
    "    [5, 1.5, 1.5],\n",
    "    [2, 4, 5]\n",
    "]\n",
    "print(\"Roots for N\")\n",
    "for init_val in init_vals_n:\n",
    "    root = fsolve(func_solve_eu_m, init_val, N_np)\n",
    "    print(f\"\\tRoot with init value {init_val}\")\n",
    "    print(f\"\\t\\tRadians: {np.round(root, 3)}\")\n",
    "    print(f\"\\t\\tDegrees: {np.round(np.rad2deg(root), 3)}\")\n"
   ]
  },
  {
   "cell_type": "code",
   "execution_count": 19,
   "metadata": {},
   "outputs": [
    {
     "name": "stdout",
     "output_type": "stream",
     "text": [
      "M can be solved using (XYZ)\n",
      "\tSolution 1\n",
      "\t\t(radians): [-0.442  1.237  0.644]\n",
      "\t\t(degrees): [-25.31   70.874  36.904]\n",
      "\tSolution 2\n",
      "\t\t(radians): [2.7   1.905 3.786]\n",
      "\t\t(degrees): [154.69  109.126 216.904]\n",
      "N can be solved using (XYZ)\n",
      "\tSolution 1\n",
      "\t\t(radians): [1.571 1.745 4.712]\n",
      "\t\t(degrees): [ 90. 100. 270.]\n",
      "\tSolution 2\n",
      "\t\t(radians): [4.712 1.396 1.571]\n",
      "\t\t(degrees): [270.  80.  90.]\n"
     ]
    }
   ],
   "source": [
    "# Solution using sympy.solve\n",
    "# -- For M --\n",
    "solutions = sp.solvers.solve(sp.Eq(eu_xyz, M_sp), al, be, ga, check=False)\n",
    "true_solutions = []\n",
    "for (ax, ay, az) in solutions:\n",
    "    lhs_mat = np.array(eu_xyz.subs({al: ax, be: ay, ga: az}), dtype=float)\n",
    "    if np.allclose(lhs_mat, M_np):\n",
    "        true_solutions.append([ax, ay, az])\n",
    "sol_m = np.array(copy.deepcopy(true_solutions), dtype=float)   # Solutions for M\n",
    "print(\"M can be solved using (XYZ)\")\n",
    "for (i, sol) in enumerate(sol_m):\n",
    "    print(f\"\\tSolution {i+1}\")\n",
    "    print(f\"\\t\\t(radians): {np.round(sol, 3)}\")\n",
    "    print(f\"\\t\\t(degrees): {np.round(np.rad2deg(sol), 3)}\")\n",
    "# -- For N --\n",
    "solutions = sp.solvers.solve(sp.Eq(eu_xyz, N_sp), al, be, ga, check=False)\n",
    "true_solutions = []\n",
    "for (ax, ay, az) in solutions:\n",
    "    lhs_mat = np.array(eu_xyz.subs({al: ax, be: ay, ga: az}), dtype=float)\n",
    "    if np.allclose(lhs_mat, N_np):\n",
    "        true_solutions.append([ax, ay, az])\n",
    "sol_n = np.array(copy.deepcopy(true_solutions), dtype=float)   # Solutions for N\n",
    "print(\"N can be solved using (XYZ)\")\n",
    "for (i, sol) in enumerate(sol_n):\n",
    "    print(f\"\\tSolution {i+1}\")\n",
    "    print(f\"\\t\\t(radians): {np.round(sol, 3)}\")\n",
    "    print(f\"\\t\\t(degrees): {np.round(np.rad2deg(sol), 3)}\")"
   ]
  },
  {
   "cell_type": "markdown",
   "metadata": {},
   "source": [
    "The following values will satisfy for **M** (all angles in degrees)\n",
    "\n",
    "| **Alpha** | **Beta** | **Gamma** |\n",
    "| :--- | :--- | :---- |\n",
    "| -25.31 | 70.874  | 36.904  |\n",
    "| 154.69 | 109.126 | 216.904 |\n",
    "\n",
    "The following values will satisfy for **N** (all angles in degrees)\n",
    "\n",
    "| **Alpha** | **Beta** | **Gamma** |\n",
    "| :--- | :--- | :---- |\n",
    "| 90.  | 100. | 270. |\n",
    "| 270. | 80.  | 90.  |\n"
   ]
  },
  {
   "cell_type": "markdown",
   "metadata": {},
   "source": [
    "### Answer 3: Gimbal Lock\n",
    "\n",
    "Mathematical definition and explanation through code"
   ]
  },
  {
   "cell_type": "markdown",
   "metadata": {},
   "source": [
    "\n",
    "\n",
    "Mathematically, it's when resolving orientations from the rotation matrix is not feasible. For instance, the **Euler XYZ** rotation matrix (as derived earlier) is given by\n",
    "\n",
    "$$ \\left[\\begin{matrix}\\cos{\\left(\\beta \\right)} \\cos{\\left(\\gamma \\right)} & - \\sin{\\left(\\gamma \\right)} \\cos{\\left(\\beta \\right)} & \\sin{\\left(\\beta \\right)}\\\\\\sin{\\left(\\alpha \\right)} \\sin{\\left(\\beta \\right)} \\cos{\\left(\\gamma \\right)} + \\sin{\\left(\\gamma \\right)} \\cos{\\left(\\alpha \\right)} & - \\sin{\\left(\\alpha \\right)} \\sin{\\left(\\beta \\right)} \\sin{\\left(\\gamma \\right)} + \\cos{\\left(\\alpha \\right)} \\cos{\\left(\\gamma \\right)} & - \\sin{\\left(\\alpha \\right)} \\cos{\\left(\\beta \\right)}\\\\\\sin{\\left(\\alpha \\right)} \\sin{\\left(\\gamma \\right)} - \\sin{\\left(\\beta \\right)} \\cos{\\left(\\alpha \\right)} \\cos{\\left(\\gamma \\right)} & \\sin{\\left(\\alpha \\right)} \\cos{\\left(\\gamma \\right)} + \\sin{\\left(\\beta \\right)} \\sin{\\left(\\gamma \\right)} \\cos{\\left(\\alpha \\right)} & \\cos{\\left(\\alpha \\right)} \\cos{\\left(\\beta \\right)}\\end{matrix}\\right] $$\n",
    "\n",
    "Which is also the same as **Fixed ZYX**. Substituting $\\beta = \\frac{\\pi}{2}$, we get\n",
    "\n",
    "$$ \\left[\\begin{matrix}0 & 0 & 1\\\\\\sin{\\left(\\alpha \\right)} \\cos{\\left(\\gamma \\right)} + \\sin{\\left(\\gamma \\right)} \\cos{\\left(\\alpha \\right)} & - \\sin{\\left(\\alpha \\right)} \\sin{\\left(\\gamma \\right)} + \\cos{\\left(\\alpha \\right)} \\cos{\\left(\\gamma \\right)} & 0\\\\\\sin{\\left(\\alpha \\right)} \\sin{\\left(\\gamma \\right)} - \\cos{\\left(\\alpha \\right)} \\cos{\\left(\\gamma \\right)} & \\sin{\\left(\\alpha \\right)} \\cos{\\left(\\gamma \\right)} + \\sin{\\left(\\gamma \\right)} \\cos{\\left(\\alpha \\right)} & 0\\end{matrix}\\right] $$\n",
    "\n",
    "Resolving $\\alpha$ and $\\gamma$ is now impossible, because the above matrix is essentially\n",
    "\n",
    "$$ \\left[\\begin{matrix}0 & 0 & 1\\\\\\sin{\\left(\\alpha + \\gamma \\right)} & \\cos{\\left(\\alpha + \\gamma \\right)} & 0\\\\- \\cos{\\left(\\alpha + \\gamma \\right)} & \\sin{\\left(\\alpha + \\gamma \\right)} & 0\\end{matrix}\\right] $$\n",
    "\n",
    "This should be verified by the code block below"
   ]
  },
  {
   "cell_type": "code",
   "execution_count": 20,
   "metadata": {},
   "outputs": [
    {
     "data": {
      "text/latex": [
       "$\\displaystyle \\left[\\begin{matrix}0 & 0 & 1\\\\\\sin{\\left(\\alpha + \\gamma \\right)} & \\cos{\\left(\\alpha + \\gamma \\right)} & 0\\\\- \\cos{\\left(\\alpha + \\gamma \\right)} & \\sin{\\left(\\alpha + \\gamma \\right)} & 0\\end{matrix}\\right]$"
      ],
      "text/plain": [
       "Matrix([\n",
       "[                    0,                    0, 1],\n",
       "[ sin(\\alpha + \\gamma), cos(\\alpha + \\gamma), 0],\n",
       "[-cos(\\alpha + \\gamma), sin(\\alpha + \\gamma), 0]])"
      ]
     },
     "execution_count": 20,
     "metadata": {},
     "output_type": "execute_result"
    }
   ],
   "source": [
    "# Substitute beta as pi/2 and simplify result\n",
    "sp.simplify(eu_xyz.subs({be:sp.pi/2}))"
   ]
  },
  {
   "cell_type": "markdown",
   "metadata": {},
   "source": [
    "We can therefore only find $\\alpha +\\gamma$ (not the individual angles). This also means that their _individual information_ is lost (singularity!), only the $\\alpha + \\gamma$ value decides the final orientation. \n",
    "\n",
    "Consider the below cases:\n",
    "1. We first rotate by `10` degrees about X, then cause a singularity by rotating `90` degrees about Y, then rotate by `30` degrees about Z (all axis rotations are in local frame).\n",
    "2. We first rotate by `0` degrees about X (no movement), then cause a singularity by rotating `90` degrees about Y, then rotate by `40` degrees about Z (all axis rotations are in local frame).\n",
    "3. We first rotate by `30` degrees about X, then cause a singularity by rotating `90` degrees about Y, then rotate by `10` degrees about Z (all axis rotations are in local frame).\n",
    "4. We first rotate by `40` degrees about X, then cause a singularity by rotating `90` degrees about Y, then rotate by `0` degrees (no movement) about Z (all axis rotations are in local frame).\n",
    "\n",
    "**All** the above cases have the **exact same** outcome, which when given to a system, cannot be distinguished. This can be verified by running the cell below\n"
   ]
  },
  {
   "cell_type": "code",
   "execution_count": 21,
   "metadata": {},
   "outputs": [
    {
     "name": "stdout",
     "output_type": "stream",
     "text": [
      "All cases yield the same rotation matrix!\n"
     ]
    }
   ],
   "source": [
    "eu_xyz_d = RotX(al, True) * RotY(be, True) * RotZ(ga, True)\n",
    "r_case1 = np.array(eu_xyz_d.subs({al:10, be:90, ga:30}), dtype=float)\n",
    "r_case2 = np.array(eu_xyz_d.subs({al:0, be:90, ga:40}), dtype=float)\n",
    "r_case3 = np.array(eu_xyz_d.subs({al:30, be:90, ga:10}), dtype=float)\n",
    "r_case4 = np.array(eu_xyz_d.subs({al:40, be:90, ga:0}), dtype=float)\n",
    "if np.allclose(r_case1, r_case2) and np.allclose(r_case2, r_case3) \\\n",
    "    and np.allclose(r_case3, r_case4):\n",
    "    print(\"All cases yield the same rotation matrix!\")\n"
   ]
  },
  {
   "cell_type": "markdown",
   "metadata": {},
   "source": [
    "A similar problem happens when we substitute $\\beta = -\\frac{\\pi}{2}$ and with **every** three angle representation of rotations. This is the problem with **explicit parameterization** of rotations. To preserve the essence of rotation (to know what actually happened), we use **implicit parameterization**, like quaternions."
   ]
  },
  {
   "cell_type": "markdown",
   "metadata": {},
   "source": [
    "### Answer 4: Visualizing Gimbal Lock through Bunny\n",
    "\n",
    "Let's start by importing the original bunny file"
   ]
  },
  {
   "cell_type": "code",
   "execution_count": 22,
   "metadata": {},
   "outputs": [],
   "source": [
    "# Read the mesh file\n",
    "file_name = \"./data/bunny.ply\"\n",
    "bunny_mesh = o3d.io.read_triangle_mesh(file_name)\n",
    "# Convert mesh to point cloud\n",
    "N = 2500\n",
    "c = [252, 123, 3]   # Color of point cloud\n",
    "bunny_pc = bunny_mesh.sample_points_uniformly(N)\n",
    "bunny_pc.paint_uniform_color([c[0]/255, c[1]/255, c[2]/255])\n",
    "# A frame (for reference)\n",
    "ref_frame = o3d.geometry.TriangleMesh.create_coordinate_frame(size=0.2, origin=[0,0,0])\n",
    "custom_draw_geometry([bunny_pc, ref_frame])"
   ]
  },
  {
   "cell_type": "markdown",
   "metadata": {},
   "source": [
    "The **XYZ Euler** angles are the same as **ZYX Fixed** rotation angles, that is, instead of rotating about X, then Y, then Z local axis; we rotate about Z, then Y, and then X global / fixed axis. The result is the same (both have the same rotation matrix for $\\alpha$, $\\beta$ and $\\gamma$ being angles for X,Y and Z respectively).\n",
    "\n",
    "We compare the following two cases in animation\n",
    "1. Rotate about global (fixed) Z by `30` degrees, then global Y by `90` degrees and then global X by `10` degrees\n",
    "2. Rotate about global (fixed) Z by `10` degrees, then global Y by `90` degrees and then global X by `30` degrees\n",
    "\n",
    "We should observe that the final pose of both the above cases is the same. Therefore showing that individual rotations (about global Z and X) cannot be resolved because of the singularity"
   ]
  },
  {
   "cell_type": "code",
   "execution_count": 23,
   "metadata": {},
   "outputs": [
    {
     "name": "stdout",
     "output_type": "stream",
     "text": [
      "Both point clouds are same (result may be superimposed)\n"
     ]
    }
   ],
   "source": [
    "# Fixed rotations (Case 1)\n",
    "bunny_case1 = copy.deepcopy(bunny_pc)\n",
    "c = [63, 207, 50]   # Color of point cloud (case 1)\n",
    "bunny_case1.paint_uniform_color([c[0]/255, c[1]/255, c[2]/255])\n",
    "bunny_case1.rotate(np.array(RotZ(30, True), dtype=float), [0, 0, 0])\n",
    "bunny_case1.rotate(np.array(RotY(sp.pi/2), dtype=float), [0, 0, 0])\n",
    "bunny_case1.rotate(np.array(RotX(10, True), dtype=float), [0, 0, 0])\n",
    "# Fixed rotations (Case 2)\n",
    "bunny_case2 = copy.deepcopy(bunny_pc)\n",
    "c = [46, 60, 219]   # Color of point cloud (case 2)\n",
    "bunny_case2.paint_uniform_color([c[0]/255, c[1]/255, c[2]/255])\n",
    "bunny_case2.rotate(np.array(RotZ(10, True), dtype=float), [0, 0, 0])\n",
    "bunny_case2.rotate(np.array(RotY(sp.pi/2), dtype=float), [0, 0, 0])\n",
    "bunny_case2.rotate(np.array(RotX(30, True), dtype=float), [0, 0, 0])\n",
    "# Both are the same\n",
    "if np.allclose(np.array(bunny_case1.points, float), \\\n",
    "    np.array(bunny_case2.points, float)):\n",
    "    print(\"Both point clouds are same (result may be superimposed)\")"
   ]
  },
  {
   "cell_type": "markdown",
   "metadata": {},
   "source": [
    "Let's visualize the transformations\n",
    "- Use the [non-blocking](http://www.open3d.org/docs/release/tutorial/visualization/non_blocking_visualization.html) visualization features of Open3D"
   ]
  },
  {
   "cell_type": "code",
   "execution_count": 24,
   "metadata": {},
   "outputs": [],
   "source": [
    "import time"
   ]
  },
  {
   "cell_type": "code",
   "execution_count": 25,
   "metadata": {},
   "outputs": [],
   "source": [
    "def visualize_pc_ZYX_rot(pc: o3d.geometry.PointCloud, az: float, ay: float, \\\n",
    "    ax: float, deg = False, static_gs = None, **kwargs):\n",
    "    \"\"\"\n",
    "    Visualizes the point cloud rotation through ZYX fixed rotations (same result \n",
    "    as XYZ Euler angles). Creates an animation window that shows the animation.\n",
    "    This function captures the execution till the animation is over. A few notes\n",
    "    about the animation:\n",
    "    - All rotations happen w.r.t. center as [0, 0, 0]\n",
    "\n",
    "    Parameters:\n",
    "    - pc: o3d.geometry.PointCloud\n",
    "        The point cloud which will be visualized. It is copied (transformations\n",
    "        are not applied to the point cloud passed). All properties are deeply\n",
    "        copied.\n",
    "    - az: float\n",
    "        Angle of rotation about the Z axis.\n",
    "    - ay: float\n",
    "        Angle of rotation about the Y axis.\n",
    "    - ax: float\n",
    "        Angle of rotation about the X axis.\n",
    "    - deg: bool     default: False\n",
    "        Interpret the angles passed as if they're in degrees (not radians). If \n",
    "        'ax', 'ay' and 'az' passed to the function are in radians, then this\n",
    "        must be 'False', else if they're in degres, then this must be 'True'.\n",
    "    - static_gs: list of o3d.geometry.Geometry objects  default = None\n",
    "        A list of Geometry objects that can be displayed in the visualization\n",
    "        window. You can pass coordinate frames, other point clouds, etc.\n",
    "    - **kwargs: unwrapped dictionary (keyword arguments)\n",
    "        - look_at: list (len=3)     default: [0.1, 0.1, 0]\n",
    "            Set camera look_at for visualization\n",
    "        - cam_front: list (len=3)   default: [0, 0, 1]\n",
    "            Set camera front vector\n",
    "        - cam_up: list (len=3)      default: [0, 1, 0]\n",
    "            Set camera up vector\n",
    "        - viz_title: str        default: \"Animation\"\n",
    "            The title of animation window\n",
    "        - sz: float     default: 5.0\n",
    "            Default step size for Z rotation (in degrees)\n",
    "        - sy: float     default: 5.0\n",
    "            Default step size for Y rotation (in degrees)\n",
    "        - sx: float     default: 5.0\n",
    "            Default step size for Z rotation (in degrees)\n",
    "        - save_imgs: bool   default: False\n",
    "            If True, it saves images in 'save_path' variable. Directories\n",
    "            have to be existing beforehand (they're not created)\n",
    "        - save_path: bool   default: \"./results/\"\n",
    "            The path / folder where the images are saved\n",
    "\n",
    "    Returns:\n",
    "    - final_pc: o3d.geometry.PointCloud\n",
    "        The final point cloud after all rotations are applied to it\n",
    "    \"\"\"\n",
    "    # Animation objects\n",
    "    pctf: o3d.geometry.PointCloud = copy.deepcopy(pc)   # Point Cloud to be transformed\n",
    "    # Some properties of animation\n",
    "    sz = 5.0 if \"sz\" not in kwargs else kwargs[\"sz\"]\n",
    "    step_size_z = float(np.deg2rad(sz))   # Step size (increment angle) in radians\n",
    "    del_time_z = 0.25  # Delay time in seconds\n",
    "    sy = 5.0 if \"sy\" not in kwargs else kwargs[\"sy\"]\n",
    "    step_size_y = float(np.deg2rad(sy))  # Step size for Rot Y animation\n",
    "    del_time_y = 0.25   # Delay time for Y animation\n",
    "    sx = 5.0 if \"sx\" not in kwargs else kwargs[\"sx\"]\n",
    "    step_size_x = float(np.deg2rad(sx))  # Step size for Rot X animation\n",
    "    del_time_x = 0.25   # Delay time for X animation\n",
    "    end_wait_time = 5  # Wait time in the end (before destroying window) in sec\n",
    "    save_path = \"./results/\" if \"save_path\" not in kwargs else kwargs[\"save_path\"]\n",
    "    save_imgs = False if \"save_imgs\" not in kwargs else kwargs[\"save_imgs\"]\n",
    "    # Some properties of visualization window\n",
    "    viz_title = \"Animation\" if \"viz_title\" not in kwargs else kwargs[\"viz_title\"]\n",
    "    viz_width = 1080\n",
    "    viz_height = 720\n",
    "    look_at = [0.1, 0.1, 0] if \"look_at\" not in kwargs else kwargs[\"look_at\"]\n",
    "    cam_front = [0, 0, 1] if \"cam_front\" not in kwargs else kwargs[\"cam_front\"]\n",
    "    cam_up = [0, 1, 0] if \"cam_up\" not in kwargs else kwargs[\"cam_up\"]\n",
    "    # Some variables to not calculate every loop\n",
    "    rot_z = np.array(RotZ(step_size_z), dtype=float)\n",
    "    rot_y = np.array(RotY(step_size_y), dtype=float)\n",
    "    rot_x = np.array(RotX(step_size_x), dtype=float)\n",
    "    # -- Start non-blocking visualization --\n",
    "    vis = o3d.visualization.Visualizer()\n",
    "    vis.create_window(viz_title, viz_width, viz_height)\n",
    "    vis.add_geometry(pctf)\n",
    "    # Add all static geometries\n",
    "    if static_gs is not None:\n",
    "        for static_geo in static_gs:\n",
    "            vis.add_geometry(static_geo)\n",
    "    # Set view\n",
    "    ctr = vis.get_view_control()\n",
    "    ctr.set_lookat(look_at)\n",
    "    ctr.set_front(cam_front)\n",
    "    ctr.set_up(cam_up)\n",
    "    vis.poll_events()\n",
    "    vis.update_renderer()\n",
    "    if save_imgs:\n",
    "        vis.capture_screen_image(f\"{save_path}/{viz_title}_start.jpg\")\n",
    "    # Rotate about Z axis\n",
    "    ar_z = float(np.deg2rad(az)) if deg else float(az)\n",
    "    steps_z = int(np.around(ar_z/step_size_z))\n",
    "    for i in range(steps_z):\n",
    "        # Rotate by step\n",
    "        pctf.rotate(rot_z, center=[0, 0, 0])\n",
    "        # Render\n",
    "        vis.update_geometry(pctf)\n",
    "        st_time = time.time()\n",
    "        while (time.time() - st_time < del_time_z):\n",
    "            vis.poll_events()\n",
    "            vis.update_renderer()\n",
    "        if save_imgs:\n",
    "            vis.capture_screen_image(f\"{save_path}/{viz_title}_rz_{i}.jpg\")\n",
    "    # Rotate about Y axis\n",
    "    ar_y = float(np.deg2rad(ay)) if deg else float(ay)\n",
    "    steps_y = int(np.around(ar_y/step_size_y))\n",
    "    for i in range(steps_y):\n",
    "        # Rotate by step\n",
    "        pctf.rotate(rot_y, center=[0, 0, 0])\n",
    "        # Render\n",
    "        vis.update_geometry(pctf)\n",
    "        st_time = time.time()\n",
    "        while (time.time() - st_time < del_time_y):\n",
    "            vis.poll_events()\n",
    "            vis.update_renderer()\n",
    "        if save_imgs:\n",
    "            vis.capture_screen_image(f\"{save_path}/{viz_title}_ry_{i}.jpg\")\n",
    "    # Rotate about X axis\n",
    "    ar_x = float(np.deg2rad(ax)) if deg else float(ax)\n",
    "    steps_x = int(np.around(ar_x/step_size_x))\n",
    "    for i in range(steps_x):\n",
    "        # Rotate by step\n",
    "        pctf.rotate(rot_x, center=[0, 0, 0])\n",
    "        # Render\n",
    "        vis.update_geometry(pctf)\n",
    "        st_time = time.time()\n",
    "        while (time.time() - st_time < del_time_x):\n",
    "            vis.poll_events()\n",
    "            vis.update_renderer()\n",
    "        if save_imgs:\n",
    "            vis.capture_screen_image(f\"{save_path}/{viz_title}_rx_{i}.jpg\")\n",
    "    # Destroy everything\n",
    "    st_time = time.time()\n",
    "    while (time.time() - st_time < end_wait_time):\n",
    "        vis.poll_events()\n",
    "        vis.update_renderer()\n",
    "    if save_imgs:\n",
    "        vis.capture_screen_image(f\"{save_path}/{viz_title}_end.jpg\")\n",
    "    vis.destroy_window()\n",
    "    # Return things\n",
    "    return pctf"
   ]
  },
  {
   "cell_type": "code",
   "execution_count": 26,
   "metadata": {},
   "outputs": [
    {
     "name": "stdout",
     "output_type": "stream",
     "text": [
      "[Open3D WARNING] GLFW Error: WGL: Failed to make context current: The requested transformation operation is not supported. \n",
      "[Open3D WARNING] GLFW Error: WGL: Failed to make context current: The handle is invalid. \n"
     ]
    }
   ],
   "source": [
    "# Animations for case 1 (ZYX = 30, 90, 10)\n",
    "bunny_case1 = copy.deepcopy(bunny_pc)\n",
    "c = [63, 207, 50]   # Color of point cloud (case 1)\n",
    "bunny_case1.paint_uniform_color([c[0]/255, c[1]/255, c[2]/255])\n",
    "bunny_case1 = visualize_pc_ZYX_rot(bunny_case1, 30, 90, 10, True, \\\n",
    "    static_gs=[ref_frame], \\\n",
    "    look_at=[0, 0.05, 0.05], cam_front=[0.9, 0.3, 0.3], \\\n",
    "    viz_title=\"Case1\", save_imgs=False, save_path=\"./results/2/imgs\")\n",
    "\n",
    "# Animations for case 2 (ZYX = 10, 90, 30)\n",
    "bunny_case2 = copy.deepcopy(bunny_pc)\n",
    "c = [46, 60, 219]   # Color of point cloud (case 2)\n",
    "bunny_case2.paint_uniform_color([c[0]/255, c[1]/255, c[2]/255])\n",
    "bunny_case2 = visualize_pc_ZYX_rot(bunny_case2, 10, 90, 30, True, \\\n",
    "    static_gs=[ref_frame], \\\n",
    "    look_at=[0, 0.05, 0.05], cam_front=[0.9, 0.3, 0.3], \\\n",
    "    viz_title=\"Case2\", save_imgs=False, save_path=\"./results/2/imgs\")"
   ]
  },
  {
   "cell_type": "markdown",
   "metadata": {},
   "source": [
    "Comparing different outputs\n",
    "\n",
    "To save the images, set `save_imgs=True` in the function calls above.\n",
    "\n",
    "The **Case 1** output looks like\n",
    "\n",
    "![A](./results/2/Case1.gif)\n",
    "\n",
    "The **Case 2** output looks like\n",
    "\n",
    "![B](./results/2/Case2.gif)\n",
    "\n",
    "GIF made using [this app on Windows 10](https://www.microsoft.com/en-us/p/gif-maker-gif-editor/9pkc9pxzxg9r?activetab=pivot:overviewtab)"
   ]
  },
  {
   "cell_type": "code",
   "execution_count": 27,
   "metadata": {},
   "outputs": [
    {
     "name": "stdout",
     "output_type": "stream",
     "text": [
      "Both point clouds are same\n"
     ]
    }
   ],
   "source": [
    "# Both are the same finally\n",
    "if np.allclose(np.array(bunny_case1.points, float), \\\n",
    "    np.array(bunny_case2.points, float)):\n",
    "    print(\"Both point clouds are same\")"
   ]
  },
  {
   "cell_type": "markdown",
   "metadata": {},
   "source": [
    "## b) Quaternions\n",
    "\n",
    "1. What makes Quaternions popular in graphics? \n",
    "2. Convert a rotation matrix to quaternion and vice versa. Do not use inbuilt libraries for this question.\n",
    "3. Perform matrix multiplication of two $\\mathcal{R}_{3 \\times 3}$ rotation matrices and perform the same transformation in the quaternion space. Verify if the final transformation obtained in both the cases are the same.\n",
    "4. Try to interpolate any 3D model (cube / bunny / not sphere obviously!!) between two rotation matrices and visualize!\n",
    "\n",
    "The above questions require you to **code your own functions** and **only verify** using inbuilt functions."
   ]
  },
  {
   "cell_type": "markdown",
   "metadata": {},
   "source": [
    "### Answer 1: Quaternions in Graphics"
   ]
  },
  {
   "cell_type": "markdown",
   "metadata": {},
   "source": [
    "#### Intuition\n",
    "\n",
    "The concept of quaternions comes from complex numbers. Complex number multiplication can be thought of as rotation of a vector in a 2D plane. Consider the complex number multiplication below\n",
    "\n",
    "$$ ( a + \\mathbf{i} b ) ( c + \\mathbf{i} d ) = (ac-bd) + \\mathbf{i} (bc+ad) $$\n",
    "\n",
    "This can be visualized as a matrix multiplication\n",
    "\n",
    "$$ ( a + \\mathbf{i} b ) ( c + \\mathbf{i} d ) = \\begin{bmatrix}\n",
    "a & -b \\\\\n",
    "b & a\n",
    "\\end{bmatrix} \\begin{bmatrix} \n",
    "c \\\\\n",
    "d\n",
    "\\end{bmatrix} $$\n",
    "\n",
    "If $(a+\\mathbf{i}b) = \\cos (\\theta) + \\mathbf{i} \\sin (\\theta)$ the above matrix becomes a rotation matrix (note that the complex number still has two numbers, but one constraint)\n",
    "\n",
    "$$ \\mathbf{R} = \\begin{bmatrix}\n",
    "\\cos (\\theta) & -\\sin (\\theta) \\\\\n",
    "\\sin (\\theta) & \\cos (\\theta)\n",
    "\\end{bmatrix} \\begin{bmatrix}\n",
    "c \\\\\n",
    "d\n",
    "\\end{bmatrix} $$\n",
    "\n",
    "Quaternions extend this logic to rotations in three dimensions. As observed earlier, euler angles (which are explicit parameters) run into singularity issues. This makes interpolation and resolving difficult. Quaternions allow representation of rotations using four numbers, with one constraint. Say there is a rotation about the unit vector $\\vec{u} = u_x \\mathbf{i} + u_y \\mathbf{j} + u_z \\mathbf{k}$ by angle of $\\theta$, the quaternion representation is given by\n",
    "\n",
    "$$ \\mathbf{q} = e^{\\frac{\\theta}{2} \\left( u_x \\mathbf{i} + u_y \\mathbf{j} + u_z \\mathbf{k} \\right) } = \\cos \\frac{\\theta}{2} + \\left( u_x \\mathbf{i} + u_y \\mathbf{j} + u_z \\mathbf{k} \\right) \\sin \\frac{\\theta}{2} $$\n",
    "\n",
    "The multiplication rules are $\\mathbf{i}^2 = \\mathbf{j}^2 = \\mathbf{k}^2 = \\mathbf{i} \\mathbf{j} \\mathbf{k} = -1$ and $\\mathbf{i} \\mathbf{j} = \\mathbf{k}$, $\\mathbf{j} \\mathbf{k} = \\mathbf{i}$, $\\mathbf{k} \\mathbf{i} = \\mathbf{j}$. This makes programming their multiplication simpler (than even matrix multiplication). This, along with the fact that they don't have singularity problems, makes them a good tool to express orientations (and therefore a popular tool in graphics). However, most of the times, they're internally abstracted."
   ]
  },
  {
   "cell_type": "markdown",
   "metadata": {},
   "source": [
    "#### Reference\n",
    "\n",
    "- [eater.net/quaternions](https://eater.net/quaternions)\n",
    "- 3Blue1Brown YouTube videos\n",
    "    - [Visualizing quaternions as a projection](https://www.youtube.com/watch?v=d4EgbgTm0Bg)\n",
    "    - [Rotations using quaternions](https://www.youtube.com/watch?v=zjMuIxRvygQ&t=4s)"
   ]
  },
  {
   "cell_type": "markdown",
   "metadata": {},
   "source": [
    "### Answer 2: Matrix and Quaternion conversions"
   ]
  },
  {
   "cell_type": "markdown",
   "metadata": {},
   "source": [
    "**Convert quaternion to rotation matrix**\n",
    "\n",
    "Using Rodrigues' rotations formula, the rotation matrix when a rotation about unit vector $\\mathbf{k}$ by angle $\\theta$ (using right hand thumb rule) is given by\n",
    "\n",
    "$$ \\mathbf{R} = \\mathbf{I} + (\\sin \\theta) \\mathbf{[k]} + (1-\\cos \\theta) \\mathbf{[k]}^2 $$\n",
    "\n",
    "Where \n",
    "$$ \n",
    "\\mathbf{[k]} = \\begin{bmatrix}\n",
    "0 & -k_z & k_y \\\\\n",
    "k_z & 0 & -k_x \\\\\n",
    "-k_y & k_x & 0 \n",
    "\\end{bmatrix} \n",
    "\\;\\; \\textup{and} \\;\\;\n",
    "\\mathbf{[k]}^2 = \\begin{bmatrix}\n",
    "-k_y^2-k_z^2 & k_x k_y & k_x k_z \\\\\n",
    "k_y k_x & -k_x^2-k_z^2 & k_y k_z \\\\\n",
    "k_z k_x & k_z k_y & -k_x^2-k_y^2\n",
    "\\end{bmatrix}\n",
    "$$\n",
    "\n",
    "Using a quaternion notation $ \\mathbf{q} = \\left[ k_x \\sin \\left( \\frac{\\theta}{2} \\right ), \\; k_y \\sin \\left( \\frac{\\theta}{2} \\right ), \\; k_z \\sin \\left( \\frac{\\theta}{2} \\right ), \\; \\cos \\left( \\frac{\\theta}{2} \\right ) \\right ] = [q_1, q_2, q_3, q_4] $ the above matrix $\\mathbf{R}$ can be reduced. We use $(1-\\cos \\theta) = 2 \\sin^2 \\frac{\\theta}{2}$ and $\\sin \\theta = 2 \\sin \\left( \\frac{\\theta}{2} \\right ) \\cos \\left( \\frac{\\theta}{2} \\right )$. We get the following result\n",
    "\n",
    "$$\n",
    "\\mathbf{R} = \\begin{bmatrix}\n",
    "1-2q_2^2-2q_3^2 & 2 (q_1 q_2 - q_3 q_4) & 2 (q_1 q_3 + q_2 q_4) \\\\\n",
    "2 (q_2 q_1 + q_3 q_4) & 1-2q_1^2-2q_3^2 & 2 (q_2 q_3 - q_1 q_4) \\\\\n",
    "2 (q_3 q_1 - q_2 q_4) & 2 (q_2 q_3 + q_1 q_4) & 1-2q_1^2-2q_2^2\n",
    "\\end{bmatrix}\n",
    "$$\n",
    "\n",
    "This can be programmed and tested"
   ]
  },
  {
   "cell_type": "code",
   "execution_count": 28,
   "metadata": {},
   "outputs": [],
   "source": [
    "# Function\n",
    "def quat_to_rm(qx, qy, qz, qw):\n",
    "    \"\"\"\n",
    "    Convert a quaternion to a 3x3 rotation matrix.The convention\n",
    "    used to represent quaternions is\n",
    "        [ux*sin(th/2), uy*sin(th/2), uz*sin(th/2), cos(th/2)]\n",
    "\n",
    "    Paraemters:\n",
    "    - qx: float\n",
    "        Quaternion k_x * sin(th/2)\n",
    "    - qy: float\n",
    "        Quaternion k_y * sin(th/2)\n",
    "    - qz: float\n",
    "        Quaternion k_z * sin(th/2)\n",
    "    - qw: float\n",
    "        Quaternion cos(th/2)\n",
    "    \n",
    "    Returns:\n",
    "    - rot_m: np.ndarray     shape: (3, 3)   dtype: float\n",
    "        Rotation matrix constructed using the quaternions\n",
    "    \"\"\"\n",
    "    q1 = float(qx)\n",
    "    q2 = float(qy)\n",
    "    q3 = float(qz)\n",
    "    q4 = float(qw)\n",
    "    rot_m = np.array([\n",
    "        [1-2*(q2**2)-2*(q3**2), 2*(q1*q2-q3*q4), 2*(q1*q3+q2*q4)],\n",
    "        [2*(q2*q1+q3*q4), 1-2*(q1**2)-2*(q3**2), 2*(q2*q3-q1*q4)],\n",
    "        [2*(q3*q1-q2*q4), 2*(q2*q3+q1*q4), (1-2*(q1)**2-2*(q2)**2)]\n",
    "    ], dtype=float)\n",
    "    return rot_m"
   ]
  },
  {
   "cell_type": "code",
   "execution_count": 29,
   "metadata": {},
   "outputs": [
    {
     "name": "stdout",
     "output_type": "stream",
     "text": [
      "Works for RotX\n",
      "Works for RotY\n",
      "Works for RotZ\n"
     ]
    }
   ],
   "source": [
    "# Testing quaternion to rotation matrix\n",
    "r_actual = np.array(RotX(sp.pi/3), dtype=float)\n",
    "r = quat_to_rm(1*np.sin(0.5*np.pi/3), 0, 0, np.cos(0.5*np.pi/3))\n",
    "if np.allclose(r, r_actual):\n",
    "    print(\"Works for RotX\")\n",
    "r_actual = np.array(RotY(sp.pi/2), dtype=float)\n",
    "r = quat_to_rm(0, 1*np.sin(0.5*np.pi/2), 0, np.cos(0.5*np.pi/2))\n",
    "if np.allclose(r, r_actual):\n",
    "    print(\"Works for RotY\")\n",
    "r_actual = np.array(RotZ(sp.pi/6), dtype=float)\n",
    "r = quat_to_rm(0, 0, 1*np.sin(0.5*np.pi/6), np.cos(0.5*np.pi/6))\n",
    "if np.allclose(r, r_actual):\n",
    "    print(\"Works for RotZ\")"
   ]
  },
  {
   "cell_type": "markdown",
   "metadata": {},
   "source": [
    "**Convert rotation matrix to quaternion**\n",
    "\n",
    "Consider\n",
    "\n",
    "$$\n",
    "\\mathbf{R} = \\begin{bmatrix}\n",
    "r_{11} & r_{12} & r_{13} \\\\\n",
    "r_{21} & r_{22} & r_{23} \\\\\n",
    "r_{31} & r_{32} & r_{33}\n",
    "\\end{bmatrix}\n",
    "$$\n",
    "\n",
    "We need to get quaternion $ \\mathbf{q} = \\left[ k_x \\sin \\left( \\frac{\\theta}{2} \\right ), \\; k_y \\sin \\left( \\frac{\\theta}{2} \\right ), \\; k_z \\sin \\left( \\frac{\\theta}{2} \\right ), \\; \\cos \\left( \\frac{\\theta}{2} \\right ) \\right ] = [q_1, q_2, q_3, q_4] $ from the above matrix. To do that, follow the following steps\n",
    "\n",
    "1. Calculate $\\mathbf{v}$ using the formula below\n",
    "\n",
    "    $$ \n",
    "    \\mathbf{v} = \\begin{bmatrix}\n",
    "    v_1 \\\\ v_2 \\\\ v_3 \\\\ v_4\n",
    "    \\end{bmatrix} = \\begin{bmatrix}\n",
    "    \\frac{1}{2} \\sqrt{1+r_{11}-r_{22}-r_{33}} \\\\\n",
    "    \\frac{1}{2} \\sqrt{1-r_{11}+r_{22}-r_{33}} \\\\\n",
    "    \\frac{1}{2} \\sqrt{1-r_{11}-r_{22}+r_{33}} \\\\\n",
    "    \\frac{1}{2} \\sqrt{1+r_{11}+r_{22}+r_{33}}\n",
    "    \\end{bmatrix}\n",
    "    $$\n",
    "\n",
    "    For the next step, get the maximum value among $v_1, v_2, v_3, v_4$ (all values of $\\mathbf{v}$).\n",
    "\n",
    "2. If $v_1$ is largest in $\\mathbf{v}$, calculate the rest using $q_1 = v_1$. The quaternions are given by\n",
    "\n",
    "    $$\n",
    "    \\mathbf{q} = \\begin{bmatrix}\n",
    "    q_1 \\\\ q_2 \\\\ q_3 \\\\ q_4\n",
    "    \\end{bmatrix} = \\begin{bmatrix}\n",
    "    v_1 \\\\\n",
    "    \\frac{r_{12} + r_{21}}{4q_1} \\\\\n",
    "    \\frac{r_{13} + r_{31}}{4q_1} \\\\\n",
    "    \\frac{r_{32} - r_{23}}{4q_1}\n",
    "    \\end{bmatrix}\n",
    "    $$\n",
    "\n",
    "    This follows that\n",
    "\n",
    "    $$ q_1 = v_1 = \\frac{1}{2} \\sqrt{1+r_{11}-r_{22}-r_{33}} $$\n",
    "\n",
    "3. If $v_2$ is largest in $\\mathbf{v}$, calculate the rest using $q_2 = v_2$. The quaternions are given by\n",
    "\n",
    "    $$\n",
    "    \\mathbf{q} = \\begin{bmatrix}\n",
    "    q_1 \\\\ q_2 \\\\ q_3 \\\\ q_4\n",
    "    \\end{bmatrix} = \\begin{bmatrix}\n",
    "    \\frac{r_{12}+r_{21}}{4q_2} \\\\\n",
    "    v_2 \\\\\n",
    "    \\frac{r_{23}+r_{32}}{4q_2} \\\\\n",
    "    \\frac{r_{13}-r_{31}}{4q_2}\n",
    "    \\end{bmatrix}\n",
    "    $$\n",
    "\n",
    "    This follows that\n",
    "\n",
    "    $$ q_2 = v_2 = \\frac{1}{2} \\sqrt{1-r_{11}+r_{22}-r_{33}} $$\n",
    "\n",
    "4. If $v_3$ is largest in $\\mathbf{v}$, calculate the rest using $q_3 = v_3$. The quaternions are given by\n",
    "\n",
    "    $$\n",
    "    \\mathbf{q} = \\begin{bmatrix}\n",
    "    q_1 \\\\ q_2 \\\\ q_3 \\\\ q_4\n",
    "    \\end{bmatrix} = \\begin{bmatrix}\n",
    "    \\frac{r_{13}+r_{31}}{4q_3} \\\\\n",
    "    \\frac{r_{23}+r_{32}}{4q_3} \\\\\n",
    "    v_3 \\\\\n",
    "    \\frac{r_{21}-r_{12}}{4q_3}\n",
    "    \\end{bmatrix}\n",
    "    $$\n",
    "\n",
    "    This follows that\n",
    "\n",
    "    $$ q_3 = v_3 = \\frac{1}{2} \\sqrt{1-r_{11}-r_{22}+r_{33}} $$\n",
    "\n",
    "5. If $v_4$ is largest in $\\mathbf{v}$, calculate the rest using $q_4 = v_4$. The quaternions are given by\n",
    "\n",
    "    $$\n",
    "    \\mathbf{q} = \\begin{bmatrix}\n",
    "    q_1 \\\\ q_2 \\\\ q_3 \\\\ q_4\n",
    "    \\end{bmatrix} = \\begin{bmatrix}\n",
    "    \\frac{r_{32}-r_{23}}{4q_4} \\\\\n",
    "    \\frac{r_{13}-r_{31}}{4q_4} \\\\\n",
    "    \\frac{r_{21}-r_{12}}{4q_4} \\\\\n",
    "    v_4 \\\\\n",
    "    \\end{bmatrix}\n",
    "    $$\n",
    "\n",
    "    This follows that\n",
    "\n",
    "    $$ q_4 = v_4 = \\frac{1}{2} \\sqrt{1+r_{11}+r_{22}+r_{33}} $$\n",
    "\n",
    "This has to be programmed"
   ]
  },
  {
   "cell_type": "code",
   "execution_count": 30,
   "metadata": {},
   "outputs": [],
   "source": [
    "# Function\n",
    "def rm_to_quat(rot_m):\n",
    "    \"\"\"\n",
    "    Convert a rotation matrix to quaternions. The convention\n",
    "    used to represent quaternions is\n",
    "        [ux*sin(th/2), uy*sin(th/2), uz*sin(th/2), cos(th/2)]\n",
    "    \n",
    "    Parameters:\n",
    "    - rot_m: np.ndarray     shape: (3,3)\n",
    "        A 3x3 rotation matrix\n",
    "    \n",
    "    Returns:\n",
    "    - qx: float\n",
    "        Quaternion ux*sin(th/2)\n",
    "    - qy: float\n",
    "        Quaternion uy*sin(th/2)\n",
    "    - qz: float\n",
    "        Quaternion uz*sin(th/2)\n",
    "    - qw: float\n",
    "        Quaternion cos(th/2)\n",
    "    \"\"\"\n",
    "    # Parse all elements\n",
    "    [r11, r12, r13] = rot_m[0, :]\n",
    "    [r21, r22, r23] = rot_m[1, :]\n",
    "    [r31, r32, r33] = rot_m[2, :]\n",
    "    # Get 'v' vector\n",
    "    v = np.array([\n",
    "        0.5*((1+r11-r22-r33)**0.5), # v1\n",
    "        0.5*((1-r11+r22-r33)**0.5), # v2\n",
    "        0.5*((1-r11-r22+r33)**0.5), # v3\n",
    "        0.5*((1+r11+r22+r33)**0.5)  # v4\n",
    "    ])\n",
    "    mvi = np.argmax(v)  # Maximum value quaternion\n",
    "    # Returning vector\n",
    "    qx = 0.0\n",
    "    qy = 0.0\n",
    "    qz = 0.0\n",
    "    qw = 1.0\n",
    "    if mvi == 0:    # v1\n",
    "        qx = v[0]\n",
    "        qy = (r12 + r21)/(4*v[0])\n",
    "        qz = (r13 + r31)/(4*v[0])\n",
    "        qw = (r32 - r23)/(4*v[0])\n",
    "    elif mvi == 1:  # v2\n",
    "        qx = (r12 + r21)/(4*v[1])\n",
    "        qy = v[1]\n",
    "        qz = (r23 + r32)/(4*v[1])\n",
    "        qw = (r13 - r31)/(4*v[1])\n",
    "    elif mvi == 2:  # v3\n",
    "        qx = (r13 + r31)/(4*v[2])\n",
    "        qy = (r23 + r32)/(4*v[2])\n",
    "        qz = v[2]\n",
    "        qw = (r21 - r12)/(4*v[2])\n",
    "    elif mvi == 3:  # v4\n",
    "        qx = (r32 - r23)/(4*v[3])\n",
    "        qy = (r13 - r31)/(4*v[3])\n",
    "        qz = (r21 - r12)/(4*v[3])\n",
    "        qw = v[3]\n",
    "    return [qx, qy, qz, qw]"
   ]
  },
  {
   "cell_type": "markdown",
   "metadata": {},
   "source": [
    "Use [scipy.spatial.transform.Rotation](https://docs.scipy.org/doc/scipy/reference/generated/scipy.spatial.transform.Rotation.html#scipy.spatial.transform.Rotation) for verification"
   ]
  },
  {
   "cell_type": "code",
   "execution_count": 31,
   "metadata": {},
   "outputs": [
    {
     "name": "stdout",
     "output_type": "stream",
     "text": [
      "Quaternion logic appears correct\n"
     ]
    }
   ],
   "source": [
    "# Let's verify it this works\n",
    "from scipy.spatial.transform import Rotation\n",
    "rot_mat = np.array(RotX(25, True) * RotY(30, True) * RotZ(30, True), dtype=float)\n",
    "qvals = np.array(rm_to_quat(rot_mat))\n",
    "qvals_actual = Rotation.from_matrix(rot_mat).as_quat()\n",
    "if np.allclose(qvals, qvals_actual):\n",
    "    print(\"Quaternion logic appears correct\")\n"
   ]
  },
  {
   "cell_type": "markdown",
   "metadata": {},
   "source": [
    "### Answer 3: Transformations using Quaternions"
   ]
  },
  {
   "cell_type": "markdown",
   "metadata": {},
   "source": [
    "Perform quaternion multiplication using standard rules of quaternion multiplication. The multiplication rules are $\\mathbf{i}^2 = \\mathbf{j}^2 = \\mathbf{k}^2 = \\mathbf{i} \\mathbf{j} \\mathbf{k} = -1$ and $\\mathbf{i} \\mathbf{j} = \\mathbf{k}$, $\\mathbf{j} \\mathbf{k} = \\mathbf{i}$, $\\mathbf{k} \\mathbf{i} = \\mathbf{j}$. Refer to the image below for graph representation\n",
    "\n",
    "[![Cayley Q8 quaternion multiplication graph.svg](https://upload.wikimedia.org/wikipedia/commons/0/04/Cayley_Q8_quaternion_multiplication_graph.svg)](https://en.wikipedia.org/wiki/File:Cayley_Q8_quaternion_multiplication_graph.svg)\n",
    "\n",
    "The result is the [Hamilton product](https://en.wikipedia.org/wiki/Quaternion#Hamilton_product) of quaternions, but using our convention"
   ]
  },
  {
   "cell_type": "code",
   "execution_count": 32,
   "metadata": {},
   "outputs": [],
   "source": [
    "# Function to multiply two quaternions\n",
    "def quat_mul(qu1, qu2):\n",
    "    \"\"\"\n",
    "    Perform quaternion multiplication and return the result. The\n",
    "    multiplication result is qu1 * qu2. The convention used to \n",
    "    represent quaternions is\n",
    "        [ux*sin(th/2), uy*sin(th/2), uz*sin(th/2), cos(th/2)]\n",
    "    The first three elements are [i,j,k] components and the last\n",
    "    one is the real component\n",
    "\n",
    "    Paraemters:\n",
    "    - qu1: list or np.ndarray   shape: (4,)\n",
    "        First quaternion\n",
    "    - qu2: list or np.ndarray   shape: (4,)\n",
    "        Second quaternion\n",
    "    \n",
    "    Returns:\n",
    "    - qu_res: list      len: 4\n",
    "        Resultant quaternion which is obtained by qu1 * qu2 after\n",
    "        applying the rules of quaternion multiplication. Note\n",
    "        that the result is [qx, qy, qz, qw].\n",
    "    \"\"\"\n",
    "    [q11, q12, q13, q14] = qu1\n",
    "    [q21, q22, q23, q24] = qu2\n",
    "    qu_res = [\n",
    "        q11*q24 + q12*q23 - q13*q22 + q14*q21,  # qx\n",
    "        -q11*q23 + q12*q24 + q13*q21 + q14*q22, # qy\n",
    "        q11*q22 - q12*q21 + q13*q24 + q14*q23,  # qz\n",
    "        q14*q24 - q11*q21 - q12*q22 - q13*q23   # qw\n",
    "    ]\n",
    "    return qu_res"
   ]
  },
  {
   "cell_type": "code",
   "execution_count": 33,
   "metadata": {},
   "outputs": [
    {
     "name": "stdout",
     "output_type": "stream",
     "text": [
      "Quaternion and rotation matrix multiplication give the same rotation matrices\n",
      "Quaternion and rotation matrix multiplication give the same quaternions\n"
     ]
    }
   ],
   "source": [
    "# Compare multiplication of rot1 and rot2\n",
    "rot1 = np.array(RotX(30, True) * RotY(45, True), dtype=float)\n",
    "qu1 = rm_to_quat(rot1)\n",
    "rot2 = np.array(RotY(45, True) * RotZ(10, True), dtype=float)\n",
    "qu2 = rm_to_quat(rot2)\n",
    "# Rotation matrix multiplication\n",
    "rot_res = rot1 @ rot2\n",
    "quatr_res = rm_to_quat(rot_res)\n",
    "# Quaternion multiplication\n",
    "qu_res = quat_mul(qu1, qu2)\n",
    "rotq_res = quat_to_rm(*qu_res)\n",
    "# Check if close\n",
    "if np.allclose(rot_res, rotq_res):\n",
    "    print(\"Quaternion and rotation matrix multiplication give the same rotation matrices\")\n",
    "if np.allclose(quatr_res, qu_res):\n",
    "    print(\"Quaternion and rotation matrix multiplication give the same quaternions\")"
   ]
  },
  {
   "cell_type": "markdown",
   "metadata": {},
   "source": [
    "**Inverting quaternions**\n",
    "\n",
    "This can be done using the [conjugate of the quaternion](https://en.wikipedia.org/wiki/Quaternion#Unit_quaternion)."
   ]
  },
  {
   "cell_type": "code",
   "execution_count": 34,
   "metadata": {},
   "outputs": [],
   "source": [
    "# Quaternion inverse\n",
    "def quat_inv(qu):\n",
    "    \"\"\"\n",
    "    Constructs an inverse of quaternion passed. The convention used\n",
    "    to represent quaternions is\n",
    "        [ux*sin(th/2), uy*sin(th/2), uz*sin(th/2), cos(th/2)]\n",
    "    Quaternion has to be of unit length, as the function actually\n",
    "    returns the conjugate\n",
    "    \n",
    "    Paraemters:\n",
    "    - qu: list or np.ndarray   shape: (4,)\n",
    "        Quaternion that has to be inverted\n",
    "    \n",
    "    Returns:\n",
    "    - qu_inv: list or np.ndarray   shape: (4,)\n",
    "        Inverted quaternion. Multiplication of this qith 'qu' should\n",
    "        give the unit quaternion [0, 0, 0, 1]\n",
    "    \"\"\"\n",
    "    [q1, q2, q3, q4] = qu\n",
    "    qu_inv = [-q1, -q2, -q3, q4]    # Inverse quaternion\n",
    "    return qu_inv"
   ]
  },
  {
   "cell_type": "code",
   "execution_count": 35,
   "metadata": {},
   "outputs": [
    {
     "name": "stdout",
     "output_type": "stream",
     "text": [
      "Quaternion inversion works fine\n"
     ]
    }
   ],
   "source": [
    "# Check if inversion works fine\n",
    "qu1_inv = quat_inv(qu1)\n",
    "qu_identity = quat_mul(qu1, qu1_inv)\n",
    "qu_identity2 = quat_mul(qu1_inv, qu1)\n",
    "if np.allclose(qu_identity, qu_identity2):\n",
    "    print(\"Quaternion inversion works fine\")"
   ]
  },
  {
   "cell_type": "markdown",
   "metadata": {},
   "source": [
    "### Answer 4: Interpolation using Quaternions"
   ]
  },
  {
   "cell_type": "markdown",
   "metadata": {},
   "source": [
    "Quaternion interpolation requires conservation of the length of quaternions (they must all be unit lengths). The **SLERP** algorithm performs _Spherical Linear Interpolation_ and has the following formula\n",
    "\n",
    "$$ Slerp \\left( t; \\mathbf{q}_{i}, \\mathbf{q}_{f} \\right ) = \\frac{\\textup{Sin} \\left( (1-t) \\theta \\right )}{\\textup{Sin} (\\theta)} \\mathbf{q}_{i} \\: + \\: \\frac{\\textup{Sin} \\left( t \\theta \\right )}{\\textup{Sin} (\\theta)} \\mathbf{q}_{f} $$\n",
    "\n",
    "Where $ \\theta = \\textup{cos}^{-1} \\left( \\mathbf{q}_i \\: \\cdot \\: \\mathbf{q}_f \\right ) $\n",
    "\n",
    "**Reference**\n",
    "\n",
    "- [Geometric Slerp on Wikipedia](https://en.wikipedia.org/wiki/Slerp#Geometric_Slerp)"
   ]
  },
  {
   "cell_type": "code",
   "execution_count": 36,
   "metadata": {},
   "outputs": [],
   "source": [
    "# Return intermediate quaternions\n",
    "def gen_intermediate_quats(quat_init, quat_final, N=10):\n",
    "    \"\"\"\n",
    "    Generate intermediate quaternions from an initial to final\n",
    "    quaternion rotation pose. The convention used to represent \n",
    "    quaternions is\n",
    "        [ux*sin(th/2), uy*sin(th/2), uz*sin(th/2), cos(th/2)]\n",
    "\n",
    "    The function uses SLERP (Spherical Linear Interpolation)\n",
    "    to interpolate intermediate points\n",
    "    \n",
    "    Parameters:\n",
    "    - quat_init: list or np.ndarray     shape: (4,)\n",
    "        Initial quaternion. All values must be normalized and\n",
    "        floating point (they're case to float)\n",
    "    - quat_final: list or np.ndarray     shape: (4,)\n",
    "        Final quaternion. All values must be normalized and\n",
    "        floating point (they're case to float)\n",
    "    - N: int    default: 10\n",
    "        The number of intermediate steps. This is NOT time\n",
    "        sampled. Assume a time range from 0 to 1, broken into\n",
    "        N stages\n",
    "    \n",
    "    Returns:\n",
    "    - qu_n_vals: np.ndarray     shape: (N, 4)\n",
    "        The sequence of quaternions\n",
    "    \"\"\"\n",
    "    # Initial and final quaternions\n",
    "    qu_i = np.array(quat_init, dtype=float)\n",
    "    qu_f = np.array(quat_final, dtype=float)\n",
    "    # Theta values\n",
    "    theta = np.arccos(np.dot(qu_i, qu_f))\n",
    "    # Interpolation timestamps\n",
    "    t = np.linspace(0, 1, N)\n",
    "    coeffs_init = np.sin((1-t)*theta)/np.sin(theta)\n",
    "    coeffs_final = np.sin(t*theta)/np.sin(theta)\n",
    "    # All values\n",
    "    qu_n_vals = coeffs_init.reshape(-1, 1) * qu_i + coeffs_final.reshape(-1, 1) * qu_f\n",
    "    return qu_n_vals"
   ]
  },
  {
   "cell_type": "code",
   "execution_count": 37,
   "metadata": {},
   "outputs": [],
   "source": [
    "# Animation of point cloud between orientations\n",
    "def visualize_pc_rots(pc: o3d.geometry.PointCloud, qu_i, qu_f, N = 10, static_gs = None, \\\n",
    "    color_init = [46,60,219], color_final = [63,207,50], color_anim = [240,165,53], \\\n",
    "    ):\n",
    "    \"\"\"\n",
    "    Visualizes a point cloud rotating between two given orientations\n",
    "    as quaternions. The point cloud convention used is as follows\n",
    "        [ux*sin(th/2), uy*sin(th/2), uz*sin(th/2), cos(th/2)]\n",
    "    The point cloud of initial and final stages is also displayed\n",
    "\n",
    "\n",
    "    Parameters:\n",
    "    - pc: o3d.geometry.PointCloud\n",
    "        The point cloud which will be visualized. This is not altered\n",
    "        and a deepcopy is always used.\n",
    "    - qu_i: list or np.ndarray      shape: (4,)     dtype: float\n",
    "        Initial orientation as a quaternion (normalized)\n",
    "    - qu_f: list or np.ndarray      shape: (4,)     dtype: float\n",
    "        Final orientation as a quaternion (normalized)\n",
    "    - N: int\n",
    "        Number of intermediate orientations to show\n",
    "    - static_gs: list of o3d.geometry.Geometry objects  default = None\n",
    "        A list of Geometry objects that can be displayed in the \n",
    "        visualization window. You can pass coordinate frames, other \n",
    "        point clouds, etc.\n",
    "    - color_init: list      len: 3  default: [46,60,219]\n",
    "        The color of initial point cloud\n",
    "    - color_final: list     len: 3  default: [63,207,50]\n",
    "        The color of final point cloud\n",
    "    - color_anim: list      len: 3  default: [240,165,53]\n",
    "        The color of point cloud when in animation (intermediate stages)\n",
    "    \n",
    "    \"\"\"\n",
    "    # Animation objects and variables\n",
    "    pc_main = copy.deepcopy(pc)\n",
    "    pc_init = copy.deepcopy(pc_main)\n",
    "    pc_final = copy.deepcopy(pc_main)\n",
    "    pc_inter = copy.deepcopy(pc_main)\n",
    "    end_wait_time = 1\n",
    "    step_time = 0.25\n",
    "    look_at = [0, 0.05, 0.05]\n",
    "    cam_front = [-1, 0.2, 0.2]\n",
    "    cam_up = [0, 1, 0]\n",
    "    # Some variables to be used during animation\n",
    "    rot_init = quat_to_rm(qu_i[0], qu_i[1], qu_i[2], qu_i[3])\n",
    "    pc_init.rotate(rot_init, [0, 0, 0])\n",
    "    rot_final = quat_to_rm(qu_f[0], qu_f[1], qu_f[2], qu_f[3])\n",
    "    pc_final.rotate(rot_final, [0, 0, 0])\n",
    "    quat_vals = gen_intermediate_quats(qu_i, qu_f, N)\n",
    "    # Some properties of visualization window\n",
    "    viz_title = \"Animation\"\n",
    "    viz_width = 1080\n",
    "    viz_height = 720\n",
    "    # Some alterations to animation objects\n",
    "    c = color_init\n",
    "    pc_init.paint_uniform_color([c[0]/255, c[1]/255, c[2]/255])\n",
    "    c = color_final\n",
    "    pc_final.paint_uniform_color([c[0]/255, c[1]/255, c[2]/255])\n",
    "    c = color_anim\n",
    "    pc_inter.paint_uniform_color([c[0]/255, c[1]/255, c[2]/255])\n",
    "    # -- Start non-blocking visualization --\n",
    "    vis = o3d.visualization.Visualizer()\n",
    "    vis.create_window(viz_title, viz_width, viz_height)\n",
    "    if static_gs is not None:\n",
    "        for static_geo in static_gs:\n",
    "            vis.add_geometry(static_geo)\n",
    "    vis.add_geometry(pc_init)\n",
    "    vis.add_geometry(pc_final)\n",
    "    vis.add_geometry(pc_inter)  # Intermediate point cloud\n",
    "    # Set view\n",
    "    ctr = vis.get_view_control()\n",
    "    ctr.set_lookat(look_at)\n",
    "    ctr.set_front(cam_front)\n",
    "    ctr.set_up(cam_up)\n",
    "    vis.poll_events()\n",
    "    vis.update_renderer()\n",
    "    # Animate through every step\n",
    "    for i in range(N):\n",
    "        curr_quat = quat_vals[i, :]\n",
    "        rot_m = quat_to_rm(curr_quat[0], curr_quat[1], curr_quat[2], curr_quat[3])\n",
    "        pc_main.rotate(rot_m, [0, 0, 0])\n",
    "        # Transfer points\n",
    "        pc_inter.points = pc_main.points\n",
    "        # Update visualization\n",
    "        vis.update_geometry(pc_inter)\n",
    "        pc_main = copy.deepcopy(pc) # Make the copy again\n",
    "        st_time = time.time()\n",
    "        while (time.time() - st_time < step_time):\n",
    "            vis.poll_events()\n",
    "            vis.update_renderer()\n",
    "    # Destroy everything\n",
    "    st_time = time.time()\n",
    "    while (time.time() - st_time < end_wait_time):\n",
    "        vis.poll_events()\n",
    "        vis.update_renderer()\n",
    "    vis.destroy_window()"
   ]
  },
  {
   "cell_type": "code",
   "execution_count": 38,
   "metadata": {},
   "outputs": [],
   "source": [
    "# Rotation that has happened\n",
    "rot = np.array(RotX(30, True) * RotY(90, True) * RotZ(10, True), dtype=float)\n",
    "qu_i = np.array([0, 0, 0, 1])\n",
    "qu_f = np.array(rm_to_quat(rot))\n",
    "# Create a copy of point cloud\n",
    "bunny_points = copy.deepcopy(bunny_pc)\n",
    "ref_frame = o3d.geometry.TriangleMesh.create_coordinate_frame(size=0.2, origin=[0,0,0])\n",
    "# Show the visualization\n",
    "visualize_pc_rots(bunny_points, qu_i, qu_f, static_gs=[ref_frame], N=20)"
   ]
  },
  {
   "cell_type": "markdown",
   "metadata": {},
   "source": [
    "The animation below was achieved with the following python code (for initial and final quaternion values)\n",
    "\n",
    "```py\n",
    "rot = np.array(RotX(30, True) * RotY(90, True) * RotZ(10, True), dtype=float)\n",
    "qu_i = np.array([0, 0, 0, 1])\n",
    "qu_f = np.array(rm_to_quat(rot))\n",
    "```\n",
    "\n",
    "And the individual images were captured using [capture_screen_image](http://www.open3d.org/docs/release/python_api/open3d.visualization.Visualizer.html#open3d.visualization.Visualizer.capture_screen_image) function\n",
    "\n",
    "![Animation of quaternion interpolation](./results/2/Quat_animation.gif)\n",
    "\n",
    "GIF made using [this app on Windows 10](https://www.microsoft.com/en-us/p/gif-maker-gif-editor/9pkc9pxzxg9r?activetab=pivot:overviewtab)"
   ]
  },
  {
   "cell_type": "markdown",
   "metadata": {},
   "source": [
    "## c) Exponential maps (Bonus)\n",
    "\n",
    "1. What is the idea behind exponential map representation of rotation matrices?\n",
    "2. Perform matrix exponentiation and obtain the rotation matrix to rotate a vector $P$ around $\\omega$ for $\\theta$ seconds.\n",
    "$$\n",
    "\\omega = \\begin{bmatrix}2 \\\\ 1 \\\\ 15 \\end{bmatrix}\n",
    "$$\n",
    "\n",
    "$$\n",
    "\\theta = 4.1364\n",
    "$$\n",
    "\n",
    "3. Compute the logarithmic map (SO(3) to so(3)) of the rotation matrix to obtain the rotation vector and the angle of rotation\n",
    "$$\n",
    "\\begin{bmatrix}\n",
    "0.1 &  -0.9487 & 0.3 \\\\\n",
    "0.9487 & 0.  & -0.3162 \\\\\n",
    "0.3   &  0.3162  & 0.9 \n",
    "\\end{bmatrix}\n",
    "$$\n",
    "You can use inbuilt libraries **only to verify** your results."
   ]
  },
  {
   "cell_type": "markdown",
   "metadata": {},
   "source": [
    "### Answer 1: Why Axis-Angle\n"
   ]
  },
  {
   "cell_type": "markdown",
   "metadata": {},
   "source": [
    "Exponential maps or **Angle-Axis convention** provide an intuitive understanding of rotations that we can visualize, and that still adhere to the norms of rotational matrices (representing successive operations as multiplication). Since they're an implicit representation, they're not prone to singularities (like how euler angles are, as they're an explicit representation).\n",
    "\n",
    "The idea is to represent every rotation operation as a single rotation by an angle $\\theta$ about a unit vector $\\omega$ (using the right hand convention). This is easier to visualize, as vectors can be represented in 3D space and a rotation by $\\theta$ can also be visualized intuitively (curl your right hand along the vector, with thumb pointing towards the head, the rotational sense of your right hand fingers show the rotation direction). This gives them a representational advantage over other intrinsic representations like quaternions (that are harder to visualize)\n",
    "\n",
    "References:\n",
    "- [Wikipedia](https://en.wikipedia.org/wiki/Axis%E2%80%93angle_representation#Exponential_map_from_%7F'%22%60UNIQ--postMath-00000006-QINU%60%22'%7F(3)_to_SO(3))"
   ]
  },
  {
   "cell_type": "markdown",
   "metadata": {},
   "source": [
    "### Answer 2: Rotation matrix from Axis-angle\n",
    "\n",
    "Assuming that angle of rotation is $\\theta$, given in radians"
   ]
  },
  {
   "cell_type": "markdown",
   "metadata": {},
   "source": [
    "Using Rodrigues' rotations formula, the rotation matrix when a rotation about unit vector $\\mathbf{k}$ by angle $\\theta$ (using right hand thumb rule) is given by\n",
    "\n",
    "$$ \\mathbf{R} = \\mathbf{I} + (\\sin \\theta) \\mathbf{[k]} + (1-\\cos \\theta) \\mathbf{[k]}^2 $$\n",
    "\n",
    "Where \n",
    "$$ \n",
    "\\mathbf{[k]} = \\begin{bmatrix}\n",
    "0 & -k_z & k_y \\\\\n",
    "k_z & 0 & -k_x \\\\\n",
    "-k_y & k_x & 0 \n",
    "\\end{bmatrix} \n",
    "\\;\\; \\textup{and} \\;\\;\n",
    "\\mathbf{[k]}^2 = \\begin{bmatrix}\n",
    "-k_y^2-k_z^2 & k_x k_y & k_x k_z \\\\\n",
    "k_y k_x & -k_x^2-k_z^2 & k_y k_z \\\\\n",
    "k_z k_x & k_z k_y & -k_x^2-k_y^2\n",
    "\\end{bmatrix}\n",
    "$$\n",
    "\n",
    "We get\n",
    "\n",
    "$$\n",
    "\\mathbf{R} = \\begin{bmatrix}\n",
    "1+(1-\\cos\\theta)(k_x^2-1) & -k_z\\sin\\theta+(1-\\cos\\theta)k_xk_y & k_y\\sin\\theta+(1-\\cos\\theta)k_xk_z \\\\\n",
    "k_z\\sin\\theta+(1-\\cos\\theta)k_yk_x & 1+(1-\\cos\\theta)(k_y^2-1) & -k_x\\sin\\theta+(1-\\cos\\theta)k_yk_z \\\\\n",
    "-k_y\\sin\\theta+(1-\\cos\\theta)k_zk_x & k_x\\sin\\theta+(1-\\cos\\theta)k_zk_y & 1+(1-\\cos\\theta)(k_z^2-1) \\\\\n",
    "\\end{bmatrix}\n",
    "$$\n",
    "\n",
    "You can accomplish this using scipy\n",
    "- Use [Rotation.from_rotvec](https://docs.scipy.org/doc/scipy/reference/generated/scipy.spatial.transform.Rotation.from_rotvec.html) to construct Rotation object using rotation vector. Note that this takes only three numbers, as the axis is expected to be normalized (so multiply the angle and axis).\n",
    "- Use [Rotation.as_matrix](https://docs.scipy.org/doc/scipy/reference/generated/scipy.spatial.transform.Rotation.as_matrix.html) to get the rotation matrix back"
   ]
  },
  {
   "cell_type": "code",
   "execution_count": 39,
   "metadata": {},
   "outputs": [],
   "source": [
    "# Angle axis to rotation matrix\n",
    "def axang_to_rm(ax, ang, degrees = False):\n",
    "    \"\"\"\n",
    "    Convert axis-angle representation to rotation matrix\n",
    "\n",
    "    Parameters:\n",
    "    - ax: list or np.ndarray    shape: (3,)\n",
    "        The axis of rotation where ax[0] is X coordinate, ax[1] is Y\n",
    "        coordinate and ax[2] is Z coordinate\n",
    "    - ang: float\n",
    "        The angle of rotation\n",
    "    - degrees: bool     default: False\n",
    "        If 'True', the 'ang' angle is assumed to be in degrees and is\n",
    "        subsequently converted to radians. Else if 'False', the 'ang'\n",
    "        value is assumed to already be in radians\n",
    "    \n",
    "    Returns:\n",
    "    - rot_m: np.ndarray     shape: (3, 3)\n",
    "        A 3x3 rotation matrix (direction cosines)\n",
    "    \"\"\"\n",
    "    th_rad = np.deg2rad(ang) if degrees else ang\n",
    "    [kx, ky, kz] = ax[0], ax[1], ax[2]\n",
    "    k_cross = sp.Matrix([\n",
    "        [0, -kz, ky],\n",
    "        [kz, 0, -kx],\n",
    "        [-ky, kx, 0]\n",
    "    ])\n",
    "    k_cross_sq = k_cross * k_cross\n",
    "    rot_m = np.eye(3) + sp.sin(th_rad) * k_cross + (1-sp.cos(th_rad)) * k_cross_sq\n",
    "    return rot_m"
   ]
  },
  {
   "cell_type": "code",
   "execution_count": 40,
   "metadata": {},
   "outputs": [
    {
     "name": "stdout",
     "output_type": "stream",
     "text": [
      "Rotation matrix is identical through Scipy\n",
      "[[-0.51780074  0.84292002  0.14617876]\n",
      " [-0.81605629 -0.53794854  0.21133741]\n",
      " [ 0.25677718 -0.00985943  0.96642034]]\n",
      "The vector P = [Px, Py, Pz] will become\n"
     ]
    },
    {
     "data": {
      "text/latex": [
       "$\\displaystyle \\left[\\begin{matrix}- 0.517800739415721 P_{x} + 0.842920021873521 P_{y} + 0.146178763797195 P_{z}\\\\- 0.816056291972358 P_{x} - 0.537948536841593 P_{y} + 0.211337408052421 P_{z}\\\\0.256777184720253 P_{x} - 0.00985943379369655 P_{y} + 0.966420337623546 P_{z}\\end{matrix}\\right]$"
      ],
      "text/plain": [
       "Matrix([\n",
       "[ -0.517800739415721*P_x + 0.842920021873521*P_y + 0.146178763797195*P_z],\n",
       "[ -0.816056291972358*P_x - 0.537948536841593*P_y + 0.211337408052421*P_z],\n",
       "[0.256777184720253*P_x - 0.00985943379369655*P_y + 0.966420337623546*P_z]])"
      ]
     },
     "execution_count": 40,
     "metadata": {},
     "output_type": "execute_result"
    }
   ],
   "source": [
    "w_axis = np.array([2, 1, 15])\n",
    "w_axis = w_axis / np.linalg.norm(w_axis)\n",
    "ang_th = 4.1364\n",
    "px, py, pz = sp.symbols('P_x, P_y, P_z')\n",
    "P_vect = sp.Matrix([[px], [py], [pz]])\n",
    "rot_m = axang_to_rm(w_axis, ang_th)\n",
    "# Use scipy to verify\n",
    "rm = Rotation.from_rotvec(w_axis * ang_th)\n",
    "# Rotation matrix is\n",
    "if np.allclose(rm.as_matrix(), np.array(rot_m, dtype=float)):\n",
    "    print(\"Rotation matrix is identical through Scipy\")\n",
    "    print(np.array(rot_m, dtype=float))\n",
    "# Transformation of P\n",
    "print(\"The vector P = [Px, Py, Pz] will become\")\n",
    "rot_m * P_vect"
   ]
  },
  {
   "cell_type": "markdown",
   "metadata": {},
   "source": [
    "### Answer 3: Axis-angle from Rotation matrix\n",
    "\n",
    "The angle and axis can be derived from the rotation matrix by doing the following\n",
    "\n",
    "$$\n",
    "\\mathbf{R} = \\begin{bmatrix}\n",
    "r_{11} & r_{12} & r_{13} \\\\\n",
    "r_{21} & r_{22} & r_{23} \\\\\n",
    "r_{31} & r_{32} & r_{33}\n",
    "\\end{bmatrix}\n",
    "$$\n",
    "\n",
    "The angle is given by\n",
    "\n",
    "$$ \\theta = \\arccos \\left( \\frac{r_{11}+r_{22}+r_{33}-1}{2} \\right ) $$\n",
    "\n",
    "The axis is then retrieved using\n",
    "\n",
    "$$\n",
    "\\mathbf{k} = \\frac{1}{2 \\sin\\theta} \\begin{bmatrix}\n",
    "r_{32} - r_{23} \\\\\n",
    "r_{13} - r_{31} \\\\\n",
    "r_{21} - r_{12}\n",
    "\\end{bmatrix}\n",
    "$$\n",
    "\n",
    "Use the following scipy functions for verification\n",
    "- Use [Rotation.from_matrix](https://docs.scipy.org/doc/scipy/reference/generated/scipy.spatial.transform.Rotation.from_matrix.html) to construct a Rotation object from rotation matrix\n",
    "- Use [Rotation.as_rotvec](https://docs.scipy.org/doc/scipy/reference/generated/scipy.spatial.transform.Rotation.as_rotvec.html) to get the rotation vector and angle. The angle is the norm (magnitude) and the axis has to be normalized."
   ]
  },
  {
   "cell_type": "code",
   "execution_count": 41,
   "metadata": {},
   "outputs": [],
   "source": [
    "# Rotation matrix to angle axis\n",
    "def rm_to_axang(rot_m, degrees = False):\n",
    "    \"\"\"\n",
    "    Convert rotation matrix to angle-axis representation\n",
    "\n",
    "    Parameters:\n",
    "    - rot_m: np.ndarray     shape: (3, 3)\n",
    "        Rotation Matrix\n",
    "    \n",
    "    Returns:\n",
    "    - ax: np.ndarray    shape: (3,1)\n",
    "        The axis\n",
    "    - ang: float\n",
    "        The angle. If 'degrees' is False, then in radians. Else\n",
    "        if 'degrees' is True, then in degrees.\n",
    "    \"\"\"\n",
    "    # Parse elements\n",
    "    r11 = rot_m[0][0]\n",
    "    r12 = rot_m[0][1]\n",
    "    r13 = rot_m[0][2]\n",
    "    r21 = rot_m[1][0]\n",
    "    r22 = rot_m[1][1]\n",
    "    r23 = rot_m[1][2]\n",
    "    r31 = rot_m[2][0]\n",
    "    r32 = rot_m[2][1]\n",
    "    r33 = rot_m[2][2]\n",
    "    # Angle\n",
    "    ang_rad = np.arccos((r11+r22+r33-1)/2)\n",
    "    ang = np.rad2deg(ang_rad) if degrees else ang_rad\n",
    "    # Axis\n",
    "    ax = (1/(2*np.sin(ang_rad))) * np.array([\n",
    "        [r32-r23],\n",
    "        [r13-r31],\n",
    "        [r21-r12]\n",
    "    ])\n",
    "    return ax, ang"
   ]
  },
  {
   "cell_type": "code",
   "execution_count": 42,
   "metadata": {},
   "outputs": [
    {
     "name": "stdout",
     "output_type": "stream",
     "text": [
      "Axis is \n",
      "[[0.3162]\n",
      " [0.    ]\n",
      " [0.9487]]\n",
      "Angle is 1.5708 (which is 90.000 degrees)\n",
      "Scipy returns the same axis and angle\n"
     ]
    }
   ],
   "source": [
    "# Rotation matrix\n",
    "rot_m = np.array([\n",
    "    [0.1, -0.9487, 0.3],\n",
    "    [0.9487, 0.0, -0.3162],\n",
    "    [0.3, 0.3162, 0.9]\n",
    "])\n",
    "# Get axis and angle\n",
    "ax, ang = rm_to_axang(rot_m)\n",
    "print(f\"Axis is \\n{ax}\")\n",
    "print(f\"Angle is {ang:.4f} (which is {np.rad2deg(ang):.3f} degrees)\")\n",
    "# Testing with scipy\n",
    "axang_sp = Rotation.from_matrix(rot_m).as_rotvec()\n",
    "ang_sp = np.linalg.norm(axang_sp)\n",
    "ax_sp = axang_sp / ang_sp\n",
    "if np.allclose(ax_sp, ax.flatten()) and np.allclose(ang_sp, ang):\n",
    "    print(\"Scipy returns the same axis and angle\")"
   ]
  },
  {
   "cell_type": "markdown",
   "metadata": {},
   "source": [
    "# 3. Data representations"
   ]
  },
  {
   "cell_type": "markdown",
   "metadata": {},
   "source": [
    "## a) Octomaps\n",
    "\n",
    "1. Why is an Octomap memory efficient?\n",
    "2. When do we update an Octomap and why?\n",
    "3. When would you likely use an octomap instead of a point cloud?\n",
    " "
   ]
  },
  {
   "cell_type": "markdown",
   "metadata": {},
   "source": [
    "### Answer 1: Octomap memory\n",
    "\n",
    "An octomap stores environmental data (usually obtained through a point cloud) in a tree like data structure. Each node is a cube called a voxel which can be further divided into 8 sub-cubes (sub-voxels). Some of the reasons why octomaps are memory efficient are as follows\n",
    "- The information about the coordinates of each node (center location of each cube) need not be stored (it can be inferred on traversal), only the probabilistic estimate of its occupancy is stored. \n",
    "- The depth of the tree is bounded by the maximum resolution of the data. Additionally, segmenting the tree to a particular depth level (less than the leaf nodes) yields a map with coarser resolution. So this allows storing artifact information and retrievals of multiple resolutions.\n",
    "- If all children of a node have the same state (occupied or free) they can be pruned, to save memory. Such pruning is also possible when constructing or modifying the tree. \n",
    "- Using maximum likelihood probabilities before tree pruning leads to even greater compression and lesser memory requirements.\n",
    "\n",
    "Additionally, you can store extra information for every voxel (like temperature or color of the region)"
   ]
  },
  {
   "cell_type": "markdown",
   "metadata": {},
   "source": [
    "### Answer 2: Updating Octomaps\n",
    "\n",
    "Note that occupancy values are updated as **log-odds** values as shown below (it's essentially accumulating previous log-odds estimates and thresholding them)\n",
    "\n",
    "$$ \\textup{L} (n|z_{1:t}) = \\textup{max} \\left( \\textup{min} \\left( \\textup{L} (n|z_{1:t-1}) + \\textup{L}(n|z_{t}), l_{\\textup{max}} \\right ), l_{\\textup{min}} \\right ) $$\n",
    "\n",
    "Where $\\textup{L}(n) = \\textup{log} \\left[ \\frac{P(n)}{1-P(n)} \\right ]$ (log, odds). In a static environment, all voxels will converge to a stable state ($l_{\\textup{min}}$ for free and $l_{\\textup{max}}$ for occupied). However, when readings come that change a node / voxel from stable to _unstable_ (new _measurements that contradict_ the state of corresponding node), then its children (which were pruned earlier when the voxel became stable) will have to be **regenerated** and **updated** (resampled and added to the tree) accordingly. The bounds in the above equation are so that the map can adapt to changes in the environment quickly, and to promote compression among stable nodes. Say we didn't have them, we would need as many observations contradicting the current voxel state as many were taken to affirm that state earlier, this would slow the updating process of the map significantly.\n",
    "\n",
    "Basically, we update the map when contradicting readings are achieved and, because we do not want to loose the sub-voxel data, we update children nodes in the octree as well. We do this to maintain the map's correctness."
   ]
  },
  {
   "cell_type": "markdown",
   "metadata": {},
   "source": [
    "### Answer 3: Octomaps Vs. Point Clouds\n",
    "\n",
    "While point clouds are simpler to visualize, they have serious memory constraints (over a large area that needs to be mapped) and cannot easily be stored in a hierarchical manner. Precisely, you could use octomaps instead of point clouds in the following cases\n",
    "\n",
    "- Storage and transmission of spatial data in terms of occupancy. Point clouds would take significantly more information (sampled points of 3D space) compared to octrees (using which the octomap is made)\n",
    "- Hierarchical models where some objects (maybe foreground objects of prominence) could have higher resolution separate octrees compared to less important objects (maybe background objects). Hierarchical octrees allow subtrees to be created, which are very useful in environment recognition. Doing the same through point clouds is difficult.\n"
   ]
  },
  {
   "cell_type": "markdown",
   "metadata": {},
   "source": [
    "## b) Signed Distance Functions\n",
    "\n",
    "1. How do we determine object surfaces using SDF?\n",
    "2. How do we aggregate views from multiple cameras? (just a general overview is fine)\n",
    "3. Which preserves details better? Voxels or SDF? Why?\n",
    "4. What’s an advantage of SDF over a point cloud?\n"
   ]
  },
  {
   "cell_type": "markdown",
   "metadata": {},
   "source": [
    "### Answer 1: Object Surfaces using SDF\n",
    "\n",
    "A Signed Distance Function is applied to individually sampled points in space. Their value is associated to the distance to the nearest surface and the position relative to the surface. Usually, if a point is in the surface (surface comes first in sensor measurement / ray from sensor), then, it is given a positive value. If a point is outside the surface (point comes first in ray from sensor), then, it is given a negative value. So it is high inside surface / object, decreases towards 0 as we move to surface, then further decreases (goes negative) as we move outwards the object surface.\n",
    "\n",
    "Therefore, an object surface can be extracted from the sign distance function by **sampling the points whose value is 0** (points on the surface).\n"
   ]
  },
  {
   "cell_type": "markdown",
   "metadata": {},
   "source": [
    "### Answer 2: Aggregating multiple camera views\n",
    "\n",
    "A camera essentially projects a 3D scene to a surface. During this process, the depth of the scene is lost. By capturing the scene from multiple views, we can extract several depth features of the scene back from the multiple images. A scene can be reconstructed by aggregating multiple pictures from the same camera, taken from different poses or multiple cameras can be used to do this process live / on-the-fly.\n",
    "\n",
    "Say we have two cameras that have captured images (say one image from each) of the same scene and we have to find the depth information of the scene. We would roughly follow the following steps\n",
    "\n",
    "1. Find the **camera parameters**: This stereo setup has several parameters that are divided into two main categories: _intrinsic_ and _extrinsic_ parameters. \n",
    "\n",
    "    Let's briefly describe these\n",
    "\n",
    "    - Intrinsic parameters are parameters of the camera, things like focal length. These parameters allow efficient projection lines in 3D space. That is, given a pixel in the image, project it's ray in 3D space (a set of points where that pixel could be in 3D space) that could have made that pixel land where it is in the image. These parameters are particular to the camera. This basically gives the mapping from 3D world coordinates to 2D image coordinates.\n",
    "    - Extrinsic parameters are parameters of the stereo setup that give us the transformation between the two cameras. This is basically to understand where one camera is with respect to another in the 3D world.\n",
    "\n",
    "    Several applications allow us to estimate these parameters, usually after running an experiment with a checkboard (whose dimensions are well known in advance). MATLAB's [Stereo Camera Calibrator App](https://in.mathworks.com/help/vision/ug/stereo-camera-calibrator-app.html) allows identification and exporting of the camera parameters. \n",
    "    \n",
    "    Usually, once these parameters are identified, the stereo setup is frozen, that is, no changes to the camera or their relative pose is made. This is done so that we do not have to run this step every time; just run once, calibrate and done.\n",
    "\n",
    "2. Run **stereo rectification** and **feature extraction**: This is two steps in actual, but squashed into one for describing purposes. The end result is to have features identified that belong to both the images. Only when we have correctly identified these features, can they be projected and the relevant depth information be retrieved. To understand why distinguishable features are needed consider this though experiment. Say we have two pictures taken of a plane wall (no features); what information can be projected? There is nothing that can be extracted from the plane image.\n",
    "\n",
    "    1. Feature extraction: Finding features of significance. Usually corner detection algorithms work well. Algorithms like [SIFT](https://en.wikipedia.org/wiki/Scale-invariant_feature_transform) are also commonly used.\n",
    "    2. Stereo Rectification: This means horizontally aligning the images, so that feature matching stage becomes less computationally intensive. We don't just have to find features in the two images, we also have to match them (find their corresponding equivalent in the other image).\n",
    "\n",
    "    Usually, this can be done on the images after having the camera parameters. This is basically removing the distortion (using intrinsic parameters) from the images and horizontally aligning the two images so that individual features on each line can be matched using a linear search approach (which is less computationally intensive than having to consider pairwise features and neighborhoods).\n",
    "\n",
    "3. Generate a **disparity map**: This basically shows the individual pixel displacement. Pixels closer to the camera have high disparity (greater deviation in the two images) than pixels that are farther from the camera in the scene. This map is useful in estimating / converting the two images into a scene description format like point cloud. Note that this can only be done on rectified images, as horizontal displacement of features are used. This is usually where the common steps end. The following steps are specific to the kind of data we want to retrieve. Usually, [Epipolar geometry](https://en.wikipedia.org/wiki/Epipolar_geometry) is heavily used in this stage and the next stages.\n",
    "\n",
    "4. Use the disparity map and camera stereo parameters to construct the point cloud. The disparity map has already given some estimate of depth, we use the camera parameters to get the exact location of these features in the scene. Some approaches can even use apply neighborhood methods to the regions near the features in the images and virtually project every pixel into the point cloud.\n",
    "\n",
    "This is how you could _reconstruct_ a scene as point cloud using stereo-imaging from two cameras.\n",
    "\n",
    "**References**\n",
    "\n",
    "- YouTube\n",
    "    - [Stereo Vision by MATLAB](https://www.youtube.com/watch?v=GpU1Vx-b3VA)\n",
    "- Slides\n",
    "    - [Vision Research Lab, University of Minnesota](http://vision.psych.umn.edu/users/schrater/schrater_lab/courses/CompVis07/Papers/Stereo.pdf)"
   ]
  },
  {
   "cell_type": "markdown",
   "metadata": {},
   "source": [
    "### Answer 3: Voxels or SDF\n",
    "\n",
    "- Usually, SFDs have voxel information embedded in them, as they're functions that essentially take point / coordinates and return proximity to surface (which can be later used as an estimate of occupancy for that coordinate). Voxels on the other hand, are an extension of occupancy maps in 3D. They explicitly discretize (divide) the 3D space into cubical volumes and store occupancy values.\n",
    "- When it comes to **preserving surface details of the scene**, SDFs can do a better job because they have that embedded in them (value = 0 is the surface). Voxels on the other hand have to run some surface detection algorithm (usually done using surface normals). This compute load is over the very heavy memory load used by Voxels. Usually, SDFs can do such tasks better than Voxel representations that use lesser memory like Octrees (which still require some processing to get surface contours of objects). Therefore, given the same memory requirement and the objective being preserving the scene objects, SDFs can do a better job.\n",
    "- SDFs can be used to estimate Voxel occupancy too. This makes them a robust tool for navigation purposes. If sliced along a surface, they can be used as potential functions (that allow us to traverse a path while avoiding or repelling from obstacles)."
   ]
  },
  {
   "cell_type": "markdown",
   "metadata": {},
   "source": [
    "### Answer 4: SDF Vs. Point Clouds\n",
    "\n",
    "We might want to use SDFs when estimating occupancy in 3D space\n",
    "\n",
    "- A point cloud has no proximity information associated with it. It is simply a collection of 3D points. To infer anything from them, some transformations need to be applied to them. To retrieve occupancy of a voxel (a cube in 3D space), points within it have to be estimated, which requires repetitive sampling of the clouds (for every query).\n",
    "- SDFs on the other hand, store this information within them. For any given point in space, they return the distance from the nearest surface. This can be used as a measurement to proximity and an estimate of occupancy.\n",
    "\n",
    "We might want to use SDFs when the objects in the scene are very important\n",
    "\n",
    "- Since SDFs are functions (yielding the surface of obstacles / objects when equated to 0), they can be stored while containing high details about objects in the scene.\n",
    "- SDFs also allow us to dilate (or contract) objects. We can simply offset the function to re-scale the object, and such scaling is very uniform. An example of this can be found [here](https://www.cineversity.com/vidplaylist/372083_default_playlist/volumetric_workflow_what_are_signed_distance_fields_sdf). Doing the same using point clouds is difficult (you have to estimate the center of scaling first, then apply transformation)."
   ]
  },
  {
   "cell_type": "markdown",
   "metadata": {},
   "source": [
    "# References and Resources\n",
    "\n",
    "1. Gimbal locks and quaternions: https://youtu.be/YF5ZUlKxSgE\n",
    "2. Exponential map: \n",
    "    1. 3 Blue 1 Brown: https://youtu.be/O85OWBJ2ayo\n",
    "    2. Northwestern Robotics: https://youtu.be/v_KBHaG0mas\n",
    "3. Bunny ply is taken from: http://graphics.im.ntu.edu.tw/~robin/courses/cg03/model/"
   ]
  }
 ],
 "metadata": {
  "interpreter": {
   "hash": "833f805e531b09d5891922f3c95e86129d68dd31d00273e9af88a8ef7add9b8d"
  },
  "kernelspec": {
   "display_name": "Python 3.8.0 64-bit ('mr-cs7-503': conda)",
   "name": "python3"
  },
  "language_info": {
   "codemirror_mode": {
    "name": "ipython",
    "version": 3
   },
   "file_extension": ".py",
   "mimetype": "text/x-python",
   "name": "python",
   "nbconvert_exporter": "python",
   "pygments_lexer": "ipython3",
   "version": "3.8.0"
  }
 },
 "nbformat": 4,
 "nbformat_minor": 5
}
