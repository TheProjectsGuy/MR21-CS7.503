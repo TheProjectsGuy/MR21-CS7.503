{
 "cells": [
  {
   "cell_type": "markdown",
   "metadata": {},
   "source": [
    "# Assignment - 2: Data Representation and Point Cloud Operations\n",
    "\n",
    "Team: `MR21_3241`\n",
    "\n",
    "Roll Number: `2019111041` (Prateek Sancheti), `2021701032` (Avneesh Mishra)"
   ]
  },
  {
   "cell_type": "markdown",
   "metadata": {},
   "source": [
    "# Instructions\n",
    "\n",
    "- Code must be written in Python in Jupyter Notebooks. We highly recommend using anaconda distribution or at the minimum, virtual environments for this assignment.\n",
    "- Save all your results in ```results/<question_number>/<sub_topic_number>/```\n",
    "- The **References** section provides you with important resources to solve the assignment.\n",
    "- Make sure your code is modular since you may need to reuse parts for future assignments.\n",
    "- Answer the descriptive questions in your own words with context & clarity. Do not copy answers from online resources or lecture notes.\n",
    "- The **deadline** for this assignment is on 26/09/2021 at 11:55pm. Please note that there will be no extensions.\n",
    "- Plagiarism is **strictly prohibited**."
   ]
  },
  {
   "cell_type": "markdown",
   "metadata": {},
   "source": [
    "# Submission Instructions\n",
    "\n",
    "1. Make sure your code runs without any errors after reinitializing the kernel and removing all saved variables.\n",
    "2. After completing your code and saving your results, zip the folder with name as ``Team_<team_name>_MR2021_Assignment_<assignment_number>.zip``"
   ]
  },
  {
   "cell_type": "code",
   "execution_count": 1,
   "metadata": {},
   "outputs": [
    {
     "name": "stdout",
     "output_type": "stream",
     "text": [
      "Jupyter environment detected. Enabling Open3D WebVisualizer.\n",
      "[Open3D INFO] WebRTC GUI backend enabled.\n",
      "[Open3D INFO] WebRTCWindowSystem: HTTP handshake server disabled.\n"
     ]
    }
   ],
   "source": [
    "import numpy as np\n",
    "from matplotlib import pyplot as plt\n",
    "import sympy as sp\n",
    "import open3d as o3d\n",
    "import cv2\n",
    "import pandas as pd\n",
    "# Utilities\n",
    "import copy\n",
    "import time"
   ]
  },
  {
   "cell_type": "markdown",
   "metadata": {},
   "source": [
    "# Introduction to types of Transformations and Homogeneous coordinates\n",
    "\n",
    "In robotics applications, it is inevitable to keep track of the frames of multiple objects/worlds. These frames can be transformations from one coordinate frame to the other. **Homogeneous coordinates** help in keeping track of various coordinate frames and allow performing composition of various transforms. We will first try to understand between types of transformations and their invariant properties.\n",
    "\n",
    "1. What is the difference between Affine, Similarity, and Euclidean transform? What are the invariant properities of each type of transform?\n",
    "2. Watch this [video](https://www.youtube.com/watch?v=PvEl63t-opM) to briefly understand homogeneous coordinates. What are points at infinity? What type of transformation can you apply to transform a point from infinity to a point that is not at infinity? \n",
    "3. Using homogeneous coordinates we can represent different types of transformation as point transforms vs. frame transforms. Concatenation of transforms (whether you post multiply transformation matrices or pre-multiply transformation matrices) depends on the problem and how you are viewing it. Try to understand the difference between frame vs. point transformations from this [video](https://youtu.be/Za7Sdegf8m8?t=1834). Let's assume that our camera and world frames are coinciding with each other. We need to estimate the camera to world **frame** transformation matrix after applying the transformations defined below in terms of $T_i$.We apply **frame** transform to move the camera in the world in the following order:\n",
    "    1. $T_1$ from the camera coordinate frame.\n",
    "    2. $T_2$ from the world coordinate frame.\n",
    "    3. $T_3$ from the world coordinate frame.\n",
    "    4. $T_4$ from the camera coordinate frame.\n",
    "    5. $T_5$ from the camera coordinate frame.\n"
   ]
  },
  {
   "cell_type": "markdown",
   "metadata": {},
   "source": [
    "## Answer 1: Affine, Similarity and Euclidean Transform\n",
    "\n",
    "Description as well as the properties preserved by different transforms are summarized below. Their homogeneous transformation matrices are also described.\n"
   ]
  },
  {
   "cell_type": "markdown",
   "metadata": {},
   "source": [
    "### Affine Transform\n",
    "\n",
    "It is a transformation that is any sequence of **rotation** (rotate points about an axis by a given angle), directional **scaling** (scaling the points differently in different direction) and **translation** (offsetting or moving the points)\n",
    "\n",
    "It can be described by a transformation\n",
    "\n",
    "$$ \n",
    "\\begin{bmatrix}\n",
    "\\mathbf{y} \\\\\n",
    "1\n",
    "\\end{bmatrix} = \n",
    "\\left[\n",
    "\\begin{array}{ccc|c}\n",
    "& \\mathbf{A} & & \\mathbf{b} \\\\\n",
    "0 & \\cdots & 0 & 1\n",
    "\\end{array}\n",
    "\\right]\n",
    "\\begin{bmatrix}\n",
    "\\mathbf{x} \\\\\n",
    "1\n",
    "\\end{bmatrix}\n",
    "$$\n",
    "\n",
    "Where $\\mathbf{x}$ is the input vector, $\\mathbf{y}$ is the output vector (result of transformation). The matrix $\\mathbf{A}$ contains information about rotation and scaling (SVD of $\\mathbf{A}$ might reveal more about it) of $\\mathbf{x}$ and the vector $\\mathbf{b}$ is the translation vector. The above matrix equation can be more simply written as\n",
    "\n",
    "$$ \\mathbf{y} = \\mathbf{A} \\mathbf{x} + \\mathbf{b} $$\n",
    "\n",
    "This type of transformation maintains the following invariant properties (assume transformation happening on 2D vectors for visualizing, but the same concepts can be extended to higher dimensions)\n",
    "\n",
    "- **Parallelism**: If two lines are parallel before the transform, they'll remain parallel after the transform as well.\n",
    "\n",
    "However, the following properties are not maintained\n",
    "\n",
    "- **Angles**: If two lines make a certain angle before the transformation, there is no guarantee that they'll maintain the same angle after transformation.\n",
    "- **Lengths**: SInce scaling is involved, the lengths of vectors need not be preserved. They'll not remain of the same length after the transformation.\n"
   ]
  },
  {
   "cell_type": "markdown",
   "metadata": {},
   "source": [
    "### Similarity Transform\n",
    "\n",
    "> **Note**: Assuming that the _similarity transform_ described here is not representing a transformation in one frame, in another frame.\n",
    "\n",
    "A similarity transform is a mix of **scaled rotation** and a **translation**. The main difference from affine transform is that the scaling happens to the entire vector space (uniform in all directions).\n",
    "\n",
    "It can be described by a transformation\n",
    "\n",
    "$$\n",
    "\\begin{bmatrix}\n",
    "\\mathbf{y} \\\\\n",
    "1\n",
    "\\end{bmatrix}\n",
    "=\n",
    "\\left [\n",
    "\\begin{array}{ccc|c}\n",
    "& m\\mathbf{R} & & \\mathbf{b} \\\\\n",
    "0 & \\cdots & 0 & 1\n",
    "\\end{array}\n",
    "\\right ]\n",
    "\\begin{bmatrix}\n",
    "\\mathbf{x} \\\\\n",
    "1\n",
    "\\end{bmatrix}\n",
    "$$\n",
    "\n",
    "Where $\\mathbf{x}$ is the input vector, $\\mathbf{y}$ is the output vector (result of transformation). The matrix $\\mathbf{R}$ is formed by orthonormal basis vectors (in the respective dimensional space) such that $\\left | \\mathbf{R} \\right | = +1$. Such a group of matrices are called _special orthogonal_ matrices. It can be scaled by $m$ (a scalar). The vector $\\mathbf{b}$ is a translation vector. The above matrix equation can more simply be written as\n",
    "\n",
    "$$ \\mathbf{y} = m \\mathbf{R\\,x} + \\mathbf{b} $$\n",
    "\n",
    "This type of transformation maintains the following invariant properties (assume transformation happening on 2D vectors for visualizing, but the same concepts can be extended to higher dimensions)\n",
    "\n",
    "- **Angles**: If two lines make a particular angle before transformation, they will maintain the same angle after transformation. This is because the matrix $\\mathbf{R}$ inherently preserves angles. Note that scaling is uniform for all axis here, unlike the affine transform case.\n",
    "- **Parallelism**: If two lines are parallel before the transform, they will remain parallel after the transform. This follows from the fact that angles are preserved.\n",
    "\n",
    "However, the following properties are not maintained\n",
    "\n",
    "- **Length**: Since uniform scaling is observed, the resultant vectors need not be of the same length. But, they'll be a scalar multiple of their original lengths (for untranslated free vectors).\n"
   ]
  },
  {
   "cell_type": "markdown",
   "metadata": {},
   "source": [
    "### Euclidean Transform\n",
    "\n",
    "Euclidean transforms, or _Rigid Body Transforms_ are transformation that preserve the length of vectors as well. They only rotate or translate (offset) vectors, they do not involve scaling.\n",
    "\n",
    "It can be described by a transformation\n",
    "\n",
    "$$\n",
    "\\begin{bmatrix}\n",
    "\\mathbf{y} \\\\\n",
    "1\n",
    "\\end{bmatrix}\n",
    "=\n",
    "\\left [\n",
    "\\begin{array}{ccc|c}\n",
    "& \\mathbf{R} & & \\mathbf{b} \\\\\n",
    "0 & \\cdots & 0 & 1\n",
    "\\end{array}\n",
    "\\right ]\n",
    "\\begin{bmatrix}\n",
    "\\mathbf{x} \\\\\n",
    "1\n",
    "\\end{bmatrix}\n",
    "$$\n",
    "\n",
    "Where $\\mathbf{x}$ is the input vector, $\\mathbf{y}$ is the output vector (result of transformation). The matrix $\\mathbf{R}$ is formed by orthonormal basis vectors (in the respective dimensional space) such that $\\left | \\mathbf{R} \\right | = +1$. Such a group of matrices are called _special orthogonal_ matrices. The vector $\\mathbf{b}$ is a translation vector. The above matrix equation can more simply be written as\n",
    "\n",
    "$$ \\mathbf{y} = \\mathbf{R\\,x} + \\mathbf{b} $$\n",
    "\n",
    "This type of transformation maintains the following invariant properties\n",
    "\n",
    "- **Length**: The length of free vectors (their origin doesn't matter, only direction does) remains the same before and after transformation. This is because, to them, only rotation can be interpreted. And rotations have unity determinant\n",
    "- **Angle**: If two lines make a particular angle before transformation, they maintain that angle even after the transformation.\n",
    "- **Parallelism**: If two lines are parallel before the transform, they will remain parallel even after transform. This follows the fact that angles are preserved\n",
    "\n",
    "However, the following properties may not be preserved\n",
    "\n",
    "- **Direction**: The direction of vector may not remain constant after the transformation. This is because a rotation has taken place\n"
   ]
  },
  {
   "cell_type": "markdown",
   "metadata": {},
   "source": [
    "## Answer 2: Points at infinity\n",
    "\n",
    "Points at infinity and projective transform described below"
   ]
  },
  {
   "cell_type": "markdown",
   "metadata": {},
   "source": [
    "### Points at infinity\n",
    "\n",
    "As the [given video](https://youtu.be/PvEl63t-opM) shows, a point can be converted **from spatial coordinates to homogeneous coordinates** as follows\n",
    "\n",
    "$$\n",
    "\\begin{bmatrix}\n",
    "x \\\\\n",
    "y \\\\\n",
    "z \\\\\n",
    "\\end{bmatrix}\n",
    "\\rightarrow\n",
    "\\begin{bmatrix}\n",
    "x \\\\\n",
    "y \\\\\n",
    "z \\\\\n",
    "1\n",
    "\\end{bmatrix}\n",
    "$$\n",
    "\n",
    "A point can be converted from **homogeneous coordinates to spatial coordinates** as follows\n",
    "\n",
    "$$\n",
    "\\begin{bmatrix}\n",
    "x \\\\\n",
    "y \\\\\n",
    "z \\\\\n",
    "s\n",
    "\\end{bmatrix}\n",
    "\\rightarrow\n",
    "\\begin{bmatrix}\n",
    "x/s \\\\\n",
    "y/s \\\\\n",
    "z/s\n",
    "\\end{bmatrix}\n",
    "$$\n",
    "\n",
    "As observed above, if $s=0$ for homogeneous coordinate, then the point cannot be converted to the spatial coordinates. The resultant conversion will give $\\infty$. Such points in homogeneous coordinates are **points at infinity**.\n",
    "\n",
    "If the first three elements are normalized in homogeneous coordinates, then the point can then be considered a **direction**. The direction cannot be brought to a specific point in spatial coordinates, but can still be inferred as being on a line at infinity. Axis, for example, are directional points at infinity (that's why the rotation matrix has $s=0$ in the homogeneous transformation matrix, because they're axis and not points).\n"
   ]
  },
  {
   "cell_type": "markdown",
   "metadata": {},
   "source": [
    "### Projective transform\n",
    "\n",
    "The only way how points at infinity can be represented in _finite_ spatial coordinates is through projection. We essentially project the points on a dimension just lower than the spacial dimension. That is, project the 3D point at infinity on to a plane.\n",
    "\n",
    "> Case when this projection fails: Assume that the proposed plane passes through origin. There is a case of the point at infinity already being on the proposed plane (at infinity), in which case, the particular plane will not project it to a finite point in spatial coordinates.\n",
    "\n",
    "Consider a general case of Homogeneous Transformation\n",
    "\n",
    "$$\n",
    "\\begin{bmatrix}\n",
    "\\mathbf{y} \\\\\n",
    "s_y\n",
    "\\end{bmatrix}\n",
    "=\n",
    "\\begin{bmatrix}\n",
    "\\mathbf{A} & \\mathbf{t} \\\\\n",
    "\\mathbf{p}^T & 1\n",
    "\\end{bmatrix}\n",
    "\\begin{bmatrix}\n",
    "\\mathbf{x} \\\\\n",
    "s_x\n",
    "\\end{bmatrix}\n",
    "$$\n",
    "\n",
    "If $s_x = 0$, then for $s_y$ to not be $0$, $\\mathbf{p}$ has to be a non-zero vector. It can be seen that the dot product of $\\mathbf{p}$ and $\\mathbf{x}$ give value to $s_y$ (if $s_x$ is 0). This brings a point at infinity to a point that is not at infinity (specifically, the point comes to $\\mathbf{y}/s_y$ in spatial coordinates). A thing to note here is that if $\\mathbf{p}$ and $\\mathbf{x}$ are perpendicular, then $\\mathbf{x}$ will not be projected into spatial coordinates ($\\mathbf{y}$ will remain a point at infinity).\n",
    "\n",
    "An example of such transforms are cameras (which project points at infinity onto a fixed screen).\n"
   ]
  },
  {
   "cell_type": "markdown",
   "metadata": {},
   "source": [
    "## Answer 3: Camera and World transforms\n",
    "\n",
    "We post-multiply homogeneous transformation matrices when the transforms are described in the current frame. We pre-multiply homogeneous transformation matrices when the transforms are described in the world frame.\n"
   ]
  },
  {
   "cell_type": "markdown",
   "metadata": {},
   "source": [
    "### Camera to World transformation steps\n",
    "\n",
    "The answer should be $\\mathbf{T}_{eq} = \\mathbf{T}_3 \\mathbf{T}_2 \\mathbf{T}_1 \\mathbf{T}_4 \\mathbf{T}_5 $\n",
    "\n",
    "Beginning with the identity transformation (4x4 identity matrix)\n",
    "\n",
    "$$ \\mathbf{T}_{eq_s} = \\mathbf{I}_{(4,4)} $$\n",
    "\n",
    "We apply the following steps\n",
    "\n",
    "1. $T_1$ from the camera coordinate frame (post multiply)\n",
    "\n",
    "    $$ \\mathbf{T}_{eq_1} = \\mathbf{T}_{eq_s} \\mathbf{T}_1 = \\mathbf{I}_{(4, 4)} \\mathbf{T}_1 \\Rightarrow \\mathbf{T}_{eq_1} = \\mathbf{T}_1 $$\n",
    "\n",
    "2. $T_2$ from the world coordinate frame (pre multiply)\n",
    "\n",
    "    $$ \\mathbf{T}_{eq_2} = \\mathbf{T}_2 \\mathbf{T}_{eq_1} = \\mathbf{T}_2 \\left ( \\mathbf{T}_1 \\right ) \\Rightarrow \\mathbf{T}_{eq_2} = \\mathbf{T}_2 \\mathbf{T}_1 $$\n",
    "\n",
    "3. $T_3$ from the world coordinate frame (pre multiply)\n",
    "\n",
    "    $$ \\mathbf{T}_{eq_3} = \\mathbf{T}_3 \\mathbf{T}_{eq_2} = \\mathbf{T}_3 \\left ( \\mathbf{T}_2 \\mathbf{T}_1 \\right ) \\Rightarrow \\mathbf{T}_{eq_3} = \\mathbf{T}_3 \\mathbf{T}_2 \\mathbf{T}_1 $$\n",
    "\n",
    "4. $T_4$ from the camera coordinate frame (post multiply)\n",
    "\n",
    "    $$ \\mathbf{T}_{eq_4} = \\mathbf{T}_{eq_3} \\mathbf{T}_4 = \\left ( \\mathbf{T}_3 \\mathbf{T}_2 \\mathbf{T}_1 \\right ) \\mathbf{T}_4 \\Rightarrow \\mathbf{T}_{eq_4} = \\mathbf{T}_3 \\mathbf{T}_2 \\mathbf{T}_1 \\mathbf{T}_4 $$\n",
    "\n",
    "5. $T_5$ from the camera coordinate frame (post multiply)\n",
    "\n",
    "    $$ \\mathbf{T}_{eq_5} = \\mathbf{T}_{eq_4} \\mathbf{T}_5 = \\left ( \\mathbf{T}_3 \\mathbf{T}_2 \\mathbf{T}_1 \\mathbf{T}_4 \\right ) \\mathbf{T}_5 \\Rightarrow \\mathbf{T}_{eq_5} = \\mathbf{T}_3 \\mathbf{T}_2 \\mathbf{T}_1 \\mathbf{T}_4 \\mathbf{T}_5 $$\n",
    "\n",
    "The final transform is given by\n",
    "\n",
    "$$ \\mathbf{T}_{eq} = \\mathbf{T}_{eq_5} = \\mathbf{T}_3 \\mathbf{T}_2 \\mathbf{T}_1 \\mathbf{T}_4 \\mathbf{T}_5 $$\n"
   ]
  },
  {
   "cell_type": "markdown",
   "metadata": {},
   "source": [
    "# Visualise the Data\n",
    "\n",
    "Point clouds are a collection of points that represent a 3D shape or feature. Each point has its own set of X, Y and Z coordinates and in some cases additional attributes. A popular way to obtain this is by photogrammetry, though here we will use LiDAR data.\n",
    "\n",
    "LiDAR is a remote sensing process which collects measurements used to create 3D models and maps of objects and environments. Using ultraviolet, visible, or near-infrared light, LiDAR gauges spatial relationships and shapes by measuring the time it takes for signals to bounce off objects and return to the scanner.\n",
    "\n",
    "1. Download the data from [here](https://iiitaphyd-my.sharepoint.com/:f:/g/personal/venkata_surya_students_iiit_ac_in/EnYAMaTVIhJItzKYqtahE30BRKB6p6UfHN3TyJzvo6Mw0g?e=PegWds). It contains the LIDAR sensor output and odometry information per frame.\n",
    "\n",
    "    The .bin files contain the 3D point cloud captured by the LIDAR in this format - x, y, z, and reflectance. \n",
    "\n",
    "    The odometry information is given in the `odometry.txt` file, which is a 12 element vector. Reshape each of the first 77 rows to a 3x4 matrix to obtain the pose.\n",
    "    \n",
    "\n",
    "2. Obtain the point cloud from this and visualise for 1-2 frames."
   ]
  },
  {
   "cell_type": "markdown",
   "metadata": {},
   "source": [
    "## Loading and Visualizing Point Clouds\n",
    "\n",
    "Let's start by reading from the file. Note that the folder name will have to contain the LiDAR points.\n"
   ]
  },
  {
   "cell_type": "markdown",
   "metadata": {},
   "source": [
    "All configurations"
   ]
  },
  {
   "cell_type": "code",
   "execution_count": 2,
   "metadata": {},
   "outputs": [],
   "source": [
    "# Folder name\n",
    "lidar_folder_name = \"./data/data_pc_odom/LiDAR\" # Should contain .bin files\n",
    "num_frames = 77 # Number of frames to load for data\n",
    "start_num = 10  # Starting number (for file name). File names must be 6 character long\n",
    "pc_frames = []  # Will be a list of numpy arrays (one each frame)"
   ]
  },
  {
   "cell_type": "code",
   "execution_count": 3,
   "metadata": {},
   "outputs": [],
   "source": [
    "# Load all data\n",
    "for i in range(start_num, start_num+num_frames):\n",
    "    # Read from file\n",
    "    pc_raw = np.fromfile(f\"{lidar_folder_name}/{i:06d}.bin\", dtype=np.float32)\n",
    "    pc_frame = pc_raw.astype(float).reshape(-1, 4)\n",
    "    # Append to readings\n",
    "    pc_frames.append(pc_frame)"
   ]
  },
  {
   "cell_type": "code",
   "execution_count": 4,
   "metadata": {},
   "outputs": [],
   "source": [
    "# Convert each of them to Open3D point clouds\n",
    "o3d_pcds = [o3d.geometry.PointCloud(o3d.utility.Vector3dVector(points[:,:3]))\\\n",
    "    for points in pc_frames]"
   ]
  },
  {
   "cell_type": "code",
   "execution_count": 5,
   "metadata": {},
   "outputs": [],
   "source": [
    "# Visualize all point clouds in a slideshow\n",
    "def viz_pcds_local_ss(o3d_pcds):\n",
    "    \"\"\"\n",
    "    Visualizes the point clouds in the local frame with an axis (for reference).\n",
    "    The visualization is in local frame (origin is fixed). It is as if observing\n",
    "    from the sensor.\n",
    "    \n",
    "    Parameters:\n",
    "    - o3d_pcds: list[o3d.geometry.PointCloud]\n",
    "        A list of point clouds to visualize\n",
    "    \"\"\"\n",
    "    # Some parameters for the visualization\n",
    "    viz_title = \"Point Cloud visualization\"\n",
    "    viz_width = 1080\n",
    "    viz_height = 720\n",
    "    step_time = 0.1\n",
    "    end_wait_time = 1\n",
    "    look_at = [0, 0, 0]\n",
    "    cam_front = [1, -2, 1]\n",
    "    cam_up = [0, 0, 1]\n",
    "    cam_zoom = 0.45\n",
    "    # Environment variables\n",
    "    pc_viz: o3d.geometry.PointCloud = copy.deepcopy(o3d_pcds[0])    # PC to viz.\n",
    "    cf = o3d.geometry.TriangleMesh.create_coordinate_frame(size=5.0,\\\n",
    "        origin=[0, 0, 0])   # Coordinate frame\n",
    "    # -- Start non-blocking visualization --\n",
    "    vis = o3d.visualization.Visualizer()\n",
    "    vis.create_window(viz_title, viz_width, viz_height)\n",
    "    vis.add_geometry(cf)\n",
    "    vis.add_geometry(pc_viz)\n",
    "    # Set view\n",
    "    ctr = vis.get_view_control()\n",
    "    ctr.set_lookat(look_at)\n",
    "    ctr.set_front(cam_front)\n",
    "    ctr.set_up(cam_up)\n",
    "    ctr.set_zoom(cam_zoom)\n",
    "    vis.poll_events()\n",
    "    vis.update_renderer()\n",
    "    st_time = time.time()\n",
    "    for i in range(len(o3d_pcds)):\n",
    "        # Copy points\n",
    "        pc: o3d.geometry.PointCloud = copy.deepcopy(o3d_pcds[i])\n",
    "        pc_viz.points = pc.points\n",
    "        # Update visualization\n",
    "        vis.update_geometry(pc_viz)\n",
    "        st_time = time.time()\n",
    "        while (time.time() - st_time) < step_time:\n",
    "            vis.poll_events()\n",
    "            vis.update_renderer()\n",
    "    # Destroy everything\n",
    "    st_time = time.time()\n",
    "    while(time.time() - st_time) < end_wait_time:\n",
    "        vis.poll_events()\n",
    "        vis.update_renderer()\n",
    "    vis.destroy_window()\n"
   ]
  },
  {
   "cell_type": "code",
   "execution_count": 6,
   "metadata": {},
   "outputs": [
    {
     "name": "stdout",
     "output_type": "stream",
     "text": [
      "[Open3D WARNING] GLFW Error: WGL: Failed to make context current: The requested transformation operation is not supported. \n",
      "[Open3D WARNING] GLFW Error: WGL: Failed to make context current: The requested transformation operation is not supported. \n",
      "[Open3D WARNING] GLFW Error: WGL: Failed to make context current: The handle is invalid. \n"
     ]
    }
   ],
   "source": [
    "viz_pcds_local_ss(o3d_pcds)"
   ]
  },
  {
   "cell_type": "markdown",
   "metadata": {},
   "source": [
    "The following GIF was obtained by the following configurations in the function `viz_pcds_local_ss`\n",
    "\n",
    "```py\n",
    "    look_at = [0, 0, 0]\n",
    "    cam_front = [1, -2, 1]\n",
    "    cam_up = [0, 0, 1]\n",
    "    cam_zoom = 0.5\n",
    "```\n",
    "\n",
    "![LiDAR data GIF](./results/2/LiDAR_data_sequence.gif)\n",
    "\n",
    "Thanks to [GalaxyApps on Microsoft Store](https://www.microsoft.com/en-us/p/gif-maker-gif-editor/9pkc9pxzxg9r) for the app"
   ]
  },
  {
   "cell_type": "markdown",
   "metadata": {},
   "source": [
    "## Loading and Visualizing Odometry\n",
    "\n",
    "Let's start by reading from the `odometry.txt` file. Assuming that they're with respect to a fixed frame\n"
   ]
  },
  {
   "cell_type": "markdown",
   "metadata": {},
   "source": [
    "All configurations\n"
   ]
  },
  {
   "cell_type": "code",
   "execution_count": 7,
   "metadata": {},
   "outputs": [],
   "source": [
    "# File name (relative path)\n",
    "odom_file = \"./data/data_pc_odom/odometry.txt\"\n",
    "num_rows = num_frames   # Same number of rows as frames in LiDAR\n",
    "sep_odomf = ' '     # Separator for the file (pandas)\n",
    "# Store all homogeneous transforms\n",
    "pose_matrices = None    # A numpy.ndarray of shape (num_rows, 4, 4)"
   ]
  },
  {
   "cell_type": "code",
   "execution_count": 8,
   "metadata": {},
   "outputs": [],
   "source": [
    "# Read all data\n",
    "odom_f_all = pd.read_csv(odom_file, sep=sep_odomf)\n",
    "nptable_odom = odom_f_all.to_numpy().astype(float)\n",
    "pose_matrices = []\n",
    "for i in range(num_rows):\n",
    "    ht = np.vstack((nptable_odom[i].reshape(3, 4), [0, 0, 0, 1]))\n",
    "    pose_matrices.append(ht)\n",
    "pose_matrices = np.array(pose_matrices, dtype=float)\n"
   ]
  },
  {
   "cell_type": "code",
   "execution_count": 9,
   "metadata": {},
   "outputs": [],
   "source": [
    "# Visualize the odometry\n",
    "def viz_odom_global_single(ht_poses):\n",
    "    \"\"\"\n",
    "    Visualize the odometry after the homogeneous transformation frames\n",
    "    are passed to the function. All transformations are assumed to be\n",
    "    in the global frame. The function shows a single window, not an\n",
    "    updating slideshow.\n",
    "\n",
    "    Parameters:\n",
    "    - ht_poses: np.ndarray  shape: (N, 4, 4)\n",
    "        A list of 4x4 homogeneous transformation matrices\n",
    "    \"\"\"\n",
    "    # Some parameters for the visualization\n",
    "    viz_title = \"Odometry visualization\"\n",
    "    viz_width = 1080\n",
    "    viz_height = 720\n",
    "    look_at = [25, 0, 25]\n",
    "    cam_front = [1, 1, -2]\n",
    "    cam_up = [0, 1, 0]\n",
    "    # Environment variables\n",
    "    cf = o3d.geometry.TriangleMesh.create_coordinate_frame(size=10.0,\\\n",
    "        origin=[0, 0, 0])   # Global coordinate frame\n",
    "    cf_track = o3d.geometry.TriangleMesh.create_coordinate_frame(size=5.0,\\\n",
    "        origin=[0, 0, 0])   # Global coordinate frame\n",
    "    # -- Display window --\n",
    "    vis = o3d.visualization.Visualizer()\n",
    "    vis.create_window(viz_title, viz_width, viz_height)\n",
    "    vis.add_geometry(cf)    # Starting frame\n",
    "    # Add all frames\n",
    "    for i in range(len(ht_poses)):\n",
    "        ht = ht_poses[i]\n",
    "        cf_viz = copy.deepcopy(cf_track)\n",
    "        cf_viz.transform(ht)\n",
    "        vis.add_geometry(cf_viz)\n",
    "        vis.poll_events()\n",
    "        vis.update_renderer()\n",
    "    # Set view\n",
    "    ctr = vis.get_view_control()\n",
    "    ctr.set_lookat(look_at)\n",
    "    ctr.set_front(cam_front)\n",
    "    ctr.set_up(cam_up)\n",
    "    # Show window\n",
    "    vis.run()\n",
    "    vis.destroy_window()\n"
   ]
  },
  {
   "cell_type": "code",
   "execution_count": 10,
   "metadata": {},
   "outputs": [],
   "source": [
    "viz_odom_global_single(pose_matrices)\n",
    "odom_pose_matrices = pose_matrices # Save for next question"
   ]
  },
  {
   "cell_type": "markdown",
   "metadata": {},
   "source": [
    "The image below is obtained using the following configurations for the function `viz_odom_global_single`\n",
    "\n",
    "```py\n",
    "    look_at = [25, 0, 25]\n",
    "    cam_front = [1, 1, -2]\n",
    "    cam_up = [0, 1, 0]\n",
    "```\n",
    "\n",
    "You might have to wait a few moments for the visualization to load\n",
    "\n",
    "![Odometry frames](./results/2/odom_frames.jpg)\n",
    "\n",
    "The pattern of LiDAR data is clear, but there is definitely a transform between this odometry data and the LiDAR data. Note that the LiDAR visualization showed motion along `+X` axis, but this shows motion along `+Z` axis. Even the up direction of the two frames are different.\n"
   ]
  },
  {
   "cell_type": "markdown",
   "metadata": {},
   "source": [
    "# Transform\n",
    "\n",
    "The point cloud obtained is with respect to the LiDAR frame. The poses however, are in the camera frame. If we want to combine the point clouds from various frames, we need to bring them to the camera frame. \n",
    "\n",
    "1. Refer to the image below and apply the required transformation to the point cloud. \n",
    "\n",
    "2. Then, register all point clouds into a common reference frame and visualise it (Open3D). It is helpful to use homogeneous coordinates to keep track of the different frames.\n",
    "\n",
    "3. Write a function to transform the registered point cloud from the world to the $i^{th}$ camera frame, wherein $i$ is the input to the function.\n",
    "\n",
    "4. \\[Bonus\\] Move around in the registered point cloud using arrow keys like you would do in a game. For this you will have to regularly transform the entire registered world to your current camera frame and visualize repeatedly. You may choose to avoid visualizing points that are behind the camera in this case as they are not visible from the scene. You may also visualize points at a max depth to make the process easier.\n",
    "\n",
    "![](./img/transform.png)"
   ]
  },
  {
   "cell_type": "markdown",
   "metadata": {},
   "source": [
    "## Answer 1: Apply Transformations to the point cloud\n",
    "\n",
    "Before applying transformations, it is better to define all the transformations.\n"
   ]
  },
  {
   "cell_type": "markdown",
   "metadata": {},
   "source": [
    "It is assumed that the vehicle is rigid and the transform between any two frames on the vehicle remains constant for the entire run. Below is a table that contains the _code name_ (name of frame in code) of frames. The transform values are in code, and are rough estimates from the image.\n",
    "\n",
    "| **Frame Name** | **Code Name** | Notes |\n",
    "| :--- | :---- | :---- |\n",
    "| OXTS RT 3003 GPS/IMU | `bref` | The body reference frame. It is assumed to be behind all frames in the vehicle (maybe in plane of rear axels) |\n",
    "| Velodyne HDL-64E Laserscanner | `bld` | Frame for LiDAR on the body. Assumed to be aligned with `bref`, origin offset only in `+Z` and `+X`. |\n",
    "| Point Gray Flea 2 Video Camera | `bcam` or `bodom` | Frame for camera on the body. Assumed that we obtain the orientation by rotation `bld` first by `90` deg along `+Y`, then rotate the resultant frame by `-90` deg along `+Z`. The origin offset from the `bld` is assumed to be in `+X` and `-Z` direction. Since the `odometry.txt` is for this frame, it's also called the body odometry frame. |\n",
    "| Ground Reference with Body Camera Pose | `grbcp` or `osta` | Frame 0 (starting frame) of the `bcam` (odometry series). The orientation is as in `bcam` (so is the initial placement). Also called the odometry start frame. |\n",
    "| Ground Reference (**World**) | `gref` | The world frame. The pose is what the pose of `bref` is at starting of the experiment. The pose is that of `bref`. Maintains the same starting transformation with `grbcp` as the transformation between `bref` and `bcam` |\n"
   ]
  },
  {
   "cell_type": "markdown",
   "metadata": {},
   "source": [
    "Import the rotation functions and declare inverse transformation function"
   ]
  },
  {
   "cell_type": "code",
   "execution_count": 11,
   "metadata": {},
   "outputs": [],
   "source": [
    "# Borrowing basic functions from earlier submissions\n",
    "\n",
    "# Rotate about X axis\n",
    "def RotX(angle, degrees = False):\n",
    "    \"\"\"\n",
    "    Generates a Rotation matrice when the rotation is about X axis\n",
    "    A general rotation about X (Roll) is given by\n",
    "\n",
    "                | 1    0    0 |\n",
    "    RotX(T) =   | 0   cT  -sT |\n",
    "                | 0   sT   cT |\n",
    "\n",
    "    Where T is rotation angle in radians\n",
    "\n",
    "    Parameters:\n",
    "    - angle: Symbol or float\n",
    "        The angle of rotation\n",
    "    - degrees: bool     default: False\n",
    "        If 'True', then angle parameter is assumed to be in degrees\n",
    "        else it is by default assumed to be in radians\n",
    "    \n",
    "    Returns:\n",
    "    - rot_mat: sp.Matrix        shape: (3, 3)\n",
    "        The 3x3 rotation matrix for Roll by angle_rad\n",
    "    \"\"\"\n",
    "    angle_rad = angle if not degrees else sp.rad(angle)\n",
    "    rot_mat = sp.Matrix([\n",
    "        [1, 0, 0],\n",
    "        [0, sp.cos(angle_rad), -sp.sin(angle_rad)],\n",
    "        [0, sp.sin(angle_rad), sp.cos(angle_rad)],\n",
    "    ])\n",
    "    return rot_mat\n",
    "\n",
    "# Rotate about Y Axis\n",
    "def RotY(angle, degrees = False):\n",
    "    \"\"\"\n",
    "    Generates a Rotation matrice when the rotation is about Y axis\n",
    "    A general rotation about Y (Pitch) is given by\n",
    "\n",
    "                |  cT   0   sT |\n",
    "    RotY(T) =   |   0   1    0 |\n",
    "                | -sT   0   cT |\n",
    "\n",
    "    Where T is rotation angle in radians\n",
    "\n",
    "    Parameters:\n",
    "    - angle: Symbol or float\n",
    "        The angle of rotation\n",
    "    - degrees: bool     default: False\n",
    "        If 'True', then angle parameter is assumed to be in degrees\n",
    "        else it is by default assumed to be in radians\n",
    "    \n",
    "    Returns:\n",
    "    - rot_mat: sp.Matrix        shape: (3, 3)\n",
    "        The 3x3 rotation matrix for Pitch by angle_rad\n",
    "    \"\"\"\n",
    "    angle_rad = angle if not degrees else sp.rad(angle)\n",
    "    rot_mat = sp.Matrix([\n",
    "        [sp.cos(angle_rad), 0, sp.sin(angle_rad)],\n",
    "        [0, 1, 0],\n",
    "        [-sp.sin(angle_rad), 0, sp.cos(angle_rad)],\n",
    "    ])\n",
    "    return rot_mat\n",
    "\n",
    "# Rotate about Z Axis\n",
    "def RotZ(angle, degrees = False):\n",
    "    \"\"\"\n",
    "    Generates a Rotation matrice when the rotation is about Z axis\n",
    "    A general rotation about Z (Yaw) is given by\n",
    "\n",
    "                | cT   -sT   0 |\n",
    "    RotZ(T) =   | sT    cT   0 |\n",
    "                |  0     0   1 |\n",
    "\n",
    "    Where T is rotation angle in radians\n",
    "\n",
    "    Parameters:\n",
    "    - angle: Symbol or float\n",
    "        The angle of rotation\n",
    "    - degrees: bool     default: False\n",
    "        If 'True', then angle parameter is assumed to be in degrees\n",
    "        else it is by default assumed to be in radians\n",
    "    \n",
    "    Returns:\n",
    "    - rot_mat: sp.Matrix        shape: (3, 3)\n",
    "        The 3x3 rotation matrix for Yaw by angle_rad\n",
    "    \"\"\"\n",
    "    angle_rad = angle if not degrees else sp.rad(angle)\n",
    "    rot_mat = sp.Matrix([\n",
    "        [sp.cos(angle_rad), -sp.sin(angle_rad), 0],\n",
    "        [sp.sin(angle_rad), sp.cos(angle_rad), 0],\n",
    "        [0, 0, 1],\n",
    "    ])\n",
    "    return rot_mat"
   ]
  },
  {
   "cell_type": "code",
   "execution_count": 12,
   "metadata": {},
   "outputs": [],
   "source": [
    "# Some more function\n",
    "\n",
    "# Invert a homogeneous transformation matrix\n",
    "def inv_tf(htf):\n",
    "    \"\"\"\n",
    "    Inverts a passed homogeneous transformation matrix\n",
    "\n",
    "    Parameters:\n",
    "    - htf: np.ndarray   shape: (4, 4)\n",
    "        The homogeneous transformaiton to invert\n",
    "\n",
    "    Returns:\n",
    "    - htf_inv: np.ndarray   shape: (4, 4)\n",
    "        The inverse of 'htf' passed\n",
    "    \"\"\"\n",
    "    R: np.ndarray = htf[0:3, 0:3]\n",
    "    p: np.ndarray = htf[0:3, 3]\n",
    "    htf_inv = np.vstack((\n",
    "        np.hstack((R.T, -(R.T @ p).reshape(-1, 1))),\n",
    "        [0, 0, 0, 1]\n",
    "    ))\n",
    "    return htf_inv\n"
   ]
  },
  {
   "cell_type": "markdown",
   "metadata": {},
   "source": [
    "Frame transformations for all frames in the table above\n"
   ]
  },
  {
   "cell_type": "code",
   "execution_count": 13,
   "metadata": {},
   "outputs": [],
   "source": [
    "# To represent bld in bref\n",
    "tf_bref_bld = np.vstack((np.hstack((\n",
    "    np.eye(3), # Same alignment\n",
    "    np.array([0.5, 0, 0.5]).reshape(-1, 1)  # Offset in +X and +Z\n",
    ")), [0, 0, 0, 1]))\n",
    "# To represent bcam in bld\n",
    "tf_bld_bcam = np.vstack((np.hstack((\n",
    "    np.array(RotY(90, True) * RotZ(-90, True), dtype=float), # Rotation\n",
    "    np.array([0.1, 0, -0.05]).reshape(-1, 1)   # Offset in +X and -Z\n",
    ")), [0, 0, 0, 1]))\n",
    "# To represent bcam in bref\n",
    "tf_bref_bcam = tf_bref_bld @ tf_bld_bcam\n",
    "# Get the inverse of all transforms\n",
    "# To represent bref in bld\n",
    "tf_bld_bref = inv_tf(tf_bref_bld)\n",
    "# To represent bld in bcam\n",
    "tf_bcam_bld = inv_tf(tf_bld_bcam)\n",
    "# To represent bref in bcam\n",
    "tf_bcam_bref = inv_tf(tf_bref_bcam)"
   ]
  },
  {
   "cell_type": "markdown",
   "metadata": {},
   "source": [
    "Transform each point in the point cloud to the camera frame\n"
   ]
  },
  {
   "cell_type": "code",
   "execution_count": 14,
   "metadata": {},
   "outputs": [],
   "source": [
    "num_pts = len(pc_frames)    # pc_frames from LiDAR data\n",
    "# Point cloud in bcam frame\n",
    "pc_bcam = [ # Apply a frame-wise transformation\n",
    "    # Stack the points with reflectance\n",
    "    np.vstack((\n",
    "        # All points transformed as 3 x N\n",
    "        (\n",
    "            # Get point in bcam from bld\n",
    "            tf_bcam_bld @ np.vstack((\n",
    "                # Points as 4 x N - homogeneous coordinates\n",
    "                pcf[:,:3].T,\n",
    "                np.ones((1, pcf.shape[0]))\n",
    "            ))\n",
    "        )[:3, :],   # Last row is 1, remove it\n",
    "        # Reflectance values as 1 x N\n",
    "        pcf[:, 3].reshape(1, -1)\n",
    "    )).T \\\n",
    "    # For each frame\n",
    "    for pcf in pc_frames\n",
    "]   # Result is a list of np.ndarrays, each shape (N, 4)\n",
    "# 4 -> x, y, z, reflectance; N -> Num of pts in the frame"
   ]
  },
  {
   "cell_type": "code",
   "execution_count": 15,
   "metadata": {},
   "outputs": [
    {
     "name": "stdout",
     "output_type": "stream",
     "text": [
      "Point in frame 63, point 1878 matches out\n"
     ]
    }
   ],
   "source": [
    "# Some sanity check that this actually works: take a random point and check tf\n",
    "rp_fnum = 63 # Frame to compare\n",
    "rp_fpt = 1878  # Point number in the particular frame\n",
    "rp_bld = pc_frames[rp_fnum][rp_fpt] # Random point in bld\n",
    "rp_bcam = pc_bcam[rp_fnum][rp_fpt]  # Random point in bcam\n",
    "# Project rp_bld in bcam using tf\n",
    "rp_bcam_proj = np.vstack((\\\n",
    "    # Point being projected from bld to bcam\n",
    "    (tf_bcam_bld @ np.vstack((rp_bld[0:3].reshape(3, 1), 1)))[:3],\n",
    "    # Reflectance\n",
    "    rp_bld[3]))\n",
    "if np.allclose(rp_bcam.flatten(), rp_bcam_proj.flatten()):\n",
    "    print(f\"Point in frame {rp_fnum}, point {rp_fpt} matches out\")"
   ]
  },
  {
   "cell_type": "markdown",
   "metadata": {},
   "source": [
    "## Answer 2: Register all point clouds in reference frame and visualize\n",
    "\n",
    "Let us first bring all points (of all frames) to a single frame\n"
   ]
  },
  {
   "cell_type": "markdown",
   "metadata": {},
   "source": [
    "Assuming that the odometry is for the camera frame, each point set / frame (in `pc_bcam`) has to be transformed first to `grbcp` (home frame of odometry) and then to `gref` (the **world frame**)."
   ]
  },
  {
   "cell_type": "code",
   "execution_count": 16,
   "metadata": {},
   "outputs": [],
   "source": [
    "# All transformation (odometry)\n",
    "# All frames of odometry (bcam frames) in grbcam\n",
    "tfs_grbcp_bcam = odom_pose_matrices  # N x 4 x 4 poses\n",
    "# Transformation to express grbcp in gref (actual ground reference)\n",
    "tf_gref_grbcp = tf_bref_bcam"
   ]
  },
  {
   "cell_type": "code",
   "execution_count": 17,
   "metadata": {},
   "outputs": [],
   "source": [
    "# Convert all frames in the ground reference\n",
    "pc_gref = [\n",
    "    # Apply a frame-wise transformation from bcam to gref\n",
    "    np.vstack(( # Stack points with reflectance\n",
    "        # All points as 3 x N\n",
    "        (\n",
    "            # Get point in frame i to grbcp, then to gref\n",
    "            tf_gref_grbcp @ tfs_grbcp_bcam[i] @ np.vstack((\n",
    "                # Points as 4 x N - homogeneous coordinates\n",
    "                pcf[:, :3].T,   # 3 x N - x, y, z in cols\n",
    "                np.ones((1, pcf.shape[0]))  # 1 x N - 1s\n",
    "            ))  # Result is 4 x N\n",
    "        )[:3, :],   # Remove the last row of 1s\n",
    "        # Reflectance - 1 x N\n",
    "        pcf[:, 3].reshape(1, -1)\n",
    "    )).T \\\n",
    "        # For each frame\n",
    "        for (i, pcf) in enumerate(pc_bcam)\n",
    "]   # Result is a list of np.ndarrays, each of shape (N, 4)\n",
    "# 4 -> x, y, z, reflectance; N-> Num of pts in the particular frame"
   ]
  },
  {
   "cell_type": "code",
   "execution_count": 18,
   "metadata": {},
   "outputs": [],
   "source": [
    "# Visualize this in 03d\n",
    "o3d_pcds = [o3d.geometry.PointCloud(o3d.utility.Vector3dVector(points[:, :3]))\\\n",
    "    for points in pc_gref]  # All points as o3d point clouds"
   ]
  },
  {
   "cell_type": "code",
   "execution_count": 19,
   "metadata": {},
   "outputs": [],
   "source": [
    "# Call the visualization function\n",
    "viz_pcds_local_ss(o3d_pcds)"
   ]
  },
  {
   "cell_type": "code",
   "execution_count": 20,
   "metadata": {},
   "outputs": [],
   "source": [
    "# Get all points in one vector\n",
    "pcs_gref = np.vstack(pc_gref).astype(float).T  # All points as 4, N_total\n",
    "# All points (homogenized) in gref frame - shape 4 x N\n",
    "pcsh_gref = np.vstack((pcs_gref[:3, :], np.ones((1, pcs_gref.shape[1]))))"
   ]
  },
  {
   "cell_type": "markdown",
   "metadata": {},
   "source": [
    "### Visualizing the point cloud\n",
    "\n",
    "We first convert to an Open3D PointCloud geometry and then use voxel down-sampling.\n"
   ]
  },
  {
   "cell_type": "code",
   "execution_count": 21,
   "metadata": {},
   "outputs": [
    {
     "name": "stdout",
     "output_type": "stream",
     "text": [
      "Shrunk point cloud: 9413461 -> 577808 points\n"
     ]
    }
   ],
   "source": [
    "# Convert to Open3D vector\n",
    "o3d_pcds = o3d.geometry.PointCloud(o3d.utility.Vector3dVector(pcsh_gref[:3, :].T))\n",
    "# Downsample these 9M+ points!\n",
    "o3d_pcds_comp = o3d_pcds.voxel_down_sample(0.25)\n",
    "n0 = len(o3d_pcds.points)\n",
    "n1 = len(o3d_pcds_comp.points)\n",
    "print(f\"Shrunk point cloud: {n0} -> {n1} points\")"
   ]
  },
  {
   "cell_type": "code",
   "execution_count": 22,
   "metadata": {},
   "outputs": [],
   "source": [
    "cf = o3d.geometry.TriangleMesh.create_coordinate_frame(size=10.0, origin=[0,0,0])\n",
    "# Visualize them all\n",
    "o3d.visualization.draw_geometries([o3d_pcds_comp, cf], window_name=\"Downsampled PC\",\n",
    "    width=1080, height=720)"
   ]
  },
  {
   "cell_type": "markdown",
   "metadata": {},
   "source": [
    "Upon running the above cell and capturing images from different views, the following conclusions can be made\n",
    "\n",
    "1. Most of the points in the trajectory of the vehicle frame lie in the XY plane (with some constant offset that could be the height of the GPS/IMU). This is because the origin is above the point clouds, as seen in the image below\n",
    "\n",
    "    ![Origin and XZ plane above ground](./results/3/2/p1.jpg)\n",
    "\n",
    "2. It can also be inferred that the map was made by the vehicle taking a right turn and going forward. It is apparent that there has been a rotation about `-Z` and then straight path. Note that `+X` points in the heading direction of the vehicle. You can actually see the tire marks accumulated from future scans.\n",
    "\n",
    "    ![Vehicle heading](./results/3/2/p2.jpg)\n",
    "\n",
    "3. This is another view of the point clouds. Note that the color here is based on Z axis, which is along the height of the vehicle (red is above, blue is below).\n",
    "\n",
    "    ![Point clouds again](./results/3/2/p3.jpg)\n",
    "\n",
    "    There could be some noise in the data, giving points deeply underground\n",
    "\n",
    "    ![Points deeply underground](./results/3/2/p4.jpg)\n",
    "\n",
    "    You can filter these outliers through thresholding, or use the [colors property](http://www.open3d.org/docs/0.12.0/python_api/open3d.geometry.PointCloud.html#open3d.geometry.PointCloud.colors) and assign each point a color.\n"
   ]
  },
  {
   "cell_type": "markdown",
   "metadata": {},
   "source": [
    "## Answer 3: Transform Registered point cloud\n",
    "\n",
    "A function to transform the registered point cloud in `gref` to any point in the camera odometry sequence (sequence of `bcam` from odometry).\n"
   ]
  },
  {
   "cell_type": "code",
   "execution_count": 23,
   "metadata": {},
   "outputs": [],
   "source": [
    "# Some variables for the function\n",
    "bcam_odom_poses = odom_pose_matrices    # N, 4, 4 - Sequence of bcam odometry\n",
    "tf_gref_osta = tf_gref_grbcp    # TF: osta in gref\n",
    "tf_osta_gref = inv_tf(tf_gref_osta) # TF: gref in osta\n",
    "pcmap_gref = pcsh_gref  # Map: Point cloud in gref (homogenized)\n",
    "# Function to transform world map (point clouds) in the ith camera frame\n",
    "def pcworld_in_bcam_odom(i):\n",
    "    \"\"\"\n",
    "    Uses the point cloud map 'pcmap_gref', and projects it into the frame\n",
    "    defined by 'bcam_odom_poses'['i']. The point cloud map is assumed to\n",
    "    be in the 'gref' frame, a fixed transform from 'gref' to 'osta' is\n",
    "    applied.\n",
    "\n",
    "    Parameters:\n",
    "    - i: int    < len(bcam_odom_poses)\n",
    "        An index in odom poses\n",
    "    \"\"\"\n",
    "    # TF: Odometry frame 'i' in osta\n",
    "    tf_osta_ofi = bcam_odom_poses[i]\n",
    "    tf_ofi_osta = inv_tf(tf_osta_ofi)\n",
    "    pcmap_ofi = tf_ofi_osta @ tf_osta_gref @ pcmap_gref\n",
    "    return pcmap_ofi\n"
   ]
  },
  {
   "cell_type": "code",
   "execution_count": 24,
   "metadata": {},
   "outputs": [],
   "source": [
    "# Get the point cloud in the ith camera frame\n",
    "i = 19  # Visualize the ith frame\n",
    "pcsh_bcami = pcworld_in_bcam_odom(i)"
   ]
  },
  {
   "cell_type": "code",
   "execution_count": 25,
   "metadata": {},
   "outputs": [
    {
     "name": "stdout",
     "output_type": "stream",
     "text": [
      "Shrunk point cloud: 9413461 -> 577648 points\n"
     ]
    }
   ],
   "source": [
    "# Convert to Open3D\n",
    "o3d_pcds = o3d.geometry.PointCloud(\n",
    "    o3d.utility.Vector3dVector(pcsh_bcami[:3, :].T))\n",
    "# Compress point cloud\n",
    "o3d_pcds_comp = o3d_pcds.voxel_down_sample(0.25)\n",
    "n0 = len(o3d_pcds.points)\n",
    "n1 = len(o3d_pcds_comp.points)\n",
    "print(f\"Shrunk point cloud: {n0} -> {n1} points\")\n",
    "# Coordinate frame (for the ith frame)\n",
    "cf = o3d.geometry.TriangleMesh.create_coordinate_frame(size=5, origin=[0,0,0])"
   ]
  },
  {
   "cell_type": "code",
   "execution_count": 26,
   "metadata": {},
   "outputs": [],
   "source": [
    "# Visualize the points in the origin of ith frame\n",
    "o3d.visualization.draw_geometries([o3d_pcds_comp, cf], \"Cam projection\",\n",
    "    width=1080, height=720)"
   ]
  },
  {
   "cell_type": "markdown",
   "metadata": {},
   "source": [
    "It can be observed that the vehicle's camera frame `bcam` is indeed travelling through the world (registered point cloud). This observation can be proved because of the following screenshots\n",
    "\n",
    "1. `i = 0`: The vehicle can be seen in the starting pose\n",
    "\n",
    "    ![Pose at i = 0](./results/3/3/i1.jpg)\n",
    "\n",
    "2. `i = 10`: The vehicle can be seen making a right turn\n",
    "\n",
    "    ![Pose at i = 10](./results/3/3/i11.jpg)\n",
    "\n",
    "3. `i = 50`: The vehicle can be seen starting the straight segment\n",
    "\n",
    "    ![Pose at i = 50](./results/3/3/i51.jpg)\n",
    "\n",
    "4. `i = 76`: The vehicle can be seen at the last recorded pose\n",
    "\n",
    "    ![Pose at i = 76](./results/3/3/i77.jpg)\n",
    "\n",
    "> **Note**: The color of this is different because of the Z axis alignment of the camera frame. They may have to be colored, the object `o3d_pcds` inherently has no color."
   ]
  },
  {
   "cell_type": "markdown",
   "metadata": {},
   "source": [
    "# Occupancy Map\n",
    "\n",
    "Occupancy grid maps are discrete fine grain grid maps. These maps can be either 2-D or 3-D. Each cell in the occupancy grid map contains information on the physical objects present in the corresponding space. Since these maps shed light on what parts of the environment are occupied, and what is not, they are really useful for path planning and navigation.\n",
    "\n",
    "Occupancy grid maps are probabilistic in nature due to noisy measurements. Each cell can have three states: Occupied, unoccupied, and unknown. For the purpose of this assignment, you can ignore the unknown and work in a binary setting where 1 is occupied and 0 is unoccupied.\n",
    "\n",
    "1. The task here is to create an occupancy map for each LiDAR scan. You do not need to apply bayesian update rules here, just keep it simple. \n",
    "\n",
    "2. Now, using the *registered* point cloud, generate occupancy maps for each frame. What difference do you expect to see between the two methods?\n",
    "\n",
    "You can mark a cell as occupied based on a threshold of how many different z values are there for a particular (x,y) cell.\n"
   ]
  },
  {
   "cell_type": "markdown",
   "metadata": {},
   "source": [
    "## Answer 1: Visualizing Occupancy Map for Each LiDAR scan\n",
    "\n",
    "Adjust the properties for the particular frame to be visualized\n"
   ]
  },
  {
   "cell_type": "code",
   "execution_count": 27,
   "metadata": {},
   "outputs": [],
   "source": [
    "# Properties to be adjusted\n",
    "frame_num = 70  # Frame (or scan) number to visualize in image\n",
    "points_thresh = 10  # Number of points that mark a cell occupied\n",
    "grid_dx, grid_dy = 2.5, 2   # Grid sizes along X and Y axis\n",
    "gnd_lvl = -0.9  # Ground level (used for point thresholding in Z) (90 cm below bref)"
   ]
  },
  {
   "cell_type": "code",
   "execution_count": 28,
   "metadata": {},
   "outputs": [],
   "source": [
    "# Transformation of all points\n",
    "pc_fs_bld = pc_frames   # Point cloud in frames (list of ndarrays, N x 4)\n",
    "pc_hfs_bld = [   # A list of ndarrays, 4 x N - Homogeneous coordinates\n",
    "    np.vstack((\n",
    "        points[:, 0:3].T,\n",
    "        np.ones((1, points.shape[0]))\n",
    "    )) \\\n",
    "        for points in pc_fs_bld\n",
    "]\n",
    "# All points in the body reference frame\n",
    "pc_hfs_bref = [tf_bref_bld @ pts for pts in pc_hfs_bld]"
   ]
  },
  {
   "cell_type": "code",
   "execution_count": 29,
   "metadata": {},
   "outputs": [],
   "source": [
    "# Function to generate binary occupancy grid\n",
    "def bin_occ_grid_fm_pc(hpc, dx, dy, zthresh = 0.25):\n",
    "    \"\"\"\n",
    "    Generate occupancy grid for point clouds\n",
    "\n",
    "    Parameters:\n",
    "    - hpc: np.ndarray      shape: 4, N\n",
    "        Points (in homogenized form) in point cloud\n",
    "    \n",
    "    Returns:\n",
    "    \"\"\"\n",
    "    xmin = np.amin(hpc[0, :])\n",
    "    xmax = np.amax(hpc[0, :])\n",
    "    ymin = np.amin(hpc[1, :])\n",
    "    ymax = np.amax(hpc[1, :])\n",
    "    x_lines = np.arange(xmin, xmax, dx)\n",
    "    y_lines = np.arange(ymin, ymax, dy)\n",
    "    nx = x_lines.shape[0] - 1\n",
    "    ny = y_lines.shape[0] - 1\n",
    "    occ_map = np.zeros((nx, ny))\n",
    "    for ix in range(nx):\n",
    "        for iy in range(ny):\n",
    "            occ_map[ix, iy] = np.sum(\n",
    "                (hpc[0] > x_lines[ix]) & (hpc[0] < x_lines[ix+1]) & \\\n",
    "                (hpc[1] > y_lines[iy]) & (hpc[1] < y_lines[iy+1]) & \\\n",
    "                (hpc[2] > zthresh)\n",
    "            )\n",
    "    return occ_map, x_lines, y_lines"
   ]
  },
  {
   "cell_type": "code",
   "execution_count": 30,
   "metadata": {},
   "outputs": [
    {
     "name": "stdout",
     "output_type": "stream",
     "text": [
      "Occupancy grid of shape (X, Y) = (62, 48)\n",
      "Zero in 31, 23\n"
     ]
    }
   ],
   "source": [
    "o1, xv, yv = bin_occ_grid_fm_pc(pc_hfs_bref[frame_num], grid_dx, grid_dy, gnd_lvl)\n",
    "print(f\"Occupancy grid of shape (X, Y) = {o1.shape}\")\n",
    "# Find where (0, 0) (the vehicle) is\n",
    "zxi = np.argmax(xv > 0) - 1\n",
    "zyi = np.argmax(yv > 0) - 1\n",
    "print(f\"Zero in {zxi}, {zyi}\")"
   ]
  },
  {
   "cell_type": "code",
   "execution_count": 31,
   "metadata": {},
   "outputs": [
    {
     "name": "stdout",
     "output_type": "stream",
     "text": [
      "255 is free and 0 is occupied\n"
     ]
    },
    {
     "data": {
      "image/png": "[encoded data removed]",
      "text/plain": [
       "<Figure size 432x288 with 2 Axes>"
      ]
     },
     "metadata": {
      "needs_background": "light"
     },
     "output_type": "display_data"
    }
   ],
   "source": [
    "# white -> 1 (true) -> Free points; black -> 0 (false) -> Occupied points\n",
    "dimg = np.array((o1 < points_thresh) * 255, dtype=np.uint8)\n",
    "dimg = cv2.cvtColor(dimg, cv2.COLOR_GRAY2BGR)\n",
    "cv2.circle(dimg, (zyi, zxi), 1, (255, 0, 0), 1)\n",
    "print(\"255 is free and 0 is occupied\")\n",
    "plt.imshow(dimg, \n",
    "    extent=[yv[0], yv[-1], xv[-1], xv[0]], cmap=plt.cm.gray)\n",
    "plt.title(f\"Frame {frame_num}\")\n",
    "plt.colorbar()\n",
    "plt.xlabel(\"Y ->\")\n",
    "plt.ylabel(\"<- X\")\n",
    "plt.show()"
   ]
  },
  {
   "cell_type": "code",
   "execution_count": 32,
   "metadata": {},
   "outputs": [],
   "source": [
    "# Show the point cloud using Open3D\n",
    "o3d_pcds = o3d.geometry.PointCloud(\n",
    "    o3d.utility.Vector3dVector(pc_hfs_bref[frame_num][:3, :].T))\n",
    "o3d.visualization.draw_geometries([o3d_pcds, cf])"
   ]
  },
  {
   "cell_type": "markdown",
   "metadata": {},
   "source": [
    "### Inference\n",
    "\n",
    "The following inference can be made by using different values for `frame_num` in the cells above (for this answer).\n",
    "\n",
    "1. The occupancy grid has different size / shape, because it's discretized based on cell size and LiDAR scans can have varying ranges (according to the scene they're in).\n",
    "\n",
    "Some observations made\n",
    "\n",
    "1. If we choose `frame_num = 2` (3rd frame in trajectory). We get the following figure\n",
    "\n",
    "    ![Frame 3](./results/4/1/f2.png)\n",
    "\n",
    "    The corresponding point cloud can be observed from the cell directly above. It appears that the only way for the vehicle (red circle) to go forward was when taking a right turn. It appears that there is an elevated surface immediately ahead (seen as elevated in the point cloud below)\n",
    "\n",
    "    ![Frame 3 in Point Cloud](./results/4/1/f2-pc.jpg)\n",
    "\n",
    "2. If we choose `frame_num = 70` (71st frame in trajectory). We get the following figure\n",
    "\n",
    "    ![Frame 71](./results/4/1/f70.png)\n",
    "\n",
    "    You can spot the cars (probably on the road running beside) and other obstacles. The corresponding point cloud is shown below\n",
    "\n",
    "    ![Frame 71 in Point Cloud](./results/4/1/f70-pc.jpg)\n"
   ]
  },
  {
   "cell_type": "markdown",
   "metadata": {},
   "source": [
    "## Answer 2: Registered Point Cloud in each LiDAR scan\n",
    "\n",
    "First, let's compress and represent the map in `bref` of all odometry\n"
   ]
  },
  {
   "cell_type": "code",
   "execution_count": 33,
   "metadata": {},
   "outputs": [],
   "source": [
    "# Properties to be adjusted\n",
    "frame_num = 70  # Frame (or scan) number to visualize in image\n",
    "points_thresh = 10  # Number of points that mark a cell occupied\n",
    "grid_dx, grid_dy = 2.5, 2   # Grid sizes along X and Y axis\n",
    "gnd_lvl = -0.9  # Ground level (used for point thresholding in Z) (90 cm below bref)"
   ]
  },
  {
   "cell_type": "code",
   "execution_count": 34,
   "metadata": {},
   "outputs": [],
   "source": [
    "# All points in the map frame (gref)\n",
    "pc_map_gref = pcsh_gref   # Map (4 x N points), homogenized coordinates\n",
    "# Body odometry (all frames)\n",
    "tfs_osta_bodom = pose_matrices  # Odometry matrices: shape: (N, 4, 4)\n",
    "# Represent osta in each of bodom (inverse of above)\n",
    "tfs_bodom_osta = [inv_tf(tf_osbo) for tf_osbo in tfs_osta_bodom]\n",
    "tf_bref_bodom = tf_bref_bcam    # Represent bodom in bref (actual result) (4, 4)\n",
    "tf_gref_osta = tf_bref_bcam # Relation for expressing osta in gref (4, 4)\n",
    "tf_osta_gref = inv_tf(tf_gref_osta) # Represent gref in osta"
   ]
  },
  {
   "cell_type": "code",
   "execution_count": 102,
   "metadata": {},
   "outputs": [
    {
     "name": "stdout",
     "output_type": "stream",
     "text": [
      "Shrunk point cloud from 9413461 to 106286 points\n"
     ]
    }
   ],
   "source": [
    "# Down-sample the points\n",
    "o3d_pcds = o3d.geometry.PointCloud(o3d.utility.Vector3dVector(pc_map_gref[:3, :].T))\n",
    "# Downsample these 9M+ points\n",
    "o3d_pcds_comp = o3d_pcds.voxel_down_sample(0.6)\n",
    "n0 = len(o3d_pcds.points)\n",
    "n1 = len(o3d_pcds_comp.points)\n",
    "print(f\"Shrunk point cloud from {n0} to {n1} points\")\n",
    "# Store compressed point cloud (homogenized) - 4, N\n",
    "pc_compmap_gref = np.vstack((np.array(o3d_pcds_comp.points).T, np.ones((1, n1))))"
   ]
  },
  {
   "cell_type": "code",
   "execution_count": 103,
   "metadata": {},
   "outputs": [],
   "source": [
    "# Bring all points (compressed) in each of bref frame\n",
    "pcs_compmap_bref = [ tf_bref_bodom @ tfs_bodom_osta[i] \\\n",
    "    @ tf_osta_gref @ pc_compmap_gref \\\n",
    "    for i in range(len(tfs_bodom_osta)) ]"
   ]
  },
  {
   "cell_type": "markdown",
   "metadata": {},
   "source": [
    "### Visualize for the given frame\n",
    "\n",
    "Now that all the points have been transformed, visualize for the given frame\n"
   ]
  },
  {
   "cell_type": "code",
   "execution_count": 126,
   "metadata": {},
   "outputs": [],
   "source": [
    "# Properties to be adjusted\n",
    "frame_num = 2  # Frame (or scan) number to visualize in image\n",
    "points_thresh = 10  # Number of points that mark a cell occupied\n",
    "grid_dx, grid_dy = 2, 1.5   # Grid sizes along X and Y axis\n",
    "gnd_lvl = -0.9  # Ground level (used for point thresholding in Z) (90 cm below bref)"
   ]
  },
  {
   "cell_type": "code",
   "execution_count": 127,
   "metadata": {},
   "outputs": [
    {
     "name": "stdout",
     "output_type": "stream",
     "text": [
      "Occupancy grid of shape (X, Y) = (90, 157)\n",
      "Zero in 39, 105\n"
     ]
    }
   ],
   "source": [
    "# Create map to visualize (use the same function)\n",
    "o1, xv, yv = bin_occ_grid_fm_pc(pcs_compmap_bref[frame_num], \n",
    "    grid_dx, grid_dy, gnd_lvl)\n",
    "print(f\"Occupancy grid of shape (X, Y) = {o1.shape}\")\n",
    "# Find where (0, 0) (the vehicle) is\n",
    "zxi = np.argmax(xv > 0) - 1\n",
    "zyi = np.argmax(yv > 0) - 1\n",
    "print(f\"Zero in {zxi}, {zyi}\")"
   ]
  },
  {
   "cell_type": "code",
   "execution_count": 128,
   "metadata": {},
   "outputs": [
    {
     "name": "stdout",
     "output_type": "stream",
     "text": [
      "255 is free and 0 is occupied\n"
     ]
    },
    {
     "data": {
      "image/png": "[encoded data removed]",
      "text/plain": [
       "<Figure size 432x288 with 2 Axes>"
      ]
     },
     "metadata": {
      "needs_background": "light"
     },
     "output_type": "display_data"
    }
   ],
   "source": [
    "# white -> 1 (true) -> Free points; black -> 0 (false) -> Occupied points\n",
    "dimg = np.array((o1 < points_thresh) * 255, dtype=np.uint8)\n",
    "dimg = cv2.cvtColor(dimg, cv2.COLOR_GRAY2BGR)\n",
    "cv2.circle(dimg, (zyi, zxi), 1, (255, 0, 0), 1)\n",
    "print(\"255 is free and 0 is occupied\")\n",
    "plt.imshow(dimg, \n",
    "    extent=[yv[0], yv[-1], xv[-1], xv[0]], cmap=plt.cm.gray)\n",
    "plt.title(f\"Frame {frame_num}\")\n",
    "plt.colorbar()\n",
    "plt.xlabel(\"Y ->\")\n",
    "plt.ylabel(\"<- X\")\n",
    "plt.savefig(\"img1.png\", dpi=300)\n",
    "plt.show()"
   ]
  },
  {
   "cell_type": "code",
   "execution_count": 129,
   "metadata": {},
   "outputs": [],
   "source": [
    "# Show the point cloud using Open3D\n",
    "o3d_pcds = o3d.geometry.PointCloud(\n",
    "    o3d.utility.Vector3dVector(pcs_compmap_bref[frame_num][:3, :].T))\n",
    "o3d.visualization.draw_geometries([o3d_pcds, cf])\n"
   ]
  },
  {
   "cell_type": "markdown",
   "metadata": {},
   "source": [
    "### Inference\n",
    "\n",
    "The following inference can be made using different values for `frame_num` in the cells above.\n",
    "\n",
    "1. This occupancy map contains the entire map (all points clouds) in each frame.\n",
    "2. The occupancy grid is larger (because it now has the whole map). And it has different sizes (just like earlier), because of the pose in the environment (X and Y limits of the map vary accordingly).\n",
    "\n",
    "Some observations made\n",
    "\n",
    "1. If we choose `frame_num = 2` (3rd frame in trajectory). We get the following figure which seems as a superset of the earlier figure\n",
    "\n",
    "    ![Frame 3](./results/4/2/f2.png)\n",
    "\n",
    "    The corresponding point cloud can seen below. It is clear that the areas in black (in the image above) have a slightly more red point color (in the point cloud image below).\n",
    "\n",
    "    ![Frame 3 in Point Cloud](./results/4/2/f2-pc.jpg)\n",
    "\n",
    "2. If we choose `frame_num = 70` (71st frame in trajectory). We get the following figure\n",
    "\n",
    "    ![Frame 71](./results/4/2/f70.png)\n",
    "\n",
    "    The corresponding obstacles (probably bushes in the negative Y / right sided) are visible as more red points in the point cloud.\n",
    "\n",
    "    ![Frame 71 in Point Cloud](./results/4/2/f70-pc.jpg)"
   ]
  },
  {
   "cell_type": "code",
   "execution_count": null,
   "metadata": {},
   "outputs": [],
   "source": []
  }
 ],
 "metadata": {
  "interpreter": {
   "hash": "770248bf9a1b909bbf9023ec9b43954fabe81302bd1967e7be366e95c4251e76"
  },
  "kernelspec": {
   "display_name": "Python 3.8.0 64-bit ('mr-cs7-503': conda)",
   "name": "python3"
  },
  "language_info": {
   "codemirror_mode": {
    "name": "ipython",
    "version": 3
   },
   "file_extension": ".py",
   "mimetype": "text/x-python",
   "name": "python",
   "nbconvert_exporter": "python",
   "pygments_lexer": "ipython3",
   "version": "3.8.0"
  }
 },
 "nbformat": 4,
 "nbformat_minor": 5
}
